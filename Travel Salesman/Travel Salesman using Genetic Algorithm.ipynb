{
 "cells": [
  {
   "cell_type": "code",
   "execution_count": 1,
   "metadata": {},
   "outputs": [],
   "source": [
    "import numpy as np, random, operator, pandas as pd\n",
    "import matplotlib.pyplot as plt"
   ]
  },
  {
   "cell_type": "code",
   "execution_count": 2,
   "metadata": {},
   "outputs": [],
   "source": [
    "def create_starting_population(size,Number_of_city):\n",
    "    population = []\n",
    "    for i in range(0,size):\n",
    "        population.append(create_new_member(Number_of_city))\n",
    "        \n",
    "    return population"
   ]
  },
  {
   "cell_type": "code",
   "execution_count": 3,
   "metadata": {},
   "outputs": [],
   "source": [
    "def pick_mate(N):\n",
    "    i=random.randint(0,N)    \n",
    "    return i"
   ]
  },
  {
   "cell_type": "code",
   "execution_count": 4,
   "metadata": {},
   "outputs": [],
   "source": [
    "def distance(i,j):\n",
    "    #returning distance of city i and j \n",
    "    return np.sqrt((i[0]-j[0])**2 + (i[1]-j[1])**2)"
   ]
  },
  {
   "cell_type": "code",
   "execution_count": 5,
   "metadata": {},
   "outputs": [],
   "source": [
    "def score_population(population, CityList):  \n",
    "    scores = []\n",
    "  \n",
    "    for i in population:\n",
    "        #print(i)\n",
    "        scores.append(fitness(i, CityList))\n",
    "        #print([fitness(i, the_map)])\n",
    "    return scores"
   ]
  },
  {
   "cell_type": "code",
   "execution_count": 6,
   "metadata": {},
   "outputs": [],
   "source": [
    "def fitness(route,CityList):\n",
    "    #Calculate the fitness and return it.\n",
    "    score=0\n",
    "    #N_=len(route)\n",
    "    for i in range(1,len(route)):\n",
    "        k=int(route[i-1])\n",
    "        l=int(route[i])\n",
    "\n",
    "        score = score + distance(CityList[k],CityList[l])\n",
    "        \n",
    "        \n",
    "    return score"
   ]
  },
  {
   "cell_type": "code",
   "execution_count": 7,
   "metadata": {},
   "outputs": [],
   "source": [
    "def create_new_member(Number_of_city):\n",
    "    pop=set(np.arange(Number_of_city,dtype=int))\n",
    "    route=list(random.sample(pop,Number_of_city))\n",
    "            \n",
    "    return route"
   ]
  },
  {
   "cell_type": "code",
   "execution_count": 8,
   "metadata": {},
   "outputs": [],
   "source": [
    "def crossover(a,b):\n",
    "    child=[]\n",
    "    childA=[]\n",
    "    childB=[]\n",
    "    \n",
    "    \n",
    "    geneA=int(random.random()* len(a))\n",
    "    geneB=int(random.random()* len(a))\n",
    "    \n",
    "    start_gene=min(geneA,geneB)\n",
    "    end_gene=max(geneA,geneB)\n",
    "    \n",
    "    for i in range(start_gene,end_gene):\n",
    "        childA.append(a[i])\n",
    "        \n",
    "    childB=[item for item in a if item not in childA]\n",
    "    child=childA+childB\n",
    "    \n",
    "    return child"
   ]
  },
  {
   "cell_type": "code",
   "execution_count": 9,
   "metadata": {},
   "outputs": [],
   "source": [
    "def mutate(route,probablity):\n",
    "    #for mutating shuffling of the nodes is used\n",
    "    route=np.array(route)\n",
    "    for swaping_p in range(len(route)):\n",
    "        if(random.random() < probablity):\n",
    "            swapedWith = np.random.randint(0,len(route))\n",
    "            \n",
    "            temp1=route[swaping_p]\n",
    "            \n",
    "            temp2=route[swapedWith]\n",
    "            route[swapedWith]=temp1\n",
    "            route[swaping_p]=temp2\n",
    "    \n",
    "    return route"
   ]
  },
  {
   "cell_type": "code",
   "execution_count": 10,
   "metadata": {},
   "outputs": [],
   "source": [
    "def selection(popRanked, eliteSize):\n",
    "    selectionResults=[]\n",
    "    result=[]\n",
    "    for i in popRanked:\n",
    "        result.append(i[0])\n",
    "    for i in range(0,eliteSize):\n",
    "        selectionResults.append(result[i])\n",
    "    \n",
    "    return selectionResults"
   ]
  },
  {
   "cell_type": "code",
   "execution_count": 11,
   "metadata": {},
   "outputs": [],
   "source": [
    "def rankRoutes(population,City_List):\n",
    "    fitnessResults = {}\n",
    "    for i in range(0,len(population)):\n",
    "        fitnessResults[i] = fitness(population[i],City_List)\n",
    "    return sorted(fitnessResults.items(), key = operator.itemgetter(1), reverse = False)"
   ]
  },
  {
   "cell_type": "code",
   "execution_count": 12,
   "metadata": {},
   "outputs": [],
   "source": [
    "def breedPopulation(mating_pool):\n",
    "    children=[]\n",
    "    for i in range(len(mating_pool)-1):\n",
    "            children.append(crossover(mating_pool[i],mating_pool[i+1]))\n",
    "    return children"
   ]
  },
  {
   "cell_type": "code",
   "execution_count": 13,
   "metadata": {},
   "outputs": [],
   "source": [
    "def mutatePopulation(children,mutation_rate):\n",
    "    new_generation=[]\n",
    "    for i in children:\n",
    "        muated_child=mutate(i,mutation_rate)\n",
    "        new_generation.append(muated_child)\n",
    "    return new_generation"
   ]
  },
  {
   "cell_type": "code",
   "execution_count": 14,
   "metadata": {},
   "outputs": [],
   "source": [
    "def matingPool(population, selectionResults):\n",
    "    matingpool = []\n",
    "    for i in range(0, len(selectionResults)):\n",
    "        index = selectionResults[i]\n",
    "        matingpool.append(population[index])\n",
    "    return matingpool"
   ]
  },
  {
   "cell_type": "code",
   "execution_count": 15,
   "metadata": {},
   "outputs": [],
   "source": [
    "def next_generation(City_List,current_population,mutation_rate,elite_size):\n",
    "    population_rank=rankRoutes(current_population,City_List)\n",
    "    \n",
    "    #print(f\"population rank : {population_rank}\")\n",
    "    \n",
    "    selection_result=selection(population_rank,elite_size)\n",
    "    #print(f\"selection results {selection_result}\")\n",
    "    \n",
    "    mating_pool=matingPool(current_population,selection_result)\n",
    "    #print(f\"mating pool {mating_pool}\")\n",
    "    \n",
    "    children=breedPopulation(mating_pool)\n",
    "    #print(f\"childern {children}\")\n",
    "    \n",
    "    next_generation=mutatePopulation(children,mutation_rate)\n",
    "    #print(f\"next_generation {next_generation}\")\n",
    "    return next_generation"
   ]
  },
  {
   "cell_type": "code",
   "execution_count": 16,
   "metadata": {},
   "outputs": [],
   "source": [
    "\n",
    "def genetic_algorithm(City_List,size_population=1000,elite_size=75,mutation_Rate=0.01,generation=2000):\n",
    "    pop=[]\n",
    "    progress = []\n",
    "    \n",
    "    Number_of_cities=len(City_List)\n",
    "    \n",
    "    population=create_starting_population(size_population,Number_of_cities)\n",
    "    progress.append(rankRoutes(population,City_List)[0][1])\n",
    "    print(f\"initial route distance {progress[0]}\")\n",
    "    print(f\"initial route {population[0]}\")\n",
    "    for i in range(0,generation):\n",
    "        pop = next_generation(City_List,population,mutation_Rate,elite_size)\n",
    "        progress.append(rankRoutes(pop,City_List)[0][1])\n",
    "    \n",
    "    \n",
    "    rank_=rankRoutes(pop,City_List)[0]\n",
    "    \n",
    "    print(f\"Best Route :{pop[rank_[0]]} \")\n",
    "    print(f\"best route distance {rank_[1]}\")\n",
    "    plt.plot(progress)\n",
    "    plt.ylabel('Distance')\n",
    "    plt.xlabel('Generation')\n",
    "    plt.show()\n",
    "    \n",
    "    return rank_, pop"
   ]
  },
  {
   "cell_type": "code",
   "execution_count": 17,
   "metadata": {},
   "outputs": [],
   "source": [
    "cityList = []\n",
    "\n",
    "for i in range(0,25):\n",
    "    x=int(random.random() * 200)\n",
    "    y=int(random.random() * 200)\n",
    "    cityList.append((x,y))"
   ]
  },
  {
   "cell_type": "code",
   "execution_count": 18,
   "metadata": {},
   "outputs": [
    {
     "name": "stdout",
     "output_type": "stream",
     "text": [
      "initial route distance 1899.449456641244\n",
      "initial route [20, 16, 0, 17, 8, 2, 9, 6, 19, 4, 10, 14, 21, 13, 24, 5, 22, 18, 1, 12, 3, 23, 11, 7, 15]\n",
      "Best Route :[ 2  8 12 22 19 18 23 10 13  1 15  0  5 17  7 16 24  9 20  3 11  6 14 21\n",
      "  4] \n",
      "best route distance 1913.1171933035052\n"
     ]
    },
    {
     "data": {
      "image/png": "[encoded data removed]",
      "text/plain": [
       "<Figure size 432x288 with 1 Axes>"
      ]
     },
     "metadata": {
      "needs_background": "light"
     },
     "output_type": "display_data"
    }
   ],
   "source": [
    "rank_,pop=genetic_algorithm(City_List=cityList)"
   ]
  },
  {
   "cell_type": "code",
   "execution_count": 19,
   "metadata": {},
   "outputs": [],
   "source": [
    "x_axis=[]\n",
    "y_axis=[]\n",
    "for i in cityList:\n",
    "    x_axis.append(i[0])\n",
    "    y_axis.append(i[1])"
   ]
  },
  {
   "cell_type": "code",
   "execution_count": 20,
   "metadata": {},
   "outputs": [
    {
     "data": {
      "image/png": "[encoded data removed]",
      "text/plain": [
       "<Figure size 432x288 with 1 Axes>"
      ]
     },
     "metadata": {
      "needs_background": "light"
     },
     "output_type": "display_data"
    }
   ],
   "source": [
    "plt.scatter(x_axis,y_axis)\n",
    "plt.show()"
   ]
  },
  {
   "cell_type": "code",
   "execution_count": null,
   "metadata": {},
   "outputs": [],
   "source": []
  }
 ],
 "metadata": {
  "kernelspec": {
   "display_name": "Python 3",
   "language": "python",
   "name": "python3"
  },
  "language_info": {
   "codemirror_mode": {
    "name": "ipython",
    "version": 3
   },
   "file_extension": ".py",
   "mimetype": "text/x-python",
   "name": "python",
   "nbconvert_exporter": "python",
   "pygments_lexer": "ipython3",
   "version": "3.7.4"
  }
 },
 "nbformat": 4,
 "nbformat_minor": 2
}
