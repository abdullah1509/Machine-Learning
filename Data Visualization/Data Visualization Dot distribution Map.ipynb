{
 "cells": [
  {
   "cell_type": "markdown",
   "metadata": {},
   "source": [
    "### Using Plotly"
   ]
  },
  {
   "cell_type": "code",
   "execution_count": 1,
   "metadata": {},
   "outputs": [
    {
     "data": {
      "text/html": [
       "<div>\n",
       "<style scoped>\n",
       "    .dataframe tbody tr th:only-of-type {\n",
       "        vertical-align: middle;\n",
       "    }\n",
       "\n",
       "    .dataframe tbody tr th {\n",
       "        vertical-align: top;\n",
       "    }\n",
       "\n",
       "    .dataframe thead th {\n",
       "        text-align: right;\n",
       "    }\n",
       "</style>\n",
       "<table border=\"1\" class=\"dataframe\">\n",
       "  <thead>\n",
       "    <tr style=\"text-align: right;\">\n",
       "      <th></th>\n",
       "      <th>Country Name</th>\n",
       "      <th>Country Code</th>\n",
       "      <th>2010</th>\n",
       "      <th>2011</th>\n",
       "      <th>2012</th>\n",
       "      <th>2013</th>\n",
       "      <th>2014</th>\n",
       "    </tr>\n",
       "  </thead>\n",
       "  <tbody>\n",
       "    <tr>\n",
       "      <td>0</td>\n",
       "      <td>Afghanistan</td>\n",
       "      <td>AFG</td>\n",
       "      <td>20.600000</td>\n",
       "      <td>20.900000</td>\n",
       "      <td>19.700001</td>\n",
       "      <td>21.100000</td>\n",
       "      <td>20.799999</td>\n",
       "    </tr>\n",
       "    <tr>\n",
       "      <td>1</td>\n",
       "      <td>Angola</td>\n",
       "      <td>AGO</td>\n",
       "      <td>10.800000</td>\n",
       "      <td>10.700000</td>\n",
       "      <td>10.700000</td>\n",
       "      <td>10.600000</td>\n",
       "      <td>10.500000</td>\n",
       "    </tr>\n",
       "    <tr>\n",
       "      <td>2</td>\n",
       "      <td>Albania</td>\n",
       "      <td>ALB</td>\n",
       "      <td>25.799999</td>\n",
       "      <td>27.000000</td>\n",
       "      <td>28.299999</td>\n",
       "      <td>28.700001</td>\n",
       "      <td>29.200001</td>\n",
       "    </tr>\n",
       "    <tr>\n",
       "      <td>3</td>\n",
       "      <td>Arab World</td>\n",
       "      <td>ARB</td>\n",
       "      <td>25.022214</td>\n",
       "      <td>28.117516</td>\n",
       "      <td>29.113212</td>\n",
       "      <td>29.335306</td>\n",
       "      <td>29.704569</td>\n",
       "    </tr>\n",
       "    <tr>\n",
       "      <td>4</td>\n",
       "      <td>United Arab Emirates</td>\n",
       "      <td>ARE</td>\n",
       "      <td>9.800000</td>\n",
       "      <td>9.800000</td>\n",
       "      <td>9.800000</td>\n",
       "      <td>9.900000</td>\n",
       "      <td>10.000000</td>\n",
       "    </tr>\n",
       "  </tbody>\n",
       "</table>\n",
       "</div>"
      ],
      "text/plain": [
       "           Country Name Country Code       2010       2011       2012  \\\n",
       "0           Afghanistan          AFG  20.600000  20.900000  19.700001   \n",
       "1                Angola          AGO  10.800000  10.700000  10.700000   \n",
       "2               Albania          ALB  25.799999  27.000000  28.299999   \n",
       "3            Arab World          ARB  25.022214  28.117516  29.113212   \n",
       "4  United Arab Emirates          ARE   9.800000   9.800000   9.800000   \n",
       "\n",
       "        2013       2014  \n",
       "0  21.100000  20.799999  \n",
       "1  10.600000  10.500000  \n",
       "2  28.700001  29.200001  \n",
       "3  29.335306  29.704569  \n",
       "4   9.900000  10.000000  "
      ]
     },
     "execution_count": 1,
     "metadata": {},
     "output_type": "execute_result"
    }
   ],
   "source": [
    "import pandas as pd\n",
    "data = pd.read_csv('API_ILO_country_YU.csv')\n",
    "data.head()"
   ]
  },
  {
   "cell_type": "code",
   "execution_count": 4,
   "metadata": {},
   "outputs": [
    {
     "data": {
      "application/vnd.plotly.v1+json": {
       "config": {
        "plotlyServerURL": "https://plot.ly"
       },
       "data": [
        {
         "geo": "geo",
         "hovertemplate": "<b>%{hovertext}</b><br><br>Country Code=AFG<br>2014=%{marker.size}<br>Country Name=%{location}<extra></extra>",
         "hovertext": [
          20.7999992371
         ],
         "legendgroup": "AFG",
         "locations": [
          "Afghanistan"
         ],
         "marker": {
          "color": "#636efa",
          "size": [
           20.7999992371
          ],
          "sizemode": "area",
          "sizeref": 0.14475000381475,
          "symbol": "circle"
         },
         "mode": "markers",
         "name": "AFG",
         "showlegend": true,
         "type": "scattergeo"
        },
        {
         "geo": "geo",
         "hovertemplate": "<b>%{hovertext}</b><br><br>Country Code=AGO<br>2014=%{marker.size}<br>Country Name=%{location}<extra></extra>",
         "hovertext": [
          10.5
         ],
         "legendgroup": "AGO",
         "locations": [
          "Angola"
         ],
         "marker": {
          "color": "#EF553B",
          "size": [
           10.5
          ],
          "sizemode": "area",
          "sizeref": 0.14475000381475,
          "symbol": "circle"
         },
         "mode": "markers",
         "name": "AGO",
         "showlegend": true,
         "type": "scattergeo"
        },
        {
         "geo": "geo",
         "hovertemplate": "<b>%{hovertext}</b><br><br>Country Code=ALB<br>2014=%{marker.size}<br>Country Name=%{location}<extra></extra>",
         "hovertext": [
          29.2000007629
         ],
         "legendgroup": "ALB",
         "locations": [
          "Albania"
         ],
         "marker": {
          "color": "#00cc96",
          "size": [
           29.2000007629
          ],
          "sizemode": "area",
          "sizeref": 0.14475000381475,
          "symbol": "circle"
         },
         "mode": "markers",
         "name": "ALB",
         "showlegend": true,
         "type": "scattergeo"
        },
        {
         "geo": "geo",
         "hovertemplate": "<b>%{hovertext}</b><br><br>Country Code=ARB<br>2014=%{marker.size}<br>Country Name=%{location}<extra></extra>",
         "hovertext": [
          29.7045691168
         ],
         "legendgroup": "ARB",
         "locations": [
          "Arab World"
         ],
         "marker": {
          "color": "#ab63fa",
          "size": [
           29.7045691168
          ],
          "sizemode": "area",
          "sizeref": 0.14475000381475,
          "symbol": "circle"
         },
         "mode": "markers",
         "name": "ARB",
         "showlegend": true,
         "type": "scattergeo"
        },
        {
         "geo": "geo",
         "hovertemplate": "<b>%{hovertext}</b><br><br>Country Code=ARE<br>2014=%{marker.size}<br>Country Name=%{location}<extra></extra>",
         "hovertext": [
          10
         ],
         "legendgroup": "ARE",
         "locations": [
          "United Arab Emirates"
         ],
         "marker": {
          "color": "#FFA15A",
          "size": [
           10
          ],
          "sizemode": "area",
          "sizeref": 0.14475000381475,
          "symbol": "circle"
         },
         "mode": "markers",
         "name": "ARE",
         "showlegend": true,
         "type": "scattergeo"
        },
        {
         "geo": "geo",
         "hovertemplate": "<b>%{hovertext}</b><br><br>Country Code=ARG<br>2014=%{marker.size}<br>Country Name=%{location}<extra></extra>",
         "hovertext": [
          21.2999992371
         ],
         "legendgroup": "ARG",
         "locations": [
          "Argentina"
         ],
         "marker": {
          "color": "#19d3f3",
          "size": [
           21.2999992371
          ],
          "sizemode": "area",
          "sizeref": 0.14475000381475,
          "symbol": "circle"
         },
         "mode": "markers",
         "name": "ARG",
         "showlegend": true,
         "type": "scattergeo"
        },
        {
         "geo": "geo",
         "hovertemplate": "<b>%{hovertext}</b><br><br>Country Code=ARM<br>2014=%{marker.size}<br>Country Name=%{location}<extra></extra>",
         "hovertext": [
          35.0999984741
         ],
         "legendgroup": "ARM",
         "locations": [
          "Armenia"
         ],
         "marker": {
          "color": "#FF6692",
          "size": [
           35.0999984741
          ],
          "sizemode": "area",
          "sizeref": 0.14475000381475,
          "symbol": "circle"
         },
         "mode": "markers",
         "name": "ARM",
         "showlegend": true,
         "type": "scattergeo"
        },
        {
         "geo": "geo",
         "hovertemplate": "<b>%{hovertext}</b><br><br>Country Code=AUS<br>2014=%{marker.size}<br>Country Name=%{location}<extra></extra>",
         "hovertext": [
          13.100000381500001
         ],
         "legendgroup": "AUS",
         "locations": [
          "Australia"
         ],
         "marker": {
          "color": "#B6E880",
          "size": [
           13.100000381500001
          ],
          "sizemode": "area",
          "sizeref": 0.14475000381475,
          "symbol": "circle"
         },
         "mode": "markers",
         "name": "AUS",
         "showlegend": true,
         "type": "scattergeo"
        },
        {
         "geo": "geo",
         "hovertemplate": "<b>%{hovertext}</b><br><br>Country Code=AUT<br>2014=%{marker.size}<br>Country Name=%{location}<extra></extra>",
         "hovertext": [
          9.1999998093
         ],
         "legendgroup": "AUT",
         "locations": [
          "Austria"
         ],
         "marker": {
          "color": "#FF97FF",
          "size": [
           9.1999998093
          ],
          "sizemode": "area",
          "sizeref": 0.14475000381475,
          "symbol": "circle"
         },
         "mode": "markers",
         "name": "AUT",
         "showlegend": true,
         "type": "scattergeo"
        },
        {
         "geo": "geo",
         "hovertemplate": "<b>%{hovertext}</b><br><br>Country Code=AZE<br>2014=%{marker.size}<br>Country Name=%{location}<extra></extra>",
         "hovertext": [
          13.600000381500001
         ],
         "legendgroup": "AZE",
         "locations": [
          "Azerbaijan"
         ],
         "marker": {
          "color": "#FECB52",
          "size": [
           13.600000381500001
          ],
          "sizemode": "area",
          "sizeref": 0.14475000381475,
          "symbol": "circle"
         },
         "mode": "markers",
         "name": "AZE",
         "showlegend": true,
         "type": "scattergeo"
        },
        {
         "geo": "geo",
         "hovertemplate": "<b>%{hovertext}</b><br><br>Country Code=BDI<br>2014=%{marker.size}<br>Country Name=%{location}<extra></extra>",
         "hovertext": [
          10.6999998093
         ],
         "legendgroup": "BDI",
         "locations": [
          "Burundi"
         ],
         "marker": {
          "color": "#636efa",
          "size": [
           10.6999998093
          ],
          "sizemode": "area",
          "sizeref": 0.14475000381475,
          "symbol": "circle"
         },
         "mode": "markers",
         "name": "BDI",
         "showlegend": true,
         "type": "scattergeo"
        },
        {
         "geo": "geo",
         "hovertemplate": "<b>%{hovertext}</b><br><br>Country Code=BEL<br>2014=%{marker.size}<br>Country Name=%{location}<extra></extra>",
         "hovertext": [
          23.6000003815
         ],
         "legendgroup": "BEL",
         "locations": [
          "Belgium"
         ],
         "marker": {
          "color": "#EF553B",
          "size": [
           23.6000003815
          ],
          "sizemode": "area",
          "sizeref": 0.14475000381475,
          "symbol": "circle"
         },
         "mode": "markers",
         "name": "BEL",
         "showlegend": true,
         "type": "scattergeo"
        },
        {
         "geo": "geo",
         "hovertemplate": "<b>%{hovertext}</b><br><br>Country Code=BEN<br>2014=%{marker.size}<br>Country Name=%{location}<extra></extra>",
         "hovertext": [
          1.7000000477000001
         ],
         "legendgroup": "BEN",
         "locations": [
          "Benin"
         ],
         "marker": {
          "color": "#00cc96",
          "size": [
           1.7000000477000001
          ],
          "sizemode": "area",
          "sizeref": 0.14475000381475,
          "symbol": "circle"
         },
         "mode": "markers",
         "name": "BEN",
         "showlegend": true,
         "type": "scattergeo"
        },
        {
         "geo": "geo",
         "hovertemplate": "<b>%{hovertext}</b><br><br>Country Code=BFA<br>2014=%{marker.size}<br>Country Name=%{location}<extra></extra>",
         "hovertext": [
          5
         ],
         "legendgroup": "BFA",
         "locations": [
          "Burkina Faso"
         ],
         "marker": {
          "color": "#ab63fa",
          "size": [
           5
          ],
          "sizemode": "area",
          "sizeref": 0.14475000381475,
          "symbol": "circle"
         },
         "mode": "markers",
         "name": "BFA",
         "showlegend": true,
         "type": "scattergeo"
        },
        {
         "geo": "geo",
         "hovertemplate": "<b>%{hovertext}</b><br><br>Country Code=BGD<br>2014=%{marker.size}<br>Country Name=%{location}<extra></extra>",
         "hovertext": [
          9.1000003815
         ],
         "legendgroup": "BGD",
         "locations": [
          "Bangladesh"
         ],
         "marker": {
          "color": "#FFA15A",
          "size": [
           9.1000003815
          ],
          "sizemode": "area",
          "sizeref": 0.14475000381475,
          "symbol": "circle"
         },
         "mode": "markers",
         "name": "BGD",
         "showlegend": true,
         "type": "scattergeo"
        },
        {
         "geo": "geo",
         "hovertemplate": "<b>%{hovertext}</b><br><br>Country Code=BGR<br>2014=%{marker.size}<br>Country Name=%{location}<extra></extra>",
         "hovertext": [
          25.8999996185
         ],
         "legendgroup": "BGR",
         "locations": [
          "Bulgaria"
         ],
         "marker": {
          "color": "#19d3f3",
          "size": [
           25.8999996185
          ],
          "sizemode": "area",
          "sizeref": 0.14475000381475,
          "symbol": "circle"
         },
         "mode": "markers",
         "name": "BGR",
         "showlegend": true,
         "type": "scattergeo"
        },
        {
         "geo": "geo",
         "hovertemplate": "<b>%{hovertext}</b><br><br>Country Code=BHR<br>2014=%{marker.size}<br>Country Name=%{location}<extra></extra>",
         "hovertext": [
          10.899999618499999
         ],
         "legendgroup": "BHR",
         "locations": [
          "Bahrain"
         ],
         "marker": {
          "color": "#FF6692",
          "size": [
           10.899999618499999
          ],
          "sizemode": "area",
          "sizeref": 0.14475000381475,
          "symbol": "circle"
         },
         "mode": "markers",
         "name": "BHR",
         "showlegend": true,
         "type": "scattergeo"
        },
        {
         "geo": "geo",
         "hovertemplate": "<b>%{hovertext}</b><br><br>Country Code=BHS<br>2014=%{marker.size}<br>Country Name=%{location}<extra></extra>",
         "hovertext": [
          30.1000003815
         ],
         "legendgroup": "BHS",
         "locations": [
          "Bahamas, The"
         ],
         "marker": {
          "color": "#B6E880",
          "size": [
           30.1000003815
          ],
          "sizemode": "area",
          "sizeref": 0.14475000381475,
          "symbol": "circle"
         },
         "mode": "markers",
         "name": "BHS",
         "showlegend": true,
         "type": "scattergeo"
        },
        {
         "geo": "geo",
         "hovertemplate": "<b>%{hovertext}</b><br><br>Country Code=BIH<br>2014=%{marker.size}<br>Country Name=%{location}<extra></extra>",
         "hovertext": [
          57.5
         ],
         "legendgroup": "BIH",
         "locations": [
          "Bosnia and Herzegovina"
         ],
         "marker": {
          "color": "#FF97FF",
          "size": [
           57.5
          ],
          "sizemode": "area",
          "sizeref": 0.14475000381475,
          "symbol": "circle"
         },
         "mode": "markers",
         "name": "BIH",
         "showlegend": true,
         "type": "scattergeo"
        },
        {
         "geo": "geo",
         "hovertemplate": "<b>%{hovertext}</b><br><br>Country Code=BLR<br>2014=%{marker.size}<br>Country Name=%{location}<extra></extra>",
         "hovertext": [
          12
         ],
         "legendgroup": "BLR",
         "locations": [
          "Belarus"
         ],
         "marker": {
          "color": "#FECB52",
          "size": [
           12
          ],
          "sizemode": "area",
          "sizeref": 0.14475000381475,
          "symbol": "circle"
         },
         "mode": "markers",
         "name": "BLR",
         "showlegend": true,
         "type": "scattergeo"
        },
        {
         "geo": "geo",
         "hovertemplate": "<b>%{hovertext}</b><br><br>Country Code=BLZ<br>2014=%{marker.size}<br>Country Name=%{location}<extra></extra>",
         "hovertext": [
          22
         ],
         "legendgroup": "BLZ",
         "locations": [
          "Belize"
         ],
         "marker": {
          "color": "#636efa",
          "size": [
           22
          ],
          "sizemode": "area",
          "sizeref": 0.14475000381475,
          "symbol": "circle"
         },
         "mode": "markers",
         "name": "BLZ",
         "showlegend": true,
         "type": "scattergeo"
        },
        {
         "geo": "geo",
         "hovertemplate": "<b>%{hovertext}</b><br><br>Country Code=BOL<br>2014=%{marker.size}<br>Country Name=%{location}<extra></extra>",
         "hovertext": [
          5.1999998093
         ],
         "legendgroup": "BOL",
         "locations": [
          "Bolivia"
         ],
         "marker": {
          "color": "#EF553B",
          "size": [
           5.1999998093
          ],
          "sizemode": "area",
          "sizeref": 0.14475000381475,
          "symbol": "circle"
         },
         "mode": "markers",
         "name": "BOL",
         "showlegend": true,
         "type": "scattergeo"
        },
        {
         "geo": "geo",
         "hovertemplate": "<b>%{hovertext}</b><br><br>Country Code=BRA<br>2014=%{marker.size}<br>Country Name=%{location}<extra></extra>",
         "hovertext": [
          15.199999809300001
         ],
         "legendgroup": "BRA",
         "locations": [
          "Brazil"
         ],
         "marker": {
          "color": "#00cc96",
          "size": [
           15.199999809300001
          ],
          "sizemode": "area",
          "sizeref": 0.14475000381475,
          "symbol": "circle"
         },
         "mode": "markers",
         "name": "BRA",
         "showlegend": true,
         "type": "scattergeo"
        },
        {
         "geo": "geo",
         "hovertemplate": "<b>%{hovertext}</b><br><br>Country Code=BRB<br>2014=%{marker.size}<br>Country Name=%{location}<extra></extra>",
         "hovertext": [
          26.7999992371
         ],
         "legendgroup": "BRB",
         "locations": [
          "Barbados"
         ],
         "marker": {
          "color": "#ab63fa",
          "size": [
           26.7999992371
          ],
          "sizemode": "area",
          "sizeref": 0.14475000381475,
          "symbol": "circle"
         },
         "mode": "markers",
         "name": "BRB",
         "showlegend": true,
         "type": "scattergeo"
        },
        {
         "geo": "geo",
         "hovertemplate": "<b>%{hovertext}</b><br><br>Country Code=BRN<br>2014=%{marker.size}<br>Country Name=%{location}<extra></extra>",
         "hovertext": [
          11.100000381500001
         ],
         "legendgroup": "BRN",
         "locations": [
          "Brunei Darussalam"
         ],
         "marker": {
          "color": "#FFA15A",
          "size": [
           11.100000381500001
          ],
          "sizemode": "area",
          "sizeref": 0.14475000381475,
          "symbol": "circle"
         },
         "mode": "markers",
         "name": "BRN",
         "showlegend": true,
         "type": "scattergeo"
        },
        {
         "geo": "geo",
         "hovertemplate": "<b>%{hovertext}</b><br><br>Country Code=BTN<br>2014=%{marker.size}<br>Country Name=%{location}<extra></extra>",
         "hovertext": [
          10
         ],
         "legendgroup": "BTN",
         "locations": [
          "Bhutan"
         ],
         "marker": {
          "color": "#19d3f3",
          "size": [
           10
          ],
          "sizemode": "area",
          "sizeref": 0.14475000381475,
          "symbol": "circle"
         },
         "mode": "markers",
         "name": "BTN",
         "showlegend": true,
         "type": "scattergeo"
        },
        {
         "geo": "geo",
         "hovertemplate": "<b>%{hovertext}</b><br><br>Country Code=BWA<br>2014=%{marker.size}<br>Country Name=%{location}<extra></extra>",
         "hovertext": [
          33.9000015259
         ],
         "legendgroup": "BWA",
         "locations": [
          "Botswana"
         ],
         "marker": {
          "color": "#FF6692",
          "size": [
           33.9000015259
          ],
          "sizemode": "area",
          "sizeref": 0.14475000381475,
          "symbol": "circle"
         },
         "mode": "markers",
         "name": "BWA",
         "showlegend": true,
         "type": "scattergeo"
        },
        {
         "geo": "geo",
         "hovertemplate": "<b>%{hovertext}</b><br><br>Country Code=CAF<br>2014=%{marker.size}<br>Country Name=%{location}<extra></extra>",
         "hovertext": [
          11.899999618499999
         ],
         "legendgroup": "CAF",
         "locations": [
          "Central African Republic"
         ],
         "marker": {
          "color": "#B6E880",
          "size": [
           11.899999618499999
          ],
          "sizemode": "area",
          "sizeref": 0.14475000381475,
          "symbol": "circle"
         },
         "mode": "markers",
         "name": "CAF",
         "showlegend": true,
         "type": "scattergeo"
        },
        {
         "geo": "geo",
         "hovertemplate": "<b>%{hovertext}</b><br><br>Country Code=CAN<br>2014=%{marker.size}<br>Country Name=%{location}<extra></extra>",
         "hovertext": [
          13.399999618499999
         ],
         "legendgroup": "CAN",
         "locations": [
          "Canada"
         ],
         "marker": {
          "color": "#FF97FF",
          "size": [
           13.399999618499999
          ],
          "sizemode": "area",
          "sizeref": 0.14475000381475,
          "symbol": "circle"
         },
         "mode": "markers",
         "name": "CAN",
         "showlegend": true,
         "type": "scattergeo"
        },
        {
         "geo": "geo",
         "hovertemplate": "<b>%{hovertext}</b><br><br>Country Code=CEB<br>2014=%{marker.size}<br>Country Name=%{location}<extra></extra>",
         "hovertext": [
          24.326735182600004
         ],
         "legendgroup": "CEB",
         "locations": [
          "Central Europe and the Baltics"
         ],
         "marker": {
          "color": "#FECB52",
          "size": [
           24.326735182600004
          ],
          "sizemode": "area",
          "sizeref": 0.14475000381475,
          "symbol": "circle"
         },
         "mode": "markers",
         "name": "CEB",
         "showlegend": true,
         "type": "scattergeo"
        },
        {
         "geo": "geo",
         "hovertemplate": "<b>%{hovertext}</b><br><br>Country Code=CHE<br>2014=%{marker.size}<br>Country Name=%{location}<extra></extra>",
         "hovertext": [
          8.6999998093
         ],
         "legendgroup": "CHE",
         "locations": [
          "Switzerland"
         ],
         "marker": {
          "color": "#636efa",
          "size": [
           8.6999998093
          ],
          "sizemode": "area",
          "sizeref": 0.14475000381475,
          "symbol": "circle"
         },
         "mode": "markers",
         "name": "CHE",
         "showlegend": true,
         "type": "scattergeo"
        },
        {
         "geo": "geo",
         "hovertemplate": "<b>%{hovertext}</b><br><br>Country Code=CHL<br>2014=%{marker.size}<br>Country Name=%{location}<extra></extra>",
         "hovertext": [
          16.3999996185
         ],
         "legendgroup": "CHL",
         "locations": [
          "Chile"
         ],
         "marker": {
          "color": "#EF553B",
          "size": [
           16.3999996185
          ],
          "sizemode": "area",
          "sizeref": 0.14475000381475,
          "symbol": "circle"
         },
         "mode": "markers",
         "name": "CHL",
         "showlegend": true,
         "type": "scattergeo"
        },
        {
         "geo": "geo",
         "hovertemplate": "<b>%{hovertext}</b><br><br>Country Code=CHN<br>2014=%{marker.size}<br>Country Name=%{location}<extra></extra>",
         "hovertext": [
          10.5
         ],
         "legendgroup": "CHN",
         "locations": [
          "China"
         ],
         "marker": {
          "color": "#00cc96",
          "size": [
           10.5
          ],
          "sizemode": "area",
          "sizeref": 0.14475000381475,
          "symbol": "circle"
         },
         "mode": "markers",
         "name": "CHN",
         "showlegend": true,
         "type": "scattergeo"
        },
        {
         "geo": "geo",
         "hovertemplate": "<b>%{hovertext}</b><br><br>Country Code=CIV<br>2014=%{marker.size}<br>Country Name=%{location}<extra></extra>",
         "hovertext": [
          5.8000001907000005
         ],
         "legendgroup": "CIV",
         "locations": [
          "Cote d'Ivoire"
         ],
         "marker": {
          "color": "#ab63fa",
          "size": [
           5.8000001907000005
          ],
          "sizemode": "area",
          "sizeref": 0.14475000381475,
          "symbol": "circle"
         },
         "mode": "markers",
         "name": "CIV",
         "showlegend": true,
         "type": "scattergeo"
        },
        {
         "geo": "geo",
         "hovertemplate": "<b>%{hovertext}</b><br><br>Country Code=CMR<br>2014=%{marker.size}<br>Country Name=%{location}<extra></extra>",
         "hovertext": [
          6.6999998092999995
         ],
         "legendgroup": "CMR",
         "locations": [
          "Cameroon"
         ],
         "marker": {
          "color": "#FFA15A",
          "size": [
           6.6999998092999995
          ],
          "sizemode": "area",
          "sizeref": 0.14475000381475,
          "symbol": "circle"
         },
         "mode": "markers",
         "name": "CMR",
         "showlegend": true,
         "type": "scattergeo"
        },
        {
         "geo": "geo",
         "hovertemplate": "<b>%{hovertext}</b><br><br>Country Code=COG<br>2014=%{marker.size}<br>Country Name=%{location}<extra></extra>",
         "hovertext": [
          10.6999998093
         ],
         "legendgroup": "COG",
         "locations": [
          "Congo, Rep."
         ],
         "marker": {
          "color": "#19d3f3",
          "size": [
           10.6999998093
          ],
          "sizemode": "area",
          "sizeref": 0.14475000381475,
          "symbol": "circle"
         },
         "mode": "markers",
         "name": "COG",
         "showlegend": true,
         "type": "scattergeo"
        },
        {
         "geo": "geo",
         "hovertemplate": "<b>%{hovertext}</b><br><br>Country Code=COL<br>2014=%{marker.size}<br>Country Name=%{location}<extra></extra>",
         "hovertext": [
          18.8999996185
         ],
         "legendgroup": "COL",
         "locations": [
          "Colombia"
         ],
         "marker": {
          "color": "#FF6692",
          "size": [
           18.8999996185
          ],
          "sizemode": "area",
          "sizeref": 0.14475000381475,
          "symbol": "circle"
         },
         "mode": "markers",
         "name": "COL",
         "showlegend": true,
         "type": "scattergeo"
        },
        {
         "geo": "geo",
         "hovertemplate": "<b>%{hovertext}</b><br><br>Country Code=COM<br>2014=%{marker.size}<br>Country Name=%{location}<extra></extra>",
         "hovertext": [
          10.6000003815
         ],
         "legendgroup": "COM",
         "locations": [
          "Comoros"
         ],
         "marker": {
          "color": "#B6E880",
          "size": [
           10.6000003815
          ],
          "sizemode": "area",
          "sizeref": 0.14475000381475,
          "symbol": "circle"
         },
         "mode": "markers",
         "name": "COM",
         "showlegend": true,
         "type": "scattergeo"
        },
        {
         "geo": "geo",
         "hovertemplate": "<b>%{hovertext}</b><br><br>Country Code=CPV<br>2014=%{marker.size}<br>Country Name=%{location}<extra></extra>",
         "hovertext": [
          18.7999992371
         ],
         "legendgroup": "CPV",
         "locations": [
          "Cabo Verde"
         ],
         "marker": {
          "color": "#FF97FF",
          "size": [
           18.7999992371
          ],
          "sizemode": "area",
          "sizeref": 0.14475000381475,
          "symbol": "circle"
         },
         "mode": "markers",
         "name": "CPV",
         "showlegend": true,
         "type": "scattergeo"
        },
        {
         "geo": "geo",
         "hovertemplate": "<b>%{hovertext}</b><br><br>Country Code=CRI<br>2014=%{marker.size}<br>Country Name=%{location}<extra></extra>",
         "hovertext": [
          19.2000007629
         ],
         "legendgroup": "CRI",
         "locations": [
          "Costa Rica"
         ],
         "marker": {
          "color": "#FECB52",
          "size": [
           19.2000007629
          ],
          "sizemode": "area",
          "sizeref": 0.14475000381475,
          "symbol": "circle"
         },
         "mode": "markers",
         "name": "CRI",
         "showlegend": true,
         "type": "scattergeo"
        },
        {
         "geo": "geo",
         "hovertemplate": "<b>%{hovertext}</b><br><br>Country Code=CSS<br>2014=%{marker.size}<br>Country Name=%{location}<extra></extra>",
         "hovertext": [
          24.5967753715
         ],
         "legendgroup": "CSS",
         "locations": [
          "Caribbean small states"
         ],
         "marker": {
          "color": "#636efa",
          "size": [
           24.5967753715
          ],
          "sizemode": "area",
          "sizeref": 0.14475000381475,
          "symbol": "circle"
         },
         "mode": "markers",
         "name": "CSS",
         "showlegend": true,
         "type": "scattergeo"
        },
        {
         "geo": "geo",
         "hovertemplate": "<b>%{hovertext}</b><br><br>Country Code=CUB<br>2014=%{marker.size}<br>Country Name=%{location}<extra></extra>",
         "hovertext": [
          7.099999904600001
         ],
         "legendgroup": "CUB",
         "locations": [
          "Cuba"
         ],
         "marker": {
          "color": "#EF553B",
          "size": [
           7.099999904600001
          ],
          "sizemode": "area",
          "sizeref": 0.14475000381475,
          "symbol": "circle"
         },
         "mode": "markers",
         "name": "CUB",
         "showlegend": true,
         "type": "scattergeo"
        },
        {
         "geo": "geo",
         "hovertemplate": "<b>%{hovertext}</b><br><br>Country Code=CYP<br>2014=%{marker.size}<br>Country Name=%{location}<extra></extra>",
         "hovertext": [
          35.7000007629
         ],
         "legendgroup": "CYP",
         "locations": [
          "Cyprus"
         ],
         "marker": {
          "color": "#00cc96",
          "size": [
           35.7000007629
          ],
          "sizemode": "area",
          "sizeref": 0.14475000381475,
          "symbol": "circle"
         },
         "mode": "markers",
         "name": "CYP",
         "showlegend": true,
         "type": "scattergeo"
        },
        {
         "geo": "geo",
         "hovertemplate": "<b>%{hovertext}</b><br><br>Country Code=CZE<br>2014=%{marker.size}<br>Country Name=%{location}<extra></extra>",
         "hovertext": [
          16.7000007629
         ],
         "legendgroup": "CZE",
         "locations": [
          "Czech Republic"
         ],
         "marker": {
          "color": "#ab63fa",
          "size": [
           16.7000007629
          ],
          "sizemode": "area",
          "sizeref": 0.14475000381475,
          "symbol": "circle"
         },
         "mode": "markers",
         "name": "CZE",
         "showlegend": true,
         "type": "scattergeo"
        },
        {
         "geo": "geo",
         "hovertemplate": "<b>%{hovertext}</b><br><br>Country Code=DEU<br>2014=%{marker.size}<br>Country Name=%{location}<extra></extra>",
         "hovertext": [
          7.599999904600001
         ],
         "legendgroup": "DEU",
         "locations": [
          "Germany"
         ],
         "marker": {
          "color": "#FFA15A",
          "size": [
           7.599999904600001
          ],
          "sizemode": "area",
          "sizeref": 0.14475000381475,
          "symbol": "circle"
         },
         "mode": "markers",
         "name": "DEU",
         "showlegend": true,
         "type": "scattergeo"
        },
        {
         "geo": "geo",
         "hovertemplate": "<b>%{hovertext}</b><br><br>Country Code=DNK<br>2014=%{marker.size}<br>Country Name=%{location}<extra></extra>",
         "hovertext": [
          12.399999618499999
         ],
         "legendgroup": "DNK",
         "locations": [
          "Denmark"
         ],
         "marker": {
          "color": "#19d3f3",
          "size": [
           12.399999618499999
          ],
          "sizemode": "area",
          "sizeref": 0.14475000381475,
          "symbol": "circle"
         },
         "mode": "markers",
         "name": "DNK",
         "showlegend": true,
         "type": "scattergeo"
        },
        {
         "geo": "geo",
         "hovertemplate": "<b>%{hovertext}</b><br><br>Country Code=DOM<br>2014=%{marker.size}<br>Country Name=%{location}<extra></extra>",
         "hovertext": [
          31.3999996185
         ],
         "legendgroup": "DOM",
         "locations": [
          "Dominican Republic"
         ],
         "marker": {
          "color": "#FF6692",
          "size": [
           31.3999996185
          ],
          "sizemode": "area",
          "sizeref": 0.14475000381475,
          "symbol": "circle"
         },
         "mode": "markers",
         "name": "DOM",
         "showlegend": true,
         "type": "scattergeo"
        },
        {
         "geo": "geo",
         "hovertemplate": "<b>%{hovertext}</b><br><br>Country Code=DZA<br>2014=%{marker.size}<br>Country Name=%{location}<extra></extra>",
         "hovertext": [
          20
         ],
         "legendgroup": "DZA",
         "locations": [
          "Algeria"
         ],
         "marker": {
          "color": "#B6E880",
          "size": [
           20
          ],
          "sizemode": "area",
          "sizeref": 0.14475000381475,
          "symbol": "circle"
         },
         "mode": "markers",
         "name": "DZA",
         "showlegend": true,
         "type": "scattergeo"
        },
        {
         "geo": "geo",
         "hovertemplate": "<b>%{hovertext}</b><br><br>Country Code=EAP<br>2014=%{marker.size}<br>Country Name=%{location}<extra></extra>",
         "hovertext": [
          11.7905789249
         ],
         "legendgroup": "EAP",
         "locations": [
          "East Asia & Pacific (excluding high income)"
         ],
         "marker": {
          "color": "#FF97FF",
          "size": [
           11.7905789249
          ],
          "sizemode": "area",
          "sizeref": 0.14475000381475,
          "symbol": "circle"
         },
         "mode": "markers",
         "name": "EAP",
         "showlegend": true,
         "type": "scattergeo"
        },
        {
         "geo": "geo",
         "hovertemplate": "<b>%{hovertext}</b><br><br>Country Code=EAR<br>2014=%{marker.size}<br>Country Name=%{location}<extra></extra>",
         "hovertext": [
          14.3505036316
         ],
         "legendgroup": "EAR",
         "locations": [
          "Early-demographic dividend"
         ],
         "marker": {
          "color": "#FECB52",
          "size": [
           14.3505036316
          ],
          "sizemode": "area",
          "sizeref": 0.14475000381475,
          "symbol": "circle"
         },
         "mode": "markers",
         "name": "EAR",
         "showlegend": true,
         "type": "scattergeo"
        },
        {
         "geo": "geo",
         "hovertemplate": "<b>%{hovertext}</b><br><br>Country Code=EAS<br>2014=%{marker.size}<br>Country Name=%{location}<extra></extra>",
         "hovertext": [
          11.570404903
         ],
         "legendgroup": "EAS",
         "locations": [
          "East Asia & Pacific"
         ],
         "marker": {
          "color": "#636efa",
          "size": [
           11.570404903
          ],
          "sizemode": "area",
          "sizeref": 0.14475000381475,
          "symbol": "circle"
         },
         "mode": "markers",
         "name": "EAS",
         "showlegend": true,
         "type": "scattergeo"
        },
        {
         "geo": "geo",
         "hovertemplate": "<b>%{hovertext}</b><br><br>Country Code=ECA<br>2014=%{marker.size}<br>Country Name=%{location}<extra></extra>",
         "hovertext": [
          17.2492839678
         ],
         "legendgroup": "ECA",
         "locations": [
          "Europe & Central Asia (excluding high income)"
         ],
         "marker": {
          "color": "#EF553B",
          "size": [
           17.2492839678
          ],
          "sizemode": "area",
          "sizeref": 0.14475000381475,
          "symbol": "circle"
         },
         "mode": "markers",
         "name": "ECA",
         "showlegend": true,
         "type": "scattergeo"
        },
        {
         "geo": "geo",
         "hovertemplate": "<b>%{hovertext}</b><br><br>Country Code=ECS<br>2014=%{marker.size}<br>Country Name=%{location}<extra></extra>",
         "hovertext": [
          20.8899802535
         ],
         "legendgroup": "ECS",
         "locations": [
          "Europe & Central Asia"
         ],
         "marker": {
          "color": "#00cc96",
          "size": [
           20.8899802535
          ],
          "sizemode": "area",
          "sizeref": 0.14475000381475,
          "symbol": "circle"
         },
         "mode": "markers",
         "name": "ECS",
         "showlegend": true,
         "type": "scattergeo"
        },
        {
         "geo": "geo",
         "hovertemplate": "<b>%{hovertext}</b><br><br>Country Code=ECU<br>2014=%{marker.size}<br>Country Name=%{location}<extra></extra>",
         "hovertext": [
          10.800000190699999
         ],
         "legendgroup": "ECU",
         "locations": [
          "Ecuador"
         ],
         "marker": {
          "color": "#ab63fa",
          "size": [
           10.800000190699999
          ],
          "sizemode": "area",
          "sizeref": 0.14475000381475,
          "symbol": "circle"
         },
         "mode": "markers",
         "name": "ECU",
         "showlegend": true,
         "type": "scattergeo"
        },
        {
         "geo": "geo",
         "hovertemplate": "<b>%{hovertext}</b><br><br>Country Code=EGY<br>2014=%{marker.size}<br>Country Name=%{location}<extra></extra>",
         "hovertext": [
          42
         ],
         "legendgroup": "EGY",
         "locations": [
          "Egypt, Arab Rep."
         ],
         "marker": {
          "color": "#FFA15A",
          "size": [
           42
          ],
          "sizemode": "area",
          "sizeref": 0.14475000381475,
          "symbol": "circle"
         },
         "mode": "markers",
         "name": "EGY",
         "showlegend": true,
         "type": "scattergeo"
        },
        {
         "geo": "geo",
         "hovertemplate": "<b>%{hovertext}</b><br><br>Country Code=EMU<br>2014=%{marker.size}<br>Country Name=%{location}<extra></extra>",
         "hovertext": [
          27.583945983899998
         ],
         "legendgroup": "EMU",
         "locations": [
          "Euro area"
         ],
         "marker": {
          "color": "#19d3f3",
          "size": [
           27.583945983899998
          ],
          "sizemode": "area",
          "sizeref": 0.14475000381475,
          "symbol": "circle"
         },
         "mode": "markers",
         "name": "EMU",
         "showlegend": true,
         "type": "scattergeo"
        },
        {
         "geo": "geo",
         "hovertemplate": "<b>%{hovertext}</b><br><br>Country Code=ERI<br>2014=%{marker.size}<br>Country Name=%{location}<extra></extra>",
         "hovertext": [
          10.899999618499999
         ],
         "legendgroup": "ERI",
         "locations": [
          "Eritrea"
         ],
         "marker": {
          "color": "#FF6692",
          "size": [
           10.899999618499999
          ],
          "sizemode": "area",
          "sizeref": 0.14475000381475,
          "symbol": "circle"
         },
         "mode": "markers",
         "name": "ERI",
         "showlegend": true,
         "type": "scattergeo"
        },
        {
         "geo": "geo",
         "hovertemplate": "<b>%{hovertext}</b><br><br>Country Code=ESP<br>2014=%{marker.size}<br>Country Name=%{location}<extra></extra>",
         "hovertext": [
          57.9000015259
         ],
         "legendgroup": "ESP",
         "locations": [
          "Spain"
         ],
         "marker": {
          "color": "#B6E880",
          "size": [
           57.9000015259
          ],
          "sizemode": "area",
          "sizeref": 0.14475000381475,
          "symbol": "circle"
         },
         "mode": "markers",
         "name": "ESP",
         "showlegend": true,
         "type": "scattergeo"
        },
        {
         "geo": "geo",
         "hovertemplate": "<b>%{hovertext}</b><br><br>Country Code=EST<br>2014=%{marker.size}<br>Country Name=%{location}<extra></extra>",
         "hovertext": [
          17
         ],
         "legendgroup": "EST",
         "locations": [
          "Estonia"
         ],
         "marker": {
          "color": "#FF97FF",
          "size": [
           17
          ],
          "sizemode": "area",
          "sizeref": 0.14475000381475,
          "symbol": "circle"
         },
         "mode": "markers",
         "name": "EST",
         "showlegend": true,
         "type": "scattergeo"
        },
        {
         "geo": "geo",
         "hovertemplate": "<b>%{hovertext}</b><br><br>Country Code=ETH<br>2014=%{marker.size}<br>Country Name=%{location}<extra></extra>",
         "hovertext": [
          7.099999904600001
         ],
         "legendgroup": "ETH",
         "locations": [
          "Ethiopia"
         ],
         "marker": {
          "color": "#FECB52",
          "size": [
           7.099999904600001
          ],
          "sizemode": "area",
          "sizeref": 0.14475000381475,
          "symbol": "circle"
         },
         "mode": "markers",
         "name": "ETH",
         "showlegend": true,
         "type": "scattergeo"
        },
        {
         "geo": "geo",
         "hovertemplate": "<b>%{hovertext}</b><br><br>Country Code=EUU<br>2014=%{marker.size}<br>Country Name=%{location}<extra></extra>",
         "hovertext": [
          25.1161391909
         ],
         "legendgroup": "EUU",
         "locations": [
          "European Union"
         ],
         "marker": {
          "color": "#636efa",
          "size": [
           25.1161391909
          ],
          "sizemode": "area",
          "sizeref": 0.14475000381475,
          "symbol": "circle"
         },
         "mode": "markers",
         "name": "EUU",
         "showlegend": true,
         "type": "scattergeo"
        },
        {
         "geo": "geo",
         "hovertemplate": "<b>%{hovertext}</b><br><br>Country Code=FCS<br>2014=%{marker.size}<br>Country Name=%{location}<extra></extra>",
         "hovertext": [
          16.6622614164
         ],
         "legendgroup": "FCS",
         "locations": [
          "Fragile and conflict affected situations"
         ],
         "marker": {
          "color": "#EF553B",
          "size": [
           16.6622614164
          ],
          "sizemode": "area",
          "sizeref": 0.14475000381475,
          "symbol": "circle"
         },
         "mode": "markers",
         "name": "FCS",
         "showlegend": true,
         "type": "scattergeo"
        },
        {
         "geo": "geo",
         "hovertemplate": "<b>%{hovertext}</b><br><br>Country Code=FIN<br>2014=%{marker.size}<br>Country Name=%{location}<extra></extra>",
         "hovertext": [
          19.2000007629
         ],
         "legendgroup": "FIN",
         "locations": [
          "Finland"
         ],
         "marker": {
          "color": "#00cc96",
          "size": [
           19.2000007629
          ],
          "sizemode": "area",
          "sizeref": 0.14475000381475,
          "symbol": "circle"
         },
         "mode": "markers",
         "name": "FIN",
         "showlegend": true,
         "type": "scattergeo"
        },
        {
         "geo": "geo",
         "hovertemplate": "<b>%{hovertext}</b><br><br>Country Code=FJI<br>2014=%{marker.size}<br>Country Name=%{location}<extra></extra>",
         "hovertext": [
          18.6000003815
         ],
         "legendgroup": "FJI",
         "locations": [
          "Fiji"
         ],
         "marker": {
          "color": "#ab63fa",
          "size": [
           18.6000003815
          ],
          "sizemode": "area",
          "sizeref": 0.14475000381475,
          "symbol": "circle"
         },
         "mode": "markers",
         "name": "FJI",
         "showlegend": true,
         "type": "scattergeo"
        },
        {
         "geo": "geo",
         "hovertemplate": "<b>%{hovertext}</b><br><br>Country Code=FRA<br>2014=%{marker.size}<br>Country Name=%{location}<extra></extra>",
         "hovertext": [
          23.8999996185
         ],
         "legendgroup": "FRA",
         "locations": [
          "France"
         ],
         "marker": {
          "color": "#FFA15A",
          "size": [
           23.8999996185
          ],
          "sizemode": "area",
          "sizeref": 0.14475000381475,
          "symbol": "circle"
         },
         "mode": "markers",
         "name": "FRA",
         "showlegend": true,
         "type": "scattergeo"
        },
        {
         "geo": "geo",
         "hovertemplate": "<b>%{hovertext}</b><br><br>Country Code=GAB<br>2014=%{marker.size}<br>Country Name=%{location}<extra></extra>",
         "hovertext": [
          35.5
         ],
         "legendgroup": "GAB",
         "locations": [
          "Gabon"
         ],
         "marker": {
          "color": "#19d3f3",
          "size": [
           35.5
          ],
          "sizemode": "area",
          "sizeref": 0.14475000381475,
          "symbol": "circle"
         },
         "mode": "markers",
         "name": "GAB",
         "showlegend": true,
         "type": "scattergeo"
        },
        {
         "geo": "geo",
         "hovertemplate": "<b>%{hovertext}</b><br><br>Country Code=GBR<br>2014=%{marker.size}<br>Country Name=%{location}<extra></extra>",
         "hovertext": [
          16.7000007629
         ],
         "legendgroup": "GBR",
         "locations": [
          "United Kingdom"
         ],
         "marker": {
          "color": "#FF6692",
          "size": [
           16.7000007629
          ],
          "sizemode": "area",
          "sizeref": 0.14475000381475,
          "symbol": "circle"
         },
         "mode": "markers",
         "name": "GBR",
         "showlegend": true,
         "type": "scattergeo"
        },
        {
         "geo": "geo",
         "hovertemplate": "<b>%{hovertext}</b><br><br>Country Code=GEO<br>2014=%{marker.size}<br>Country Name=%{location}<extra></extra>",
         "hovertext": [
          34.0999984741
         ],
         "legendgroup": "GEO",
         "locations": [
          "Georgia"
         ],
         "marker": {
          "color": "#B6E880",
          "size": [
           34.0999984741
          ],
          "sizemode": "area",
          "sizeref": 0.14475000381475,
          "symbol": "circle"
         },
         "mode": "markers",
         "name": "GEO",
         "showlegend": true,
         "type": "scattergeo"
        },
        {
         "geo": "geo",
         "hovertemplate": "<b>%{hovertext}</b><br><br>Country Code=GHA<br>2014=%{marker.size}<br>Country Name=%{location}<extra></extra>",
         "hovertext": [
          3.2999999523000003
         ],
         "legendgroup": "GHA",
         "locations": [
          "Ghana"
         ],
         "marker": {
          "color": "#FF97FF",
          "size": [
           3.2999999523000003
          ],
          "sizemode": "area",
          "sizeref": 0.14475000381475,
          "symbol": "circle"
         },
         "mode": "markers",
         "name": "GHA",
         "showlegend": true,
         "type": "scattergeo"
        },
        {
         "geo": "geo",
         "hovertemplate": "<b>%{hovertext}</b><br><br>Country Code=GIN<br>2014=%{marker.size}<br>Country Name=%{location}<extra></extra>",
         "hovertext": [
          1.7000000477000001
         ],
         "legendgroup": "GIN",
         "locations": [
          "Guinea"
         ],
         "marker": {
          "color": "#FECB52",
          "size": [
           1.7000000477000001
          ],
          "sizemode": "area",
          "sizeref": 0.14475000381475,
          "symbol": "circle"
         },
         "mode": "markers",
         "name": "GIN",
         "showlegend": true,
         "type": "scattergeo"
        },
        {
         "geo": "geo",
         "hovertemplate": "<b>%{hovertext}</b><br><br>Country Code=GMB<br>2014=%{marker.size}<br>Country Name=%{location}<extra></extra>",
         "hovertext": [
          10.6000003815
         ],
         "legendgroup": "GMB",
         "locations": [
          "Gambia, The"
         ],
         "marker": {
          "color": "#636efa",
          "size": [
           10.6000003815
          ],
          "sizemode": "area",
          "sizeref": 0.14475000381475,
          "symbol": "circle"
         },
         "mode": "markers",
         "name": "GMB",
         "showlegend": true,
         "type": "scattergeo"
        },
        {
         "geo": "geo",
         "hovertemplate": "<b>%{hovertext}</b><br><br>Country Code=GNB<br>2014=%{marker.size}<br>Country Name=%{location}<extra></extra>",
         "hovertext": [
          11.100000381500001
         ],
         "legendgroup": "GNB",
         "locations": [
          "Guinea-Bissau"
         ],
         "marker": {
          "color": "#EF553B",
          "size": [
           11.100000381500001
          ],
          "sizemode": "area",
          "sizeref": 0.14475000381475,
          "symbol": "circle"
         },
         "mode": "markers",
         "name": "GNB",
         "showlegend": true,
         "type": "scattergeo"
        },
        {
         "geo": "geo",
         "hovertemplate": "<b>%{hovertext}</b><br><br>Country Code=GNQ<br>2014=%{marker.size}<br>Country Name=%{location}<extra></extra>",
         "hovertext": [
          12.600000381500001
         ],
         "legendgroup": "GNQ",
         "locations": [
          "Equatorial Guinea"
         ],
         "marker": {
          "color": "#00cc96",
          "size": [
           12.600000381500001
          ],
          "sizemode": "area",
          "sizeref": 0.14475000381475,
          "symbol": "circle"
         },
         "mode": "markers",
         "name": "GNQ",
         "showlegend": true,
         "type": "scattergeo"
        },
        {
         "geo": "geo",
         "hovertemplate": "<b>%{hovertext}</b><br><br>Country Code=GRC<br>2014=%{marker.size}<br>Country Name=%{location}<extra></extra>",
         "hovertext": [
          53.9000015259
         ],
         "legendgroup": "GRC",
         "locations": [
          "Greece"
         ],
         "marker": {
          "color": "#ab63fa",
          "size": [
           53.9000015259
          ],
          "sizemode": "area",
          "sizeref": 0.14475000381475,
          "symbol": "circle"
         },
         "mode": "markers",
         "name": "GRC",
         "showlegend": true,
         "type": "scattergeo"
        },
        {
         "geo": "geo",
         "hovertemplate": "<b>%{hovertext}</b><br><br>Country Code=GTM<br>2014=%{marker.size}<br>Country Name=%{location}<extra></extra>",
         "hovertext": [
          5.400000095399999
         ],
         "legendgroup": "GTM",
         "locations": [
          "Guatemala"
         ],
         "marker": {
          "color": "#FFA15A",
          "size": [
           5.400000095399999
          ],
          "sizemode": "area",
          "sizeref": 0.14475000381475,
          "symbol": "circle"
         },
         "mode": "markers",
         "name": "GTM",
         "showlegend": true,
         "type": "scattergeo"
        },
        {
         "geo": "geo",
         "hovertemplate": "<b>%{hovertext}</b><br><br>Country Code=GUY<br>2014=%{marker.size}<br>Country Name=%{location}<extra></extra>",
         "hovertext": [
          23.7999992371
         ],
         "legendgroup": "GUY",
         "locations": [
          "Guyana"
         ],
         "marker": {
          "color": "#19d3f3",
          "size": [
           23.7999992371
          ],
          "sizemode": "area",
          "sizeref": 0.14475000381475,
          "symbol": "circle"
         },
         "mode": "markers",
         "name": "GUY",
         "showlegend": true,
         "type": "scattergeo"
        },
        {
         "geo": "geo",
         "hovertemplate": "<b>%{hovertext}</b><br><br>Country Code=HIC<br>2014=%{marker.size}<br>Country Name=%{location}<extra></extra>",
         "hovertext": [
          17.831891963
         ],
         "legendgroup": "HIC",
         "locations": [
          "High income"
         ],
         "marker": {
          "color": "#FF6692",
          "size": [
           17.831891963
          ],
          "sizemode": "area",
          "sizeref": 0.14475000381475,
          "symbol": "circle"
         },
         "mode": "markers",
         "name": "HIC",
         "showlegend": true,
         "type": "scattergeo"
        },
        {
         "geo": "geo",
         "hovertemplate": "<b>%{hovertext}</b><br><br>Country Code=HKG<br>2014=%{marker.size}<br>Country Name=%{location}<extra></extra>",
         "hovertext": [
          8.5
         ],
         "legendgroup": "HKG",
         "locations": [
          "Hong Kong SAR, China"
         ],
         "marker": {
          "color": "#B6E880",
          "size": [
           8.5
          ],
          "sizemode": "area",
          "sizeref": 0.14475000381475,
          "symbol": "circle"
         },
         "mode": "markers",
         "name": "HKG",
         "showlegend": true,
         "type": "scattergeo"
        },
        {
         "geo": "geo",
         "hovertemplate": "<b>%{hovertext}</b><br><br>Country Code=HND<br>2014=%{marker.size}<br>Country Name=%{location}<extra></extra>",
         "hovertext": [
          6.900000095399999
         ],
         "legendgroup": "HND",
         "locations": [
          "Honduras"
         ],
         "marker": {
          "color": "#FF97FF",
          "size": [
           6.900000095399999
          ],
          "sizemode": "area",
          "sizeref": 0.14475000381475,
          "symbol": "circle"
         },
         "mode": "markers",
         "name": "HND",
         "showlegend": true,
         "type": "scattergeo"
        },
        {
         "geo": "geo",
         "hovertemplate": "<b>%{hovertext}</b><br><br>Country Code=HPC<br>2014=%{marker.size}<br>Country Name=%{location}<extra></extra>",
         "hovertext": [
          11.1249198842
         ],
         "legendgroup": "HPC",
         "locations": [
          "Heavily indebted poor countries (HIPC)"
         ],
         "marker": {
          "color": "#FECB52",
          "size": [
           11.1249198842
          ],
          "sizemode": "area",
          "sizeref": 0.14475000381475,
          "symbol": "circle"
         },
         "mode": "markers",
         "name": "HPC",
         "showlegend": true,
         "type": "scattergeo"
        },
        {
         "geo": "geo",
         "hovertemplate": "<b>%{hovertext}</b><br><br>Country Code=HRV<br>2014=%{marker.size}<br>Country Name=%{location}<extra></extra>",
         "hovertext": [
          45.9000015259
         ],
         "legendgroup": "HRV",
         "locations": [
          "Croatia"
         ],
         "marker": {
          "color": "#636efa",
          "size": [
           45.9000015259
          ],
          "sizemode": "area",
          "sizeref": 0.14475000381475,
          "symbol": "circle"
         },
         "mode": "markers",
         "name": "HRV",
         "showlegend": true,
         "type": "scattergeo"
        },
        {
         "geo": "geo",
         "hovertemplate": "<b>%{hovertext}</b><br><br>Country Code=HTI<br>2014=%{marker.size}<br>Country Name=%{location}<extra></extra>",
         "hovertext": [
          17.1000003815
         ],
         "legendgroup": "HTI",
         "locations": [
          "Haiti"
         ],
         "marker": {
          "color": "#EF553B",
          "size": [
           17.1000003815
          ],
          "sizemode": "area",
          "sizeref": 0.14475000381475,
          "symbol": "circle"
         },
         "mode": "markers",
         "name": "HTI",
         "showlegend": true,
         "type": "scattergeo"
        },
        {
         "geo": "geo",
         "hovertemplate": "<b>%{hovertext}</b><br><br>Country Code=HUN<br>2014=%{marker.size}<br>Country Name=%{location}<extra></extra>",
         "hovertext": [
          21
         ],
         "legendgroup": "HUN",
         "locations": [
          "Hungary"
         ],
         "marker": {
          "color": "#00cc96",
          "size": [
           21
          ],
          "sizemode": "area",
          "sizeref": 0.14475000381475,
          "symbol": "circle"
         },
         "mode": "markers",
         "name": "HUN",
         "showlegend": true,
         "type": "scattergeo"
        },
        {
         "geo": "geo",
         "hovertemplate": "<b>%{hovertext}</b><br><br>Country Code=IBD<br>2014=%{marker.size}<br>Country Name=%{location}<extra></extra>",
         "hovertext": [
          14.5445281104
         ],
         "legendgroup": "IBD",
         "locations": [
          "IBRD only"
         ],
         "marker": {
          "color": "#ab63fa",
          "size": [
           14.5445281104
          ],
          "sizemode": "area",
          "sizeref": 0.14475000381475,
          "symbol": "circle"
         },
         "mode": "markers",
         "name": "IBD",
         "showlegend": true,
         "type": "scattergeo"
        },
        {
         "geo": "geo",
         "hovertemplate": "<b>%{hovertext}</b><br><br>Country Code=IBT<br>2014=%{marker.size}<br>Country Name=%{location}<extra></extra>",
         "hovertext": [
          13.5311260249
         ],
         "legendgroup": "IBT",
         "locations": [
          "IDA & IBRD total"
         ],
         "marker": {
          "color": "#FFA15A",
          "size": [
           13.5311260249
          ],
          "sizemode": "area",
          "sizeref": 0.14475000381475,
          "symbol": "circle"
         },
         "mode": "markers",
         "name": "IBT",
         "showlegend": true,
         "type": "scattergeo"
        },
        {
         "geo": "geo",
         "hovertemplate": "<b>%{hovertext}</b><br><br>Country Code=IDA<br>2014=%{marker.size}<br>Country Name=%{location}<extra></extra>",
         "hovertext": [
          11.128515701900001
         ],
         "legendgroup": "IDA",
         "locations": [
          "IDA total"
         ],
         "marker": {
          "color": "#19d3f3",
          "size": [
           11.128515701900001
          ],
          "sizemode": "area",
          "sizeref": 0.14475000381475,
          "symbol": "circle"
         },
         "mode": "markers",
         "name": "IDA",
         "showlegend": true,
         "type": "scattergeo"
        },
        {
         "geo": "geo",
         "hovertemplate": "<b>%{hovertext}</b><br><br>Country Code=IDB<br>2014=%{marker.size}<br>Country Name=%{location}<extra></extra>",
         "hovertext": [
          10.619027829
         ],
         "legendgroup": "IDB",
         "locations": [
          "IDA blend"
         ],
         "marker": {
          "color": "#FF6692",
          "size": [
           10.619027829
          ],
          "sizemode": "area",
          "sizeref": 0.14475000381475,
          "symbol": "circle"
         },
         "mode": "markers",
         "name": "IDB",
         "showlegend": true,
         "type": "scattergeo"
        },
        {
         "geo": "geo",
         "hovertemplate": "<b>%{hovertext}</b><br><br>Country Code=IDN<br>2014=%{marker.size}<br>Country Name=%{location}<extra></extra>",
         "hovertext": [
          21.7999992371
         ],
         "legendgroup": "IDN",
         "locations": [
          "Indonesia"
         ],
         "marker": {
          "color": "#B6E880",
          "size": [
           21.7999992371
          ],
          "sizemode": "area",
          "sizeref": 0.14475000381475,
          "symbol": "circle"
         },
         "mode": "markers",
         "name": "IDN",
         "showlegend": true,
         "type": "scattergeo"
        },
        {
         "geo": "geo",
         "hovertemplate": "<b>%{hovertext}</b><br><br>Country Code=IDX<br>2014=%{marker.size}<br>Country Name=%{location}<extra></extra>",
         "hovertext": [
          11.4049084151
         ],
         "legendgroup": "IDX",
         "locations": [
          "IDA only"
         ],
         "marker": {
          "color": "#FF97FF",
          "size": [
           11.4049084151
          ],
          "sizemode": "area",
          "sizeref": 0.14475000381475,
          "symbol": "circle"
         },
         "mode": "markers",
         "name": "IDX",
         "showlegend": true,
         "type": "scattergeo"
        },
        {
         "geo": "geo",
         "hovertemplate": "<b>%{hovertext}</b><br><br>Country Code=IND<br>2014=%{marker.size}<br>Country Name=%{location}<extra></extra>",
         "hovertext": [
          10.3999996185
         ],
         "legendgroup": "IND",
         "locations": [
          "India"
         ],
         "marker": {
          "color": "#FECB52",
          "size": [
           10.3999996185
          ],
          "sizemode": "area",
          "sizeref": 0.14475000381475,
          "symbol": "circle"
         },
         "mode": "markers",
         "name": "IND",
         "showlegend": true,
         "type": "scattergeo"
        },
        {
         "geo": "geo",
         "hovertemplate": "<b>%{hovertext}</b><br><br>Country Code=IRL<br>2014=%{marker.size}<br>Country Name=%{location}<extra></extra>",
         "hovertext": [
          25.7999992371
         ],
         "legendgroup": "IRL",
         "locations": [
          "Ireland"
         ],
         "marker": {
          "color": "#636efa",
          "size": [
           25.7999992371
          ],
          "sizemode": "area",
          "sizeref": 0.14475000381475,
          "symbol": "circle"
         },
         "mode": "markers",
         "name": "IRL",
         "showlegend": true,
         "type": "scattergeo"
        },
        {
         "geo": "geo",
         "hovertemplate": "<b>%{hovertext}</b><br><br>Country Code=IRN<br>2014=%{marker.size}<br>Country Name=%{location}<extra></extra>",
         "hovertext": [
          29.3999996185
         ],
         "legendgroup": "IRN",
         "locations": [
          "Iran, Islamic Rep."
         ],
         "marker": {
          "color": "#EF553B",
          "size": [
           29.3999996185
          ],
          "sizemode": "area",
          "sizeref": 0.14475000381475,
          "symbol": "circle"
         },
         "mode": "markers",
         "name": "IRN",
         "showlegend": true,
         "type": "scattergeo"
        },
        {
         "geo": "geo",
         "hovertemplate": "<b>%{hovertext}</b><br><br>Country Code=IRQ<br>2014=%{marker.size}<br>Country Name=%{location}<extra></extra>",
         "hovertext": [
          34.5999984741
         ],
         "legendgroup": "IRQ",
         "locations": [
          "Iraq"
         ],
         "marker": {
          "color": "#00cc96",
          "size": [
           34.5999984741
          ],
          "sizemode": "area",
          "sizeref": 0.14475000381475,
          "symbol": "circle"
         },
         "mode": "markers",
         "name": "IRQ",
         "showlegend": true,
         "type": "scattergeo"
        },
        {
         "geo": "geo",
         "hovertemplate": "<b>%{hovertext}</b><br><br>Country Code=ISL<br>2014=%{marker.size}<br>Country Name=%{location}<extra></extra>",
         "hovertext": [
          10.899999618499999
         ],
         "legendgroup": "ISL",
         "locations": [
          "Iceland"
         ],
         "marker": {
          "color": "#ab63fa",
          "size": [
           10.899999618499999
          ],
          "sizemode": "area",
          "sizeref": 0.14475000381475,
          "symbol": "circle"
         },
         "mode": "markers",
         "name": "ISL",
         "showlegend": true,
         "type": "scattergeo"
        },
        {
         "geo": "geo",
         "hovertemplate": "<b>%{hovertext}</b><br><br>Country Code=ISR<br>2014=%{marker.size}<br>Country Name=%{location}<extra></extra>",
         "hovertext": [
          11
         ],
         "legendgroup": "ISR",
         "locations": [
          "Israel"
         ],
         "marker": {
          "color": "#FFA15A",
          "size": [
           11
          ],
          "sizemode": "area",
          "sizeref": 0.14475000381475,
          "symbol": "circle"
         },
         "mode": "markers",
         "name": "ISR",
         "showlegend": true,
         "type": "scattergeo"
        },
        {
         "geo": "geo",
         "hovertemplate": "<b>%{hovertext}</b><br><br>Country Code=ITA<br>2014=%{marker.size}<br>Country Name=%{location}<extra></extra>",
         "hovertext": [
          44.0999984741
         ],
         "legendgroup": "ITA",
         "locations": [
          "Italy"
         ],
         "marker": {
          "color": "#19d3f3",
          "size": [
           44.0999984741
          ],
          "sizemode": "area",
          "sizeref": 0.14475000381475,
          "symbol": "circle"
         },
         "mode": "markers",
         "name": "ITA",
         "showlegend": true,
         "type": "scattergeo"
        },
        {
         "geo": "geo",
         "hovertemplate": "<b>%{hovertext}</b><br><br>Country Code=JAM<br>2014=%{marker.size}<br>Country Name=%{location}<extra></extra>",
         "hovertext": [
          30.5
         ],
         "legendgroup": "JAM",
         "locations": [
          "Jamaica"
         ],
         "marker": {
          "color": "#FF6692",
          "size": [
           30.5
          ],
          "sizemode": "area",
          "sizeref": 0.14475000381475,
          "symbol": "circle"
         },
         "mode": "markers",
         "name": "JAM",
         "showlegend": true,
         "type": "scattergeo"
        },
        {
         "geo": "geo",
         "hovertemplate": "<b>%{hovertext}</b><br><br>Country Code=JOR<br>2014=%{marker.size}<br>Country Name=%{location}<extra></extra>",
         "hovertext": [
          28.7999992371
         ],
         "legendgroup": "JOR",
         "locations": [
          "Jordan"
         ],
         "marker": {
          "color": "#B6E880",
          "size": [
           28.7999992371
          ],
          "sizemode": "area",
          "sizeref": 0.14475000381475,
          "symbol": "circle"
         },
         "mode": "markers",
         "name": "JOR",
         "showlegend": true,
         "type": "scattergeo"
        },
        {
         "geo": "geo",
         "hovertemplate": "<b>%{hovertext}</b><br><br>Country Code=JPN<br>2014=%{marker.size}<br>Country Name=%{location}<extra></extra>",
         "hovertext": [
          6.5
         ],
         "legendgroup": "JPN",
         "locations": [
          "Japan"
         ],
         "marker": {
          "color": "#FF97FF",
          "size": [
           6.5
          ],
          "sizemode": "area",
          "sizeref": 0.14475000381475,
          "symbol": "circle"
         },
         "mode": "markers",
         "name": "JPN",
         "showlegend": true,
         "type": "scattergeo"
        },
        {
         "geo": "geo",
         "hovertemplate": "<b>%{hovertext}</b><br><br>Country Code=KAZ<br>2014=%{marker.size}<br>Country Name=%{location}<extra></extra>",
         "hovertext": [
          3.5
         ],
         "legendgroup": "KAZ",
         "locations": [
          "Kazakhstan"
         ],
         "marker": {
          "color": "#FECB52",
          "size": [
           3.5
          ],
          "sizemode": "area",
          "sizeref": 0.14475000381475,
          "symbol": "circle"
         },
         "mode": "markers",
         "name": "KAZ",
         "showlegend": true,
         "type": "scattergeo"
        },
        {
         "geo": "geo",
         "hovertemplate": "<b>%{hovertext}</b><br><br>Country Code=KEN<br>2014=%{marker.size}<br>Country Name=%{location}<extra></extra>",
         "hovertext": [
          17.3999996185
         ],
         "legendgroup": "KEN",
         "locations": [
          "Kenya"
         ],
         "marker": {
          "color": "#636efa",
          "size": [
           17.3999996185
          ],
          "sizemode": "area",
          "sizeref": 0.14475000381475,
          "symbol": "circle"
         },
         "mode": "markers",
         "name": "KEN",
         "showlegend": true,
         "type": "scattergeo"
        },
        {
         "geo": "geo",
         "hovertemplate": "<b>%{hovertext}</b><br><br>Country Code=KGZ<br>2014=%{marker.size}<br>Country Name=%{location}<extra></extra>",
         "hovertext": [
          14.699999809300001
         ],
         "legendgroup": "KGZ",
         "locations": [
          "Kyrgyz Republic"
         ],
         "marker": {
          "color": "#EF553B",
          "size": [
           14.699999809300001
          ],
          "sizemode": "area",
          "sizeref": 0.14475000381475,
          "symbol": "circle"
         },
         "mode": "markers",
         "name": "KGZ",
         "showlegend": true,
         "type": "scattergeo"
        },
        {
         "geo": "geo",
         "hovertemplate": "<b>%{hovertext}</b><br><br>Country Code=KHM<br>2014=%{marker.size}<br>Country Name=%{location}<extra></extra>",
         "hovertext": [
          0.8999999762
         ],
         "legendgroup": "KHM",
         "locations": [
          "Cambodia"
         ],
         "marker": {
          "color": "#00cc96",
          "size": [
           0.8999999762
          ],
          "sizemode": "area",
          "sizeref": 0.14475000381475,
          "symbol": "circle"
         },
         "mode": "markers",
         "name": "KHM",
         "showlegend": true,
         "type": "scattergeo"
        },
        {
         "geo": "geo",
         "hovertemplate": "<b>%{hovertext}</b><br><br>Country Code=KOR<br>2014=%{marker.size}<br>Country Name=%{location}<extra></extra>",
         "hovertext": [
          10.3999996185
         ],
         "legendgroup": "KOR",
         "locations": [
          "Korea, Rep."
         ],
         "marker": {
          "color": "#ab63fa",
          "size": [
           10.3999996185
          ],
          "sizemode": "area",
          "sizeref": 0.14475000381475,
          "symbol": "circle"
         },
         "mode": "markers",
         "name": "KOR",
         "showlegend": true,
         "type": "scattergeo"
        },
        {
         "geo": "geo",
         "hovertemplate": "<b>%{hovertext}</b><br><br>Country Code=KWT<br>2014=%{marker.size}<br>Country Name=%{location}<extra></extra>",
         "hovertext": [
          19.3999996185
         ],
         "legendgroup": "KWT",
         "locations": [
          "Kuwait"
         ],
         "marker": {
          "color": "#FFA15A",
          "size": [
           19.3999996185
          ],
          "sizemode": "area",
          "sizeref": 0.14475000381475,
          "symbol": "circle"
         },
         "mode": "markers",
         "name": "KWT",
         "showlegend": true,
         "type": "scattergeo"
        },
        {
         "geo": "geo",
         "hovertemplate": "<b>%{hovertext}</b><br><br>Country Code=LAC<br>2014=%{marker.size}<br>Country Name=%{location}<extra></extra>",
         "hovertext": [
          13.864309649700001
         ],
         "legendgroup": "LAC",
         "locations": [
          "Latin America & Caribbean (excluding high income)"
         ],
         "marker": {
          "color": "#19d3f3",
          "size": [
           13.864309649700001
          ],
          "sizemode": "area",
          "sizeref": 0.14475000381475,
          "symbol": "circle"
         },
         "mode": "markers",
         "name": "LAC",
         "showlegend": true,
         "type": "scattergeo"
        },
        {
         "geo": "geo",
         "hovertemplate": "<b>%{hovertext}</b><br><br>Country Code=LAO<br>2014=%{marker.size}<br>Country Name=%{location}<extra></extra>",
         "hovertext": [
          3.4000000954000003
         ],
         "legendgroup": "LAO",
         "locations": [
          "Lao PDR"
         ],
         "marker": {
          "color": "#FF6692",
          "size": [
           3.4000000954000003
          ],
          "sizemode": "area",
          "sizeref": 0.14475000381475,
          "symbol": "circle"
         },
         "mode": "markers",
         "name": "LAO",
         "showlegend": true,
         "type": "scattergeo"
        },
        {
         "geo": "geo",
         "hovertemplate": "<b>%{hovertext}</b><br><br>Country Code=LBN<br>2014=%{marker.size}<br>Country Name=%{location}<extra></extra>",
         "hovertext": [
          20.7000007629
         ],
         "legendgroup": "LBN",
         "locations": [
          "Lebanon"
         ],
         "marker": {
          "color": "#B6E880",
          "size": [
           20.7000007629
          ],
          "sizemode": "area",
          "sizeref": 0.14475000381475,
          "symbol": "circle"
         },
         "mode": "markers",
         "name": "LBN",
         "showlegend": true,
         "type": "scattergeo"
        },
        {
         "geo": "geo",
         "hovertemplate": "<b>%{hovertext}</b><br><br>Country Code=LBR<br>2014=%{marker.size}<br>Country Name=%{location}<extra></extra>",
         "hovertext": [
          4.5999999046
         ],
         "legendgroup": "LBR",
         "locations": [
          "Liberia"
         ],
         "marker": {
          "color": "#FF97FF",
          "size": [
           4.5999999046
          ],
          "sizemode": "area",
          "sizeref": 0.14475000381475,
          "symbol": "circle"
         },
         "mode": "markers",
         "name": "LBR",
         "showlegend": true,
         "type": "scattergeo"
        },
        {
         "geo": "geo",
         "hovertemplate": "<b>%{hovertext}</b><br><br>Country Code=LBY<br>2014=%{marker.size}<br>Country Name=%{location}<extra></extra>",
         "hovertext": [
          48.9000015259
         ],
         "legendgroup": "LBY",
         "locations": [
          "Libya"
         ],
         "marker": {
          "color": "#FECB52",
          "size": [
           48.9000015259
          ],
          "sizemode": "area",
          "sizeref": 0.14475000381475,
          "symbol": "circle"
         },
         "mode": "markers",
         "name": "LBY",
         "showlegend": true,
         "type": "scattergeo"
        },
        {
         "geo": "geo",
         "hovertemplate": "<b>%{hovertext}</b><br><br>Country Code=LCN<br>2014=%{marker.size}<br>Country Name=%{location}<extra></extra>",
         "hovertext": [
          14.030339621800001
         ],
         "legendgroup": "LCN",
         "locations": [
          "Latin America & Caribbean"
         ],
         "marker": {
          "color": "#636efa",
          "size": [
           14.030339621800001
          ],
          "sizemode": "area",
          "sizeref": 0.14475000381475,
          "symbol": "circle"
         },
         "mode": "markers",
         "name": "LCN",
         "showlegend": true,
         "type": "scattergeo"
        },
        {
         "geo": "geo",
         "hovertemplate": "<b>%{hovertext}</b><br><br>Country Code=LDC<br>2014=%{marker.size}<br>Country Name=%{location}<extra></extra>",
         "hovertext": [
          11.4583220967
         ],
         "legendgroup": "LDC",
         "locations": [
          "Least developed countries: UN classification"
         ],
         "marker": {
          "color": "#EF553B",
          "size": [
           11.4583220967
          ],
          "sizemode": "area",
          "sizeref": 0.14475000381475,
          "symbol": "circle"
         },
         "mode": "markers",
         "name": "LDC",
         "showlegend": true,
         "type": "scattergeo"
        },
        {
         "geo": "geo",
         "hovertemplate": "<b>%{hovertext}</b><br><br>Country Code=LIC<br>2014=%{marker.size}<br>Country Name=%{location}<extra></extra>",
         "hovertext": [
          10.229319291
         ],
         "legendgroup": "LIC",
         "locations": [
          "Low income"
         ],
         "marker": {
          "color": "#00cc96",
          "size": [
           10.229319291
          ],
          "sizemode": "area",
          "sizeref": 0.14475000381475,
          "symbol": "circle"
         },
         "mode": "markers",
         "name": "LIC",
         "showlegend": true,
         "type": "scattergeo"
        },
        {
         "geo": "geo",
         "hovertemplate": "<b>%{hovertext}</b><br><br>Country Code=LKA<br>2014=%{marker.size}<br>Country Name=%{location}<extra></extra>",
         "hovertext": [
          19.1000003815
         ],
         "legendgroup": "LKA",
         "locations": [
          "Sri Lanka"
         ],
         "marker": {
          "color": "#ab63fa",
          "size": [
           19.1000003815
          ],
          "sizemode": "area",
          "sizeref": 0.14475000381475,
          "symbol": "circle"
         },
         "mode": "markers",
         "name": "LKA",
         "showlegend": true,
         "type": "scattergeo"
        },
        {
         "geo": "geo",
         "hovertemplate": "<b>%{hovertext}</b><br><br>Country Code=LMC<br>2014=%{marker.size}<br>Country Name=%{location}<extra></extra>",
         "hovertext": [
          13.3848246193
         ],
         "legendgroup": "LMC",
         "locations": [
          "Lower middle income"
         ],
         "marker": {
          "color": "#FFA15A",
          "size": [
           13.3848246193
          ],
          "sizemode": "area",
          "sizeref": 0.14475000381475,
          "symbol": "circle"
         },
         "mode": "markers",
         "name": "LMC",
         "showlegend": true,
         "type": "scattergeo"
        },
        {
         "geo": "geo",
         "hovertemplate": "<b>%{hovertext}</b><br><br>Country Code=LMY<br>2014=%{marker.size}<br>Country Name=%{location}<extra></extra>",
         "hovertext": [
          13.4670080071
         ],
         "legendgroup": "LMY",
         "locations": [
          "Low & middle income"
         ],
         "marker": {
          "color": "#19d3f3",
          "size": [
           13.4670080071
          ],
          "sizemode": "area",
          "sizeref": 0.14475000381475,
          "symbol": "circle"
         },
         "mode": "markers",
         "name": "LMY",
         "showlegend": true,
         "type": "scattergeo"
        },
        {
         "geo": "geo",
         "hovertemplate": "<b>%{hovertext}</b><br><br>Country Code=LSO<br>2014=%{marker.size}<br>Country Name=%{location}<extra></extra>",
         "hovertext": [
          33
         ],
         "legendgroup": "LSO",
         "locations": [
          "Lesotho"
         ],
         "marker": {
          "color": "#FF6692",
          "size": [
           33
          ],
          "sizemode": "area",
          "sizeref": 0.14475000381475,
          "symbol": "circle"
         },
         "mode": "markers",
         "name": "LSO",
         "showlegend": true,
         "type": "scattergeo"
        },
        {
         "geo": "geo",
         "hovertemplate": "<b>%{hovertext}</b><br><br>Country Code=LTE<br>2014=%{marker.size}<br>Country Name=%{location}<extra></extra>",
         "hovertext": [
          12.0656138909
         ],
         "legendgroup": "LTE",
         "locations": [
          "Late-demographic dividend"
         ],
         "marker": {
          "color": "#B6E880",
          "size": [
           12.0656138909
          ],
          "sizemode": "area",
          "sizeref": 0.14475000381475,
          "symbol": "circle"
         },
         "mode": "markers",
         "name": "LTE",
         "showlegend": true,
         "type": "scattergeo"
        },
        {
         "geo": "geo",
         "hovertemplate": "<b>%{hovertext}</b><br><br>Country Code=LTU<br>2014=%{marker.size}<br>Country Name=%{location}<extra></extra>",
         "hovertext": [
          21.5
         ],
         "legendgroup": "LTU",
         "locations": [
          "Lithuania"
         ],
         "marker": {
          "color": "#FF97FF",
          "size": [
           21.5
          ],
          "sizemode": "area",
          "sizeref": 0.14475000381475,
          "symbol": "circle"
         },
         "mode": "markers",
         "name": "LTU",
         "showlegend": true,
         "type": "scattergeo"
        },
        {
         "geo": "geo",
         "hovertemplate": "<b>%{hovertext}</b><br><br>Country Code=LUX<br>2014=%{marker.size}<br>Country Name=%{location}<extra></extra>",
         "hovertext": [
          16
         ],
         "legendgroup": "LUX",
         "locations": [
          "Luxembourg"
         ],
         "marker": {
          "color": "#FECB52",
          "size": [
           16
          ],
          "sizemode": "area",
          "sizeref": 0.14475000381475,
          "symbol": "circle"
         },
         "mode": "markers",
         "name": "LUX",
         "showlegend": true,
         "type": "scattergeo"
        },
        {
         "geo": "geo",
         "hovertemplate": "<b>%{hovertext}</b><br><br>Country Code=LVA<br>2014=%{marker.size}<br>Country Name=%{location}<extra></extra>",
         "hovertext": [
          19.2999992371
         ],
         "legendgroup": "LVA",
         "locations": [
          "Latvia"
         ],
         "marker": {
          "color": "#636efa",
          "size": [
           19.2999992371
          ],
          "sizemode": "area",
          "sizeref": 0.14475000381475,
          "symbol": "circle"
         },
         "mode": "markers",
         "name": "LVA",
         "showlegend": true,
         "type": "scattergeo"
        },
        {
         "geo": "geo",
         "hovertemplate": "<b>%{hovertext}</b><br><br>Country Code=MAC<br>2014=%{marker.size}<br>Country Name=%{location}<extra></extra>",
         "hovertext": [
          2.9000000954000003
         ],
         "legendgroup": "MAC",
         "locations": [
          "Macao SAR, China"
         ],
         "marker": {
          "color": "#EF553B",
          "size": [
           2.9000000954000003
          ],
          "sizemode": "area",
          "sizeref": 0.14475000381475,
          "symbol": "circle"
         },
         "mode": "markers",
         "name": "MAC",
         "showlegend": true,
         "type": "scattergeo"
        },
        {
         "geo": "geo",
         "hovertemplate": "<b>%{hovertext}</b><br><br>Country Code=MAR<br>2014=%{marker.size}<br>Country Name=%{location}<extra></extra>",
         "hovertext": [
          20.2000007629
         ],
         "legendgroup": "MAR",
         "locations": [
          "Morocco"
         ],
         "marker": {
          "color": "#00cc96",
          "size": [
           20.2000007629
          ],
          "sizemode": "area",
          "sizeref": 0.14475000381475,
          "symbol": "circle"
         },
         "mode": "markers",
         "name": "MAR",
         "showlegend": true,
         "type": "scattergeo"
        },
        {
         "geo": "geo",
         "hovertemplate": "<b>%{hovertext}</b><br><br>Country Code=MDA<br>2014=%{marker.size}<br>Country Name=%{location}<extra></extra>",
         "hovertext": [
          8.5
         ],
         "legendgroup": "MDA",
         "locations": [
          "Moldova"
         ],
         "marker": {
          "color": "#ab63fa",
          "size": [
           8.5
          ],
          "sizemode": "area",
          "sizeref": 0.14475000381475,
          "symbol": "circle"
         },
         "mode": "markers",
         "name": "MDA",
         "showlegend": true,
         "type": "scattergeo"
        },
        {
         "geo": "geo",
         "hovertemplate": "<b>%{hovertext}</b><br><br>Country Code=MDG<br>2014=%{marker.size}<br>Country Name=%{location}<extra></extra>",
         "hovertext": [
          5.1999998093
         ],
         "legendgroup": "MDG",
         "locations": [
          "Madagascar"
         ],
         "marker": {
          "color": "#FFA15A",
          "size": [
           5.1999998093
          ],
          "sizemode": "area",
          "sizeref": 0.14475000381475,
          "symbol": "circle"
         },
         "mode": "markers",
         "name": "MDG",
         "showlegend": true,
         "type": "scattergeo"
        },
        {
         "geo": "geo",
         "hovertemplate": "<b>%{hovertext}</b><br><br>Country Code=MDV<br>2014=%{marker.size}<br>Country Name=%{location}<extra></extra>",
         "hovertext": [
          26.8999996185
         ],
         "legendgroup": "MDV",
         "locations": [
          "Maldives"
         ],
         "marker": {
          "color": "#19d3f3",
          "size": [
           26.8999996185
          ],
          "sizemode": "area",
          "sizeref": 0.14475000381475,
          "symbol": "circle"
         },
         "mode": "markers",
         "name": "MDV",
         "showlegend": true,
         "type": "scattergeo"
        },
        {
         "geo": "geo",
         "hovertemplate": "<b>%{hovertext}</b><br><br>Country Code=MEA<br>2014=%{marker.size}<br>Country Name=%{location}<extra></extra>",
         "hovertext": [
          30.40355258
         ],
         "legendgroup": "MEA",
         "locations": [
          "Middle East & North Africa"
         ],
         "marker": {
          "color": "#FF6692",
          "size": [
           30.40355258
          ],
          "sizemode": "area",
          "sizeref": 0.14475000381475,
          "symbol": "circle"
         },
         "mode": "markers",
         "name": "MEA",
         "showlegend": true,
         "type": "scattergeo"
        },
        {
         "geo": "geo",
         "hovertemplate": "<b>%{hovertext}</b><br><br>Country Code=MEX<br>2014=%{marker.size}<br>Country Name=%{location}<extra></extra>",
         "hovertext": [
          9.8999996185
         ],
         "legendgroup": "MEX",
         "locations": [
          "Mexico"
         ],
         "marker": {
          "color": "#B6E880",
          "size": [
           9.8999996185
          ],
          "sizemode": "area",
          "sizeref": 0.14475000381475,
          "symbol": "circle"
         },
         "mode": "markers",
         "name": "MEX",
         "showlegend": true,
         "type": "scattergeo"
        },
        {
         "geo": "geo",
         "hovertemplate": "<b>%{hovertext}</b><br><br>Country Code=MIC<br>2014=%{marker.size}<br>Country Name=%{location}<extra></extra>",
         "hovertext": [
          13.890204546500001
         ],
         "legendgroup": "MIC",
         "locations": [
          "Middle income"
         ],
         "marker": {
          "color": "#FF97FF",
          "size": [
           13.890204546500001
          ],
          "sizemode": "area",
          "sizeref": 0.14475000381475,
          "symbol": "circle"
         },
         "mode": "markers",
         "name": "MIC",
         "showlegend": true,
         "type": "scattergeo"
        },
        {
         "geo": "geo",
         "hovertemplate": "<b>%{hovertext}</b><br><br>Country Code=MKD<br>2014=%{marker.size}<br>Country Name=%{location}<extra></extra>",
         "hovertext": [
          50.7999992371
         ],
         "legendgroup": "MKD",
         "locations": [
          "Macedonia, FYR"
         ],
         "marker": {
          "color": "#FECB52",
          "size": [
           50.7999992371
          ],
          "sizemode": "area",
          "sizeref": 0.14475000381475,
          "symbol": "circle"
         },
         "mode": "markers",
         "name": "MKD",
         "showlegend": true,
         "type": "scattergeo"
        },
        {
         "geo": "geo",
         "hovertemplate": "<b>%{hovertext}</b><br><br>Country Code=MLI<br>2014=%{marker.size}<br>Country Name=%{location}<extra></extra>",
         "hovertext": [
          10.5
         ],
         "legendgroup": "MLI",
         "locations": [
          "Mali"
         ],
         "marker": {
          "color": "#636efa",
          "size": [
           10.5
          ],
          "sizemode": "area",
          "sizeref": 0.14475000381475,
          "symbol": "circle"
         },
         "mode": "markers",
         "name": "MLI",
         "showlegend": true,
         "type": "scattergeo"
        },
        {
         "geo": "geo",
         "hovertemplate": "<b>%{hovertext}</b><br><br>Country Code=MLT<br>2014=%{marker.size}<br>Country Name=%{location}<extra></extra>",
         "hovertext": [
          13.600000381500001
         ],
         "legendgroup": "MLT",
         "locations": [
          "Malta"
         ],
         "marker": {
          "color": "#EF553B",
          "size": [
           13.600000381500001
          ],
          "sizemode": "area",
          "sizeref": 0.14475000381475,
          "symbol": "circle"
         },
         "mode": "markers",
         "name": "MLT",
         "showlegend": true,
         "type": "scattergeo"
        },
        {
         "geo": "geo",
         "hovertemplate": "<b>%{hovertext}</b><br><br>Country Code=MMR<br>2014=%{marker.size}<br>Country Name=%{location}<extra></extra>",
         "hovertext": [
          9.5
         ],
         "legendgroup": "MMR",
         "locations": [
          "Myanmar"
         ],
         "marker": {
          "color": "#00cc96",
          "size": [
           9.5
          ],
          "sizemode": "area",
          "sizeref": 0.14475000381475,
          "symbol": "circle"
         },
         "mode": "markers",
         "name": "MMR",
         "showlegend": true,
         "type": "scattergeo"
        },
        {
         "geo": "geo",
         "hovertemplate": "<b>%{hovertext}</b><br><br>Country Code=MNA<br>2014=%{marker.size}<br>Country Name=%{location}<extra></extra>",
         "hovertext": [
          31.683832911
         ],
         "legendgroup": "MNA",
         "locations": [
          "Middle East & North Africa (excluding high income)"
         ],
         "marker": {
          "color": "#ab63fa",
          "size": [
           31.683832911
          ],
          "sizemode": "area",
          "sizeref": 0.14475000381475,
          "symbol": "circle"
         },
         "mode": "markers",
         "name": "MNA",
         "showlegend": true,
         "type": "scattergeo"
        },
        {
         "geo": "geo",
         "hovertemplate": "<b>%{hovertext}</b><br><br>Country Code=MNE<br>2014=%{marker.size}<br>Country Name=%{location}<extra></extra>",
         "hovertext": [
          39.5
         ],
         "legendgroup": "MNE",
         "locations": [
          "Montenegro"
         ],
         "marker": {
          "color": "#FFA15A",
          "size": [
           39.5
          ],
          "sizemode": "area",
          "sizeref": 0.14475000381475,
          "symbol": "circle"
         },
         "mode": "markers",
         "name": "MNE",
         "showlegend": true,
         "type": "scattergeo"
        },
        {
         "geo": "geo",
         "hovertemplate": "<b>%{hovertext}</b><br><br>Country Code=MNG<br>2014=%{marker.size}<br>Country Name=%{location}<extra></extra>",
         "hovertext": [
          9.3000001907
         ],
         "legendgroup": "MNG",
         "locations": [
          "Mongolia"
         ],
         "marker": {
          "color": "#19d3f3",
          "size": [
           9.3000001907
          ],
          "sizemode": "area",
          "sizeref": 0.14475000381475,
          "symbol": "circle"
         },
         "mode": "markers",
         "name": "MNG",
         "showlegend": true,
         "type": "scattergeo"
        },
        {
         "geo": "geo",
         "hovertemplate": "<b>%{hovertext}</b><br><br>Country Code=MOZ<br>2014=%{marker.size}<br>Country Name=%{location}<extra></extra>",
         "hovertext": [
          40.7000007629
         ],
         "legendgroup": "MOZ",
         "locations": [
          "Mozambique"
         ],
         "marker": {
          "color": "#FF6692",
          "size": [
           40.7000007629
          ],
          "sizemode": "area",
          "sizeref": 0.14475000381475,
          "symbol": "circle"
         },
         "mode": "markers",
         "name": "MOZ",
         "showlegend": true,
         "type": "scattergeo"
        },
        {
         "geo": "geo",
         "hovertemplate": "<b>%{hovertext}</b><br><br>Country Code=MRT<br>2014=%{marker.size}<br>Country Name=%{location}<extra></extra>",
         "hovertext": [
          46.5999984741
         ],
         "legendgroup": "MRT",
         "locations": [
          "Mauritania"
         ],
         "marker": {
          "color": "#B6E880",
          "size": [
           46.5999984741
          ],
          "sizemode": "area",
          "sizeref": 0.14475000381475,
          "symbol": "circle"
         },
         "mode": "markers",
         "name": "MRT",
         "showlegend": true,
         "type": "scattergeo"
        },
        {
         "geo": "geo",
         "hovertemplate": "<b>%{hovertext}</b><br><br>Country Code=MUS<br>2014=%{marker.size}<br>Country Name=%{location}<extra></extra>",
         "hovertext": [
          21.2000007629
         ],
         "legendgroup": "MUS",
         "locations": [
          "Mauritius"
         ],
         "marker": {
          "color": "#FF97FF",
          "size": [
           21.2000007629
          ],
          "sizemode": "area",
          "sizeref": 0.14475000381475,
          "symbol": "circle"
         },
         "mode": "markers",
         "name": "MUS",
         "showlegend": true,
         "type": "scattergeo"
        },
        {
         "geo": "geo",
         "hovertemplate": "<b>%{hovertext}</b><br><br>Country Code=MWI<br>2014=%{marker.size}<br>Country Name=%{location}<extra></extra>",
         "hovertext": [
          13.800000190699999
         ],
         "legendgroup": "MWI",
         "locations": [
          "Malawi"
         ],
         "marker": {
          "color": "#FECB52",
          "size": [
           13.800000190699999
          ],
          "sizemode": "area",
          "sizeref": 0.14475000381475,
          "symbol": "circle"
         },
         "mode": "markers",
         "name": "MWI",
         "showlegend": true,
         "type": "scattergeo"
        },
        {
         "geo": "geo",
         "hovertemplate": "<b>%{hovertext}</b><br><br>Country Code=MYS<br>2014=%{marker.size}<br>Country Name=%{location}<extra></extra>",
         "hovertext": [
          6.6999998092999995
         ],
         "legendgroup": "MYS",
         "locations": [
          "Malaysia"
         ],
         "marker": {
          "color": "#636efa",
          "size": [
           6.6999998092999995
          ],
          "sizemode": "area",
          "sizeref": 0.14475000381475,
          "symbol": "circle"
         },
         "mode": "markers",
         "name": "MYS",
         "showlegend": true,
         "type": "scattergeo"
        },
        {
         "geo": "geo",
         "hovertemplate": "<b>%{hovertext}</b><br><br>Country Code=NAC<br>2014=%{marker.size}<br>Country Name=%{location}<extra></extra>",
         "hovertext": [
          13.9430995948
         ],
         "legendgroup": "NAC",
         "locations": [
          "North America"
         ],
         "marker": {
          "color": "#EF553B",
          "size": [
           13.9430995948
          ],
          "sizemode": "area",
          "sizeref": 0.14475000381475,
          "symbol": "circle"
         },
         "mode": "markers",
         "name": "NAC",
         "showlegend": true,
         "type": "scattergeo"
        },
        {
         "geo": "geo",
         "hovertemplate": "<b>%{hovertext}</b><br><br>Country Code=NAM<br>2014=%{marker.size}<br>Country Name=%{location}<extra></extra>",
         "hovertext": [
          38.7000007629
         ],
         "legendgroup": "NAM",
         "locations": [
          "Namibia"
         ],
         "marker": {
          "color": "#00cc96",
          "size": [
           38.7000007629
          ],
          "sizemode": "area",
          "sizeref": 0.14475000381475,
          "symbol": "circle"
         },
         "mode": "markers",
         "name": "NAM",
         "showlegend": true,
         "type": "scattergeo"
        },
        {
         "geo": "geo",
         "hovertemplate": "<b>%{hovertext}</b><br><br>Country Code=NER<br>2014=%{marker.size}<br>Country Name=%{location}<extra></extra>",
         "hovertext": [
          7.099999904600001
         ],
         "legendgroup": "NER",
         "locations": [
          "Niger"
         ],
         "marker": {
          "color": "#ab63fa",
          "size": [
           7.099999904600001
          ],
          "sizemode": "area",
          "sizeref": 0.14475000381475,
          "symbol": "circle"
         },
         "mode": "markers",
         "name": "NER",
         "showlegend": true,
         "type": "scattergeo"
        },
        {
         "geo": "geo",
         "hovertemplate": "<b>%{hovertext}</b><br><br>Country Code=NGA<br>2014=%{marker.size}<br>Country Name=%{location}<extra></extra>",
         "hovertext": [
          13.600000381500001
         ],
         "legendgroup": "NGA",
         "locations": [
          "Nigeria"
         ],
         "marker": {
          "color": "#FFA15A",
          "size": [
           13.600000381500001
          ],
          "sizemode": "area",
          "sizeref": 0.14475000381475,
          "symbol": "circle"
         },
         "mode": "markers",
         "name": "NGA",
         "showlegend": true,
         "type": "scattergeo"
        },
        {
         "geo": "geo",
         "hovertemplate": "<b>%{hovertext}</b><br><br>Country Code=NIC<br>2014=%{marker.size}<br>Country Name=%{location}<extra></extra>",
         "hovertext": [
          7.599999904600001
         ],
         "legendgroup": "NIC",
         "locations": [
          "Nicaragua"
         ],
         "marker": {
          "color": "#19d3f3",
          "size": [
           7.599999904600001
          ],
          "sizemode": "area",
          "sizeref": 0.14475000381475,
          "symbol": "circle"
         },
         "mode": "markers",
         "name": "NIC",
         "showlegend": true,
         "type": "scattergeo"
        },
        {
         "geo": "geo",
         "hovertemplate": "<b>%{hovertext}</b><br><br>Country Code=NLD<br>2014=%{marker.size}<br>Country Name=%{location}<extra></extra>",
         "hovertext": [
          11.100000381500001
         ],
         "legendgroup": "NLD",
         "locations": [
          "Netherlands"
         ],
         "marker": {
          "color": "#FF6692",
          "size": [
           11.100000381500001
          ],
          "sizemode": "area",
          "sizeref": 0.14475000381475,
          "symbol": "circle"
         },
         "mode": "markers",
         "name": "NLD",
         "showlegend": true,
         "type": "scattergeo"
        },
        {
         "geo": "geo",
         "hovertemplate": "<b>%{hovertext}</b><br><br>Country Code=NOR<br>2014=%{marker.size}<br>Country Name=%{location}<extra></extra>",
         "hovertext": [
          8.3999996185
         ],
         "legendgroup": "NOR",
         "locations": [
          "Norway"
         ],
         "marker": {
          "color": "#B6E880",
          "size": [
           8.3999996185
          ],
          "sizemode": "area",
          "sizeref": 0.14475000381475,
          "symbol": "circle"
         },
         "mode": "markers",
         "name": "NOR",
         "showlegend": true,
         "type": "scattergeo"
        },
        {
         "geo": "geo",
         "hovertemplate": "<b>%{hovertext}</b><br><br>Country Code=NPL<br>2014=%{marker.size}<br>Country Name=%{location}<extra></extra>",
         "hovertext": [
          4
         ],
         "legendgroup": "NPL",
         "locations": [
          "Nepal"
         ],
         "marker": {
          "color": "#FF97FF",
          "size": [
           4
          ],
          "sizemode": "area",
          "sizeref": 0.14475000381475,
          "symbol": "circle"
         },
         "mode": "markers",
         "name": "NPL",
         "showlegend": true,
         "type": "scattergeo"
        },
        {
         "geo": "geo",
         "hovertemplate": "<b>%{hovertext}</b><br><br>Country Code=NZL<br>2014=%{marker.size}<br>Country Name=%{location}<extra></extra>",
         "hovertext": [
          14.600000381500001
         ],
         "legendgroup": "NZL",
         "locations": [
          "New Zealand"
         ],
         "marker": {
          "color": "#FECB52",
          "size": [
           14.600000381500001
          ],
          "sizemode": "area",
          "sizeref": 0.14475000381475,
          "symbol": "circle"
         },
         "mode": "markers",
         "name": "NZL",
         "showlegend": true,
         "type": "scattergeo"
        },
        {
         "geo": "geo",
         "hovertemplate": "<b>%{hovertext}</b><br><br>Country Code=OED<br>2014=%{marker.size}<br>Country Name=%{location}<extra></extra>",
         "hovertext": [
          16.4083208222
         ],
         "legendgroup": "OED",
         "locations": [
          "OECD members"
         ],
         "marker": {
          "color": "#636efa",
          "size": [
           16.4083208222
          ],
          "sizemode": "area",
          "sizeref": 0.14475000381475,
          "symbol": "circle"
         },
         "mode": "markers",
         "name": "OED",
         "showlegend": true,
         "type": "scattergeo"
        },
        {
         "geo": "geo",
         "hovertemplate": "<b>%{hovertext}</b><br><br>Country Code=OMN<br>2014=%{marker.size}<br>Country Name=%{location}<extra></extra>",
         "hovertext": [
          18.7999992371
         ],
         "legendgroup": "OMN",
         "locations": [
          "Oman"
         ],
         "marker": {
          "color": "#EF553B",
          "size": [
           18.7999992371
          ],
          "sizemode": "area",
          "sizeref": 0.14475000381475,
          "symbol": "circle"
         },
         "mode": "markers",
         "name": "OMN",
         "showlegend": true,
         "type": "scattergeo"
        },
        {
         "geo": "geo",
         "hovertemplate": "<b>%{hovertext}</b><br><br>Country Code=OSS<br>2014=%{marker.size}<br>Country Name=%{location}<extra></extra>",
         "hovertext": [
          23.321337442199997
         ],
         "legendgroup": "OSS",
         "locations": [
          "Other small states"
         ],
         "marker": {
          "color": "#00cc96",
          "size": [
           23.321337442199997
          ],
          "sizemode": "area",
          "sizeref": 0.14475000381475,
          "symbol": "circle"
         },
         "mode": "markers",
         "name": "OSS",
         "showlegend": true,
         "type": "scattergeo"
        },
        {
         "geo": "geo",
         "hovertemplate": "<b>%{hovertext}</b><br><br>Country Code=PAK<br>2014=%{marker.size}<br>Country Name=%{location}<extra></extra>",
         "hovertext": [
          8.6000003815
         ],
         "legendgroup": "PAK",
         "locations": [
          "Pakistan"
         ],
         "marker": {
          "color": "#ab63fa",
          "size": [
           8.6000003815
          ],
          "sizemode": "area",
          "sizeref": 0.14475000381475,
          "symbol": "circle"
         },
         "mode": "markers",
         "name": "PAK",
         "showlegend": true,
         "type": "scattergeo"
        },
        {
         "geo": "geo",
         "hovertemplate": "<b>%{hovertext}</b><br><br>Country Code=PAN<br>2014=%{marker.size}<br>Country Name=%{location}<extra></extra>",
         "hovertext": [
          11
         ],
         "legendgroup": "PAN",
         "locations": [
          "Panama"
         ],
         "marker": {
          "color": "#FFA15A",
          "size": [
           11
          ],
          "sizemode": "area",
          "sizeref": 0.14475000381475,
          "symbol": "circle"
         },
         "mode": "markers",
         "name": "PAN",
         "showlegend": true,
         "type": "scattergeo"
        },
        {
         "geo": "geo",
         "hovertemplate": "<b>%{hovertext}</b><br><br>Country Code=PER<br>2014=%{marker.size}<br>Country Name=%{location}<extra></extra>",
         "hovertext": [
          9.1999998093
         ],
         "legendgroup": "PER",
         "locations": [
          "Peru"
         ],
         "marker": {
          "color": "#19d3f3",
          "size": [
           9.1999998093
          ],
          "sizemode": "area",
          "sizeref": 0.14475000381475,
          "symbol": "circle"
         },
         "mode": "markers",
         "name": "PER",
         "showlegend": true,
         "type": "scattergeo"
        },
        {
         "geo": "geo",
         "hovertemplate": "<b>%{hovertext}</b><br><br>Country Code=PHL<br>2014=%{marker.size}<br>Country Name=%{location}<extra></extra>",
         "hovertext": [
          16.3999996185
         ],
         "legendgroup": "PHL",
         "locations": [
          "Philippines"
         ],
         "marker": {
          "color": "#FF6692",
          "size": [
           16.3999996185
          ],
          "sizemode": "area",
          "sizeref": 0.14475000381475,
          "symbol": "circle"
         },
         "mode": "markers",
         "name": "PHL",
         "showlegend": true,
         "type": "scattergeo"
        },
        {
         "geo": "geo",
         "hovertemplate": "<b>%{hovertext}</b><br><br>Country Code=PNG<br>2014=%{marker.size}<br>Country Name=%{location}<extra></extra>",
         "hovertext": [
          5.400000095399999
         ],
         "legendgroup": "PNG",
         "locations": [
          "Papua New Guinea"
         ],
         "marker": {
          "color": "#B6E880",
          "size": [
           5.400000095399999
          ],
          "sizemode": "area",
          "sizeref": 0.14475000381475,
          "symbol": "circle"
         },
         "mode": "markers",
         "name": "PNG",
         "showlegend": true,
         "type": "scattergeo"
        },
        {
         "geo": "geo",
         "hovertemplate": "<b>%{hovertext}</b><br><br>Country Code=POL<br>2014=%{marker.size}<br>Country Name=%{location}<extra></extra>",
         "hovertext": [
          24
         ],
         "legendgroup": "POL",
         "locations": [
          "Poland"
         ],
         "marker": {
          "color": "#FF97FF",
          "size": [
           24
          ],
          "sizemode": "area",
          "sizeref": 0.14475000381475,
          "symbol": "circle"
         },
         "mode": "markers",
         "name": "POL",
         "showlegend": true,
         "type": "scattergeo"
        },
        {
         "geo": "geo",
         "hovertemplate": "<b>%{hovertext}</b><br><br>Country Code=PRE<br>2014=%{marker.size}<br>Country Name=%{location}<extra></extra>",
         "hovertext": [
          13.979841325499999
         ],
         "legendgroup": "PRE",
         "locations": [
          "Pre-demographic dividend"
         ],
         "marker": {
          "color": "#FECB52",
          "size": [
           13.979841325499999
          ],
          "sizemode": "area",
          "sizeref": 0.14475000381475,
          "symbol": "circle"
         },
         "mode": "markers",
         "name": "PRE",
         "showlegend": true,
         "type": "scattergeo"
        },
        {
         "geo": "geo",
         "hovertemplate": "<b>%{hovertext}</b><br><br>Country Code=PRI<br>2014=%{marker.size}<br>Country Name=%{location}<extra></extra>",
         "hovertext": [
          27.7999992371
         ],
         "legendgroup": "PRI",
         "locations": [
          "Puerto Rico"
         ],
         "marker": {
          "color": "#636efa",
          "size": [
           27.7999992371
          ],
          "sizemode": "area",
          "sizeref": 0.14475000381475,
          "symbol": "circle"
         },
         "mode": "markers",
         "name": "PRI",
         "showlegend": true,
         "type": "scattergeo"
        },
        {
         "geo": "geo",
         "hovertemplate": "<b>%{hovertext}</b><br><br>Country Code=PRK<br>2014=%{marker.size}<br>Country Name=%{location}<extra></extra>",
         "hovertext": [
          10.6000003815
         ],
         "legendgroup": "PRK",
         "locations": [
          "Korea, Dem. People’s Rep."
         ],
         "marker": {
          "color": "#EF553B",
          "size": [
           10.6000003815
          ],
          "sizemode": "area",
          "sizeref": 0.14475000381475,
          "symbol": "circle"
         },
         "mode": "markers",
         "name": "PRK",
         "showlegend": true,
         "type": "scattergeo"
        },
        {
         "geo": "geo",
         "hovertemplate": "<b>%{hovertext}</b><br><br>Country Code=PRT<br>2014=%{marker.size}<br>Country Name=%{location}<extra></extra>",
         "hovertext": [
          36.7999992371
         ],
         "legendgroup": "PRT",
         "locations": [
          "Portugal"
         ],
         "marker": {
          "color": "#00cc96",
          "size": [
           36.7999992371
          ],
          "sizemode": "area",
          "sizeref": 0.14475000381475,
          "symbol": "circle"
         },
         "mode": "markers",
         "name": "PRT",
         "showlegend": true,
         "type": "scattergeo"
        },
        {
         "geo": "geo",
         "hovertemplate": "<b>%{hovertext}</b><br><br>Country Code=PRY<br>2014=%{marker.size}<br>Country Name=%{location}<extra></extra>",
         "hovertext": [
          9.3000001907
         ],
         "legendgroup": "PRY",
         "locations": [
          "Paraguay"
         ],
         "marker": {
          "color": "#ab63fa",
          "size": [
           9.3000001907
          ],
          "sizemode": "area",
          "sizeref": 0.14475000381475,
          "symbol": "circle"
         },
         "mode": "markers",
         "name": "PRY",
         "showlegend": true,
         "type": "scattergeo"
        },
        {
         "geo": "geo",
         "hovertemplate": "<b>%{hovertext}</b><br><br>Country Code=PST<br>2014=%{marker.size}<br>Country Name=%{location}<extra></extra>",
         "hovertext": [
          17.1987833422
         ],
         "legendgroup": "PST",
         "locations": [
          "Post-demographic dividend"
         ],
         "marker": {
          "color": "#FFA15A",
          "size": [
           17.1987833422
          ],
          "sizemode": "area",
          "sizeref": 0.14475000381475,
          "symbol": "circle"
         },
         "mode": "markers",
         "name": "PST",
         "showlegend": true,
         "type": "scattergeo"
        },
        {
         "geo": "geo",
         "hovertemplate": "<b>%{hovertext}</b><br><br>Country Code=QAT<br>2014=%{marker.size}<br>Country Name=%{location}<extra></extra>",
         "hovertext": [
          1.2999999523
         ],
         "legendgroup": "QAT",
         "locations": [
          "Qatar"
         ],
         "marker": {
          "color": "#19d3f3",
          "size": [
           1.2999999523
          ],
          "sizemode": "area",
          "sizeref": 0.14475000381475,
          "symbol": "circle"
         },
         "mode": "markers",
         "name": "QAT",
         "showlegend": true,
         "type": "scattergeo"
        },
        {
         "geo": "geo",
         "hovertemplate": "<b>%{hovertext}</b><br><br>Country Code=ROU<br>2014=%{marker.size}<br>Country Name=%{location}<extra></extra>",
         "hovertext": [
          25.1000003815
         ],
         "legendgroup": "ROU",
         "locations": [
          "Romania"
         ],
         "marker": {
          "color": "#FF6692",
          "size": [
           25.1000003815
          ],
          "sizemode": "area",
          "sizeref": 0.14475000381475,
          "symbol": "circle"
         },
         "mode": "markers",
         "name": "ROU",
         "showlegend": true,
         "type": "scattergeo"
        },
        {
         "geo": "geo",
         "hovertemplate": "<b>%{hovertext}</b><br><br>Country Code=RUS<br>2014=%{marker.size}<br>Country Name=%{location}<extra></extra>",
         "hovertext": [
          12.899999618499999
         ],
         "legendgroup": "RUS",
         "locations": [
          "Russian Federation"
         ],
         "marker": {
          "color": "#B6E880",
          "size": [
           12.899999618499999
          ],
          "sizemode": "area",
          "sizeref": 0.14475000381475,
          "symbol": "circle"
         },
         "mode": "markers",
         "name": "RUS",
         "showlegend": true,
         "type": "scattergeo"
        },
        {
         "geo": "geo",
         "hovertemplate": "<b>%{hovertext}</b><br><br>Country Code=RWA<br>2014=%{marker.size}<br>Country Name=%{location}<extra></extra>",
         "hovertext": [
          0.6999999881
         ],
         "legendgroup": "RWA",
         "locations": [
          "Rwanda"
         ],
         "marker": {
          "color": "#FF97FF",
          "size": [
           0.6999999881
          ],
          "sizemode": "area",
          "sizeref": 0.14475000381475,
          "symbol": "circle"
         },
         "mode": "markers",
         "name": "RWA",
         "showlegend": true,
         "type": "scattergeo"
        },
        {
         "geo": "geo",
         "hovertemplate": "<b>%{hovertext}</b><br><br>Country Code=SAS<br>2014=%{marker.size}<br>Country Name=%{location}<extra></extra>",
         "hovertext": [
          10.2511491142
         ],
         "legendgroup": "SAS",
         "locations": [
          "South Asia"
         ],
         "marker": {
          "color": "#FECB52",
          "size": [
           10.2511491142
          ],
          "sizemode": "area",
          "sizeref": 0.14475000381475,
          "symbol": "circle"
         },
         "mode": "markers",
         "name": "SAS",
         "showlegend": true,
         "type": "scattergeo"
        },
        {
         "geo": "geo",
         "hovertemplate": "<b>%{hovertext}</b><br><br>Country Code=SAU<br>2014=%{marker.size}<br>Country Name=%{location}<extra></extra>",
         "hovertext": [
          29.5
         ],
         "legendgroup": "SAU",
         "locations": [
          "Saudi Arabia"
         ],
         "marker": {
          "color": "#636efa",
          "size": [
           29.5
          ],
          "sizemode": "area",
          "sizeref": 0.14475000381475,
          "symbol": "circle"
         },
         "mode": "markers",
         "name": "SAU",
         "showlegend": true,
         "type": "scattergeo"
        },
        {
         "geo": "geo",
         "hovertemplate": "<b>%{hovertext}</b><br><br>Country Code=SDN<br>2014=%{marker.size}<br>Country Name=%{location}<extra></extra>",
         "hovertext": [
          23.2999992371
         ],
         "legendgroup": "SDN",
         "locations": [
          "Sudan"
         ],
         "marker": {
          "color": "#EF553B",
          "size": [
           23.2999992371
          ],
          "sizemode": "area",
          "sizeref": 0.14475000381475,
          "symbol": "circle"
         },
         "mode": "markers",
         "name": "SDN",
         "showlegend": true,
         "type": "scattergeo"
        },
        {
         "geo": "geo",
         "hovertemplate": "<b>%{hovertext}</b><br><br>Country Code=SEN<br>2014=%{marker.size}<br>Country Name=%{location}<extra></extra>",
         "hovertext": [
          13
         ],
         "legendgroup": "SEN",
         "locations": [
          "Senegal"
         ],
         "marker": {
          "color": "#00cc96",
          "size": [
           13
          ],
          "sizemode": "area",
          "sizeref": 0.14475000381475,
          "symbol": "circle"
         },
         "mode": "markers",
         "name": "SEN",
         "showlegend": true,
         "type": "scattergeo"
        },
        {
         "geo": "geo",
         "hovertemplate": "<b>%{hovertext}</b><br><br>Country Code=SGP<br>2014=%{marker.size}<br>Country Name=%{location}<extra></extra>",
         "hovertext": [
          9.6000003815
         ],
         "legendgroup": "SGP",
         "locations": [
          "Singapore"
         ],
         "marker": {
          "color": "#ab63fa",
          "size": [
           9.6000003815
          ],
          "sizemode": "area",
          "sizeref": 0.14475000381475,
          "symbol": "circle"
         },
         "mode": "markers",
         "name": "SGP",
         "showlegend": true,
         "type": "scattergeo"
        },
        {
         "geo": "geo",
         "hovertemplate": "<b>%{hovertext}</b><br><br>Country Code=SLB<br>2014=%{marker.size}<br>Country Name=%{location}<extra></extra>",
         "hovertext": [
          9.5
         ],
         "legendgroup": "SLB",
         "locations": [
          "Solomon Islands"
         ],
         "marker": {
          "color": "#FFA15A",
          "size": [
           9.5
          ],
          "sizemode": "area",
          "sizeref": 0.14475000381475,
          "symbol": "circle"
         },
         "mode": "markers",
         "name": "SLB",
         "showlegend": true,
         "type": "scattergeo"
        },
        {
         "geo": "geo",
         "hovertemplate": "<b>%{hovertext}</b><br><br>Country Code=SLE<br>2014=%{marker.size}<br>Country Name=%{location}<extra></extra>",
         "hovertext": [
          4.9000000954
         ],
         "legendgroup": "SLE",
         "locations": [
          "Sierra Leone"
         ],
         "marker": {
          "color": "#19d3f3",
          "size": [
           4.9000000954
          ],
          "sizemode": "area",
          "sizeref": 0.14475000381475,
          "symbol": "circle"
         },
         "mode": "markers",
         "name": "SLE",
         "showlegend": true,
         "type": "scattergeo"
        },
        {
         "geo": "geo",
         "hovertemplate": "<b>%{hovertext}</b><br><br>Country Code=SLV<br>2014=%{marker.size}<br>Country Name=%{location}<extra></extra>",
         "hovertext": [
          11.699999809300001
         ],
         "legendgroup": "SLV",
         "locations": [
          "El Salvador"
         ],
         "marker": {
          "color": "#FF6692",
          "size": [
           11.699999809300001
          ],
          "sizemode": "area",
          "sizeref": 0.14475000381475,
          "symbol": "circle"
         },
         "mode": "markers",
         "name": "SLV",
         "showlegend": true,
         "type": "scattergeo"
        },
        {
         "geo": "geo",
         "hovertemplate": "<b>%{hovertext}</b><br><br>Country Code=SOM<br>2014=%{marker.size}<br>Country Name=%{location}<extra></extra>",
         "hovertext": [
          10.6000003815
         ],
         "legendgroup": "SOM",
         "locations": [
          "Somalia"
         ],
         "marker": {
          "color": "#B6E880",
          "size": [
           10.6000003815
          ],
          "sizemode": "area",
          "sizeref": 0.14475000381475,
          "symbol": "circle"
         },
         "mode": "markers",
         "name": "SOM",
         "showlegend": true,
         "type": "scattergeo"
        },
        {
         "geo": "geo",
         "hovertemplate": "<b>%{hovertext}</b><br><br>Country Code=SRB<br>2014=%{marker.size}<br>Country Name=%{location}<extra></extra>",
         "hovertext": [
          49.5
         ],
         "legendgroup": "SRB",
         "locations": [
          "Serbia"
         ],
         "marker": {
          "color": "#FF97FF",
          "size": [
           49.5
          ],
          "sizemode": "area",
          "sizeref": 0.14475000381475,
          "symbol": "circle"
         },
         "mode": "markers",
         "name": "SRB",
         "showlegend": true,
         "type": "scattergeo"
        },
        {
         "geo": "geo",
         "hovertemplate": "<b>%{hovertext}</b><br><br>Country Code=SSA<br>2014=%{marker.size}<br>Country Name=%{location}<extra></extra>",
         "hovertext": [
          14.1242997443
         ],
         "legendgroup": "SSA",
         "locations": [
          "Sub-Saharan Africa (excluding high income)"
         ],
         "marker": {
          "color": "#FECB52",
          "size": [
           14.1242997443
          ],
          "sizemode": "area",
          "sizeref": 0.14475000381475,
          "symbol": "circle"
         },
         "mode": "markers",
         "name": "SSA",
         "showlegend": true,
         "type": "scattergeo"
        },
        {
         "geo": "geo",
         "hovertemplate": "<b>%{hovertext}</b><br><br>Country Code=SSF<br>2014=%{marker.size}<br>Country Name=%{location}<extra></extra>",
         "hovertext": [
          14.1242997443
         ],
         "legendgroup": "SSF",
         "locations": [
          "Sub-Saharan Africa"
         ],
         "marker": {
          "color": "#636efa",
          "size": [
           14.1242997443
          ],
          "sizemode": "area",
          "sizeref": 0.14475000381475,
          "symbol": "circle"
         },
         "mode": "markers",
         "name": "SSF",
         "showlegend": true,
         "type": "scattergeo"
        },
        {
         "geo": "geo",
         "hovertemplate": "<b>%{hovertext}</b><br><br>Country Code=SST<br>2014=%{marker.size}<br>Country Name=%{location}<extra></extra>",
         "hovertext": [
          23.1944172222
         ],
         "legendgroup": "SST",
         "locations": [
          "Small states"
         ],
         "marker": {
          "color": "#EF553B",
          "size": [
           23.1944172222
          ],
          "sizemode": "area",
          "sizeref": 0.14475000381475,
          "symbol": "circle"
         },
         "mode": "markers",
         "name": "SST",
         "showlegend": true,
         "type": "scattergeo"
        },
        {
         "geo": "geo",
         "hovertemplate": "<b>%{hovertext}</b><br><br>Country Code=SUR<br>2014=%{marker.size}<br>Country Name=%{location}<extra></extra>",
         "hovertext": [
          17.8999996185
         ],
         "legendgroup": "SUR",
         "locations": [
          "Suriname"
         ],
         "marker": {
          "color": "#00cc96",
          "size": [
           17.8999996185
          ],
          "sizemode": "area",
          "sizeref": 0.14475000381475,
          "symbol": "circle"
         },
         "mode": "markers",
         "name": "SUR",
         "showlegend": true,
         "type": "scattergeo"
        },
        {
         "geo": "geo",
         "hovertemplate": "<b>%{hovertext}</b><br><br>Country Code=SVK<br>2014=%{marker.size}<br>Country Name=%{location}<extra></extra>",
         "hovertext": [
          31.1000003815
         ],
         "legendgroup": "SVK",
         "locations": [
          "Slovak Republic"
         ],
         "marker": {
          "color": "#ab63fa",
          "size": [
           31.1000003815
          ],
          "sizemode": "area",
          "sizeref": 0.14475000381475,
          "symbol": "circle"
         },
         "mode": "markers",
         "name": "SVK",
         "showlegend": true,
         "type": "scattergeo"
        },
        {
         "geo": "geo",
         "hovertemplate": "<b>%{hovertext}</b><br><br>Country Code=SVN<br>2014=%{marker.size}<br>Country Name=%{location}<extra></extra>",
         "hovertext": [
          20.7999992371
         ],
         "legendgroup": "SVN",
         "locations": [
          "Slovenia"
         ],
         "marker": {
          "color": "#FFA15A",
          "size": [
           20.7999992371
          ],
          "sizemode": "area",
          "sizeref": 0.14475000381475,
          "symbol": "circle"
         },
         "mode": "markers",
         "name": "SVN",
         "showlegend": true,
         "type": "scattergeo"
        },
        {
         "geo": "geo",
         "hovertemplate": "<b>%{hovertext}</b><br><br>Country Code=SWE<br>2014=%{marker.size}<br>Country Name=%{location}<extra></extra>",
         "hovertext": [
          22.7999992371
         ],
         "legendgroup": "SWE",
         "locations": [
          "Sweden"
         ],
         "marker": {
          "color": "#19d3f3",
          "size": [
           22.7999992371
          ],
          "sizemode": "area",
          "sizeref": 0.14475000381475,
          "symbol": "circle"
         },
         "mode": "markers",
         "name": "SWE",
         "showlegend": true,
         "type": "scattergeo"
        },
        {
         "geo": "geo",
         "hovertemplate": "<b>%{hovertext}</b><br><br>Country Code=SWZ<br>2014=%{marker.size}<br>Country Name=%{location}<extra></extra>",
         "hovertext": [
          42.5999984741
         ],
         "legendgroup": "SWZ",
         "locations": [
          "Swaziland"
         ],
         "marker": {
          "color": "#FF6692",
          "size": [
           42.5999984741
          ],
          "sizemode": "area",
          "sizeref": 0.14475000381475,
          "symbol": "circle"
         },
         "mode": "markers",
         "name": "SWZ",
         "showlegend": true,
         "type": "scattergeo"
        },
        {
         "geo": "geo",
         "hovertemplate": "<b>%{hovertext}</b><br><br>Country Code=SYR<br>2014=%{marker.size}<br>Country Name=%{location}<extra></extra>",
         "hovertext": [
          30.1000003815
         ],
         "legendgroup": "SYR",
         "locations": [
          "Syrian Arab Republic"
         ],
         "marker": {
          "color": "#B6E880",
          "size": [
           30.1000003815
          ],
          "sizemode": "area",
          "sizeref": 0.14475000381475,
          "symbol": "circle"
         },
         "mode": "markers",
         "name": "SYR",
         "showlegend": true,
         "type": "scattergeo"
        },
        {
         "geo": "geo",
         "hovertemplate": "<b>%{hovertext}</b><br><br>Country Code=TCD<br>2014=%{marker.size}<br>Country Name=%{location}<extra></extra>",
         "hovertext": [
          10.5
         ],
         "legendgroup": "TCD",
         "locations": [
          "Chad"
         ],
         "marker": {
          "color": "#FF97FF",
          "size": [
           10.5
          ],
          "sizemode": "area",
          "sizeref": 0.14475000381475,
          "symbol": "circle"
         },
         "mode": "markers",
         "name": "TCD",
         "showlegend": true,
         "type": "scattergeo"
        },
        {
         "geo": "geo",
         "hovertemplate": "<b>%{hovertext}</b><br><br>Country Code=TEA<br>2014=%{marker.size}<br>Country Name=%{location}<extra></extra>",
         "hovertext": [
          11.806054095899999
         ],
         "legendgroup": "TEA",
         "locations": [
          "East Asia & Pacific (IDA & IBRD countries)"
         ],
         "marker": {
          "color": "#FECB52",
          "size": [
           11.806054095899999
          ],
          "sizemode": "area",
          "sizeref": 0.14475000381475,
          "symbol": "circle"
         },
         "mode": "markers",
         "name": "TEA",
         "showlegend": true,
         "type": "scattergeo"
        },
        {
         "geo": "geo",
         "hovertemplate": "<b>%{hovertext}</b><br><br>Country Code=TEC<br>2014=%{marker.size}<br>Country Name=%{location}<extra></extra>",
         "hovertext": [
          17.9734925612
         ],
         "legendgroup": "TEC",
         "locations": [
          "Europe & Central Asia (IDA & IBRD countries)"
         ],
         "marker": {
          "color": "#636efa",
          "size": [
           17.9734925612
          ],
          "sizemode": "area",
          "sizeref": 0.14475000381475,
          "symbol": "circle"
         },
         "mode": "markers",
         "name": "TEC",
         "showlegend": true,
         "type": "scattergeo"
        },
        {
         "geo": "geo",
         "hovertemplate": "<b>%{hovertext}</b><br><br>Country Code=TGO<br>2014=%{marker.size}<br>Country Name=%{location}<extra></extra>",
         "hovertext": [
          10.6999998093
         ],
         "legendgroup": "TGO",
         "locations": [
          "Togo"
         ],
         "marker": {
          "color": "#EF553B",
          "size": [
           10.6999998093
          ],
          "sizemode": "area",
          "sizeref": 0.14475000381475,
          "symbol": "circle"
         },
         "mode": "markers",
         "name": "TGO",
         "showlegend": true,
         "type": "scattergeo"
        },
        {
         "geo": "geo",
         "hovertemplate": "<b>%{hovertext}</b><br><br>Country Code=THA<br>2014=%{marker.size}<br>Country Name=%{location}<extra></extra>",
         "hovertext": [
          3.9000000954000003
         ],
         "legendgroup": "THA",
         "locations": [
          "Thailand"
         ],
         "marker": {
          "color": "#00cc96",
          "size": [
           3.9000000954000003
          ],
          "sizemode": "area",
          "sizeref": 0.14475000381475,
          "symbol": "circle"
         },
         "mode": "markers",
         "name": "THA",
         "showlegend": true,
         "type": "scattergeo"
        },
        {
         "geo": "geo",
         "hovertemplate": "<b>%{hovertext}</b><br><br>Country Code=TJK<br>2014=%{marker.size}<br>Country Name=%{location}<extra></extra>",
         "hovertext": [
          15.5
         ],
         "legendgroup": "TJK",
         "locations": [
          "Tajikistan"
         ],
         "marker": {
          "color": "#ab63fa",
          "size": [
           15.5
          ],
          "sizemode": "area",
          "sizeref": 0.14475000381475,
          "symbol": "circle"
         },
         "mode": "markers",
         "name": "TJK",
         "showlegend": true,
         "type": "scattergeo"
        },
        {
         "geo": "geo",
         "hovertemplate": "<b>%{hovertext}</b><br><br>Country Code=TKM<br>2014=%{marker.size}<br>Country Name=%{location}<extra></extra>",
         "hovertext": [
          20.2000007629
         ],
         "legendgroup": "TKM",
         "locations": [
          "Turkmenistan"
         ],
         "marker": {
          "color": "#FFA15A",
          "size": [
           20.2000007629
          ],
          "sizemode": "area",
          "sizeref": 0.14475000381475,
          "symbol": "circle"
         },
         "mode": "markers",
         "name": "TKM",
         "showlegend": true,
         "type": "scattergeo"
        },
        {
         "geo": "geo",
         "hovertemplate": "<b>%{hovertext}</b><br><br>Country Code=TLA<br>2014=%{marker.size}<br>Country Name=%{location}<extra></extra>",
         "hovertext": [
          14.0410692882
         ],
         "legendgroup": "TLA",
         "locations": [
          "Latin America & the Caribbean (IDA & IBRD countries)"
         ],
         "marker": {
          "color": "#19d3f3",
          "size": [
           14.0410692882
          ],
          "sizemode": "area",
          "sizeref": 0.14475000381475,
          "symbol": "circle"
         },
         "mode": "markers",
         "name": "TLA",
         "showlegend": true,
         "type": "scattergeo"
        },
        {
         "geo": "geo",
         "hovertemplate": "<b>%{hovertext}</b><br><br>Country Code=TMN<br>2014=%{marker.size}<br>Country Name=%{location}<extra></extra>",
         "hovertext": [
          31.5217876817
         ],
         "legendgroup": "TMN",
         "locations": [
          "Middle East & North Africa (IDA & IBRD countries)"
         ],
         "marker": {
          "color": "#FF6692",
          "size": [
           31.5217876817
          ],
          "sizemode": "area",
          "sizeref": 0.14475000381475,
          "symbol": "circle"
         },
         "mode": "markers",
         "name": "TMN",
         "showlegend": true,
         "type": "scattergeo"
        },
        {
         "geo": "geo",
         "hovertemplate": "<b>%{hovertext}</b><br><br>Country Code=TLS<br>2014=%{marker.size}<br>Country Name=%{location}<extra></extra>",
         "hovertext": [
          14
         ],
         "legendgroup": "TLS",
         "locations": [
          "Timor-Leste"
         ],
         "marker": {
          "color": "#B6E880",
          "size": [
           14
          ],
          "sizemode": "area",
          "sizeref": 0.14475000381475,
          "symbol": "circle"
         },
         "mode": "markers",
         "name": "TLS",
         "showlegend": true,
         "type": "scattergeo"
        },
        {
         "geo": "geo",
         "hovertemplate": "<b>%{hovertext}</b><br><br>Country Code=TSA<br>2014=%{marker.size}<br>Country Name=%{location}<extra></extra>",
         "hovertext": [
          10.2511491142
         ],
         "legendgroup": "TSA",
         "locations": [
          "South Asia (IDA & IBRD)"
         ],
         "marker": {
          "color": "#FF97FF",
          "size": [
           10.2511491142
          ],
          "sizemode": "area",
          "sizeref": 0.14475000381475,
          "symbol": "circle"
         },
         "mode": "markers",
         "name": "TSA",
         "showlegend": true,
         "type": "scattergeo"
        },
        {
         "geo": "geo",
         "hovertemplate": "<b>%{hovertext}</b><br><br>Country Code=TSS<br>2014=%{marker.size}<br>Country Name=%{location}<extra></extra>",
         "hovertext": [
          14.1242997443
         ],
         "legendgroup": "TSS",
         "locations": [
          "Sub-Saharan Africa (IDA & IBRD countries)"
         ],
         "marker": {
          "color": "#FECB52",
          "size": [
           14.1242997443
          ],
          "sizemode": "area",
          "sizeref": 0.14475000381475,
          "symbol": "circle"
         },
         "mode": "markers",
         "name": "TSS",
         "showlegend": true,
         "type": "scattergeo"
        },
        {
         "geo": "geo",
         "hovertemplate": "<b>%{hovertext}</b><br><br>Country Code=TTO<br>2014=%{marker.size}<br>Country Name=%{location}<extra></extra>",
         "hovertext": [
          10.6000003815
         ],
         "legendgroup": "TTO",
         "locations": [
          "Trinidad and Tobago"
         ],
         "marker": {
          "color": "#636efa",
          "size": [
           10.6000003815
          ],
          "sizemode": "area",
          "sizeref": 0.14475000381475,
          "symbol": "circle"
         },
         "mode": "markers",
         "name": "TTO",
         "showlegend": true,
         "type": "scattergeo"
        },
        {
         "geo": "geo",
         "hovertemplate": "<b>%{hovertext}</b><br><br>Country Code=TUN<br>2014=%{marker.size}<br>Country Name=%{location}<extra></extra>",
         "hovertext": [
          31.7999992371
         ],
         "legendgroup": "TUN",
         "locations": [
          "Tunisia"
         ],
         "marker": {
          "color": "#EF553B",
          "size": [
           31.7999992371
          ],
          "sizemode": "area",
          "sizeref": 0.14475000381475,
          "symbol": "circle"
         },
         "mode": "markers",
         "name": "TUN",
         "showlegend": true,
         "type": "scattergeo"
        },
        {
         "geo": "geo",
         "hovertemplate": "<b>%{hovertext}</b><br><br>Country Code=TUR<br>2014=%{marker.size}<br>Country Name=%{location}<extra></extra>",
         "hovertext": [
          17.7000007629
         ],
         "legendgroup": "TUR",
         "locations": [
          "Turkey"
         ],
         "marker": {
          "color": "#00cc96",
          "size": [
           17.7000007629
          ],
          "sizemode": "area",
          "sizeref": 0.14475000381475,
          "symbol": "circle"
         },
         "mode": "markers",
         "name": "TUR",
         "showlegend": true,
         "type": "scattergeo"
        },
        {
         "geo": "geo",
         "hovertemplate": "<b>%{hovertext}</b><br><br>Country Code=TZA<br>2014=%{marker.size}<br>Country Name=%{location}<extra></extra>",
         "hovertext": [
          5.5
         ],
         "legendgroup": "TZA",
         "locations": [
          "Tanzania"
         ],
         "marker": {
          "color": "#ab63fa",
          "size": [
           5.5
          ],
          "sizemode": "area",
          "sizeref": 0.14475000381475,
          "symbol": "circle"
         },
         "mode": "markers",
         "name": "TZA",
         "showlegend": true,
         "type": "scattergeo"
        },
        {
         "geo": "geo",
         "hovertemplate": "<b>%{hovertext}</b><br><br>Country Code=UGA<br>2014=%{marker.size}<br>Country Name=%{location}<extra></extra>",
         "hovertext": [
          6.8000001907000005
         ],
         "legendgroup": "UGA",
         "locations": [
          "Uganda"
         ],
         "marker": {
          "color": "#FFA15A",
          "size": [
           6.8000001907000005
          ],
          "sizemode": "area",
          "sizeref": 0.14475000381475,
          "symbol": "circle"
         },
         "mode": "markers",
         "name": "UGA",
         "showlegend": true,
         "type": "scattergeo"
        },
        {
         "geo": "geo",
         "hovertemplate": "<b>%{hovertext}</b><br><br>Country Code=UKR<br>2014=%{marker.size}<br>Country Name=%{location}<extra></extra>",
         "hovertext": [
          16.8999996185
         ],
         "legendgroup": "UKR",
         "locations": [
          "Ukraine"
         ],
         "marker": {
          "color": "#19d3f3",
          "size": [
           16.8999996185
          ],
          "sizemode": "area",
          "sizeref": 0.14475000381475,
          "symbol": "circle"
         },
         "mode": "markers",
         "name": "UKR",
         "showlegend": true,
         "type": "scattergeo"
        },
        {
         "geo": "geo",
         "hovertemplate": "<b>%{hovertext}</b><br><br>Country Code=UMC<br>2014=%{marker.size}<br>Country Name=%{location}<extra></extra>",
         "hovertext": [
          14.581009233800001
         ],
         "legendgroup": "UMC",
         "locations": [
          "Upper middle income"
         ],
         "marker": {
          "color": "#FF6692",
          "size": [
           14.581009233800001
          ],
          "sizemode": "area",
          "sizeref": 0.14475000381475,
          "symbol": "circle"
         },
         "mode": "markers",
         "name": "UMC",
         "showlegend": true,
         "type": "scattergeo"
        },
        {
         "geo": "geo",
         "hovertemplate": "<b>%{hovertext}</b><br><br>Country Code=URY<br>2014=%{marker.size}<br>Country Name=%{location}<extra></extra>",
         "hovertext": [
          19.1000003815
         ],
         "legendgroup": "URY",
         "locations": [
          "Uruguay"
         ],
         "marker": {
          "color": "#B6E880",
          "size": [
           19.1000003815
          ],
          "sizemode": "area",
          "sizeref": 0.14475000381475,
          "symbol": "circle"
         },
         "mode": "markers",
         "name": "URY",
         "showlegend": true,
         "type": "scattergeo"
        },
        {
         "geo": "geo",
         "hovertemplate": "<b>%{hovertext}</b><br><br>Country Code=USA<br>2014=%{marker.size}<br>Country Name=%{location}<extra></extra>",
         "hovertext": [
          14
         ],
         "legendgroup": "USA",
         "locations": [
          "United States"
         ],
         "marker": {
          "color": "#FF97FF",
          "size": [
           14
          ],
          "sizemode": "area",
          "sizeref": 0.14475000381475,
          "symbol": "circle"
         },
         "mode": "markers",
         "name": "USA",
         "showlegend": true,
         "type": "scattergeo"
        },
        {
         "geo": "geo",
         "hovertemplate": "<b>%{hovertext}</b><br><br>Country Code=UZB<br>2014=%{marker.size}<br>Country Name=%{location}<extra></extra>",
         "hovertext": [
          20.2999992371
         ],
         "legendgroup": "UZB",
         "locations": [
          "Uzbekistan"
         ],
         "marker": {
          "color": "#FECB52",
          "size": [
           20.2999992371
          ],
          "sizemode": "area",
          "sizeref": 0.14475000381475,
          "symbol": "circle"
         },
         "mode": "markers",
         "name": "UZB",
         "showlegend": true,
         "type": "scattergeo"
        },
        {
         "geo": "geo",
         "hovertemplate": "<b>%{hovertext}</b><br><br>Country Code=VEN<br>2014=%{marker.size}<br>Country Name=%{location}<extra></extra>",
         "hovertext": [
          17.1000003815
         ],
         "legendgroup": "VEN",
         "locations": [
          "Venezuela, RB"
         ],
         "marker": {
          "color": "#636efa",
          "size": [
           17.1000003815
          ],
          "sizemode": "area",
          "sizeref": 0.14475000381475,
          "symbol": "circle"
         },
         "mode": "markers",
         "name": "VEN",
         "showlegend": true,
         "type": "scattergeo"
        },
        {
         "geo": "geo",
         "hovertemplate": "<b>%{hovertext}</b><br><br>Country Code=VNM<br>2014=%{marker.size}<br>Country Name=%{location}<extra></extra>",
         "hovertext": [
          6.3000001907000005
         ],
         "legendgroup": "VNM",
         "locations": [
          "Vietnam"
         ],
         "marker": {
          "color": "#EF553B",
          "size": [
           6.3000001907000005
          ],
          "sizemode": "area",
          "sizeref": 0.14475000381475,
          "symbol": "circle"
         },
         "mode": "markers",
         "name": "VNM",
         "showlegend": true,
         "type": "scattergeo"
        },
        {
         "geo": "geo",
         "hovertemplate": "<b>%{hovertext}</b><br><br>Country Code=PSE<br>2014=%{marker.size}<br>Country Name=%{location}<extra></extra>",
         "hovertext": [
          42.7000007629
         ],
         "legendgroup": "PSE",
         "locations": [
          "West Bank and Gaza"
         ],
         "marker": {
          "color": "#00cc96",
          "size": [
           42.7000007629
          ],
          "sizemode": "area",
          "sizeref": 0.14475000381475,
          "symbol": "circle"
         },
         "mode": "markers",
         "name": "PSE",
         "showlegend": true,
         "type": "scattergeo"
        },
        {
         "geo": "geo",
         "hovertemplate": "<b>%{hovertext}</b><br><br>Country Code=WLD<br>2014=%{marker.size}<br>Country Name=%{location}<extra></extra>",
         "hovertext": [
          13.9871842021
         ],
         "legendgroup": "WLD",
         "locations": [
          "World"
         ],
         "marker": {
          "color": "#ab63fa",
          "size": [
           13.9871842021
          ],
          "sizemode": "area",
          "sizeref": 0.14475000381475,
          "symbol": "circle"
         },
         "mode": "markers",
         "name": "WLD",
         "showlegend": true,
         "type": "scattergeo"
        },
        {
         "geo": "geo",
         "hovertemplate": "<b>%{hovertext}</b><br><br>Country Code=YEM<br>2014=%{marker.size}<br>Country Name=%{location}<extra></extra>",
         "hovertext": [
          29.8999996185
         ],
         "legendgroup": "YEM",
         "locations": [
          "Yemen, Rep."
         ],
         "marker": {
          "color": "#FFA15A",
          "size": [
           29.8999996185
          ],
          "sizemode": "area",
          "sizeref": 0.14475000381475,
          "symbol": "circle"
         },
         "mode": "markers",
         "name": "YEM",
         "showlegend": true,
         "type": "scattergeo"
        },
        {
         "geo": "geo",
         "hovertemplate": "<b>%{hovertext}</b><br><br>Country Code=ZAF<br>2014=%{marker.size}<br>Country Name=%{location}<extra></extra>",
         "hovertext": [
          52.5999984741
         ],
         "legendgroup": "ZAF",
         "locations": [
          "South Africa"
         ],
         "marker": {
          "color": "#19d3f3",
          "size": [
           52.5999984741
          ],
          "sizemode": "area",
          "sizeref": 0.14475000381475,
          "symbol": "circle"
         },
         "mode": "markers",
         "name": "ZAF",
         "showlegend": true,
         "type": "scattergeo"
        },
        {
         "geo": "geo",
         "hovertemplate": "<b>%{hovertext}</b><br><br>Country Code=COD<br>2014=%{marker.size}<br>Country Name=%{location}<extra></extra>",
         "hovertext": [
          11.899999618499999
         ],
         "legendgroup": "COD",
         "locations": [
          "Congo, Dem. Rep."
         ],
         "marker": {
          "color": "#FF6692",
          "size": [
           11.899999618499999
          ],
          "sizemode": "area",
          "sizeref": 0.14475000381475,
          "symbol": "circle"
         },
         "mode": "markers",
         "name": "COD",
         "showlegend": true,
         "type": "scattergeo"
        },
        {
         "geo": "geo",
         "hovertemplate": "<b>%{hovertext}</b><br><br>Country Code=ZMB<br>2014=%{marker.size}<br>Country Name=%{location}<extra></extra>",
         "hovertext": [
          25.1000003815
         ],
         "legendgroup": "ZMB",
         "locations": [
          "Zambia"
         ],
         "marker": {
          "color": "#B6E880",
          "size": [
           25.1000003815
          ],
          "sizemode": "area",
          "sizeref": 0.14475000381475,
          "symbol": "circle"
         },
         "mode": "markers",
         "name": "ZMB",
         "showlegend": true,
         "type": "scattergeo"
        },
        {
         "geo": "geo",
         "hovertemplate": "<b>%{hovertext}</b><br><br>Country Code=ZWE<br>2014=%{marker.size}<br>Country Name=%{location}<extra></extra>",
         "hovertext": [
          9.3999996185
         ],
         "legendgroup": "ZWE",
         "locations": [
          "Zimbabwe"
         ],
         "marker": {
          "color": "#FF97FF",
          "size": [
           9.3999996185
          ],
          "sizemode": "area",
          "sizeref": 0.14475000381475,
          "symbol": "circle"
         },
         "mode": "markers",
         "name": "ZWE",
         "showlegend": true,
         "type": "scattergeo"
        }
       ],
       "layout": {
        "geo": {
         "center": {},
         "domain": {
          "x": [
           0,
           1
          ],
          "y": [
           0,
           1
          ]
         },
         "projection": {
          "type": "natural earth"
         }
        },
        "legend": {
         "itemsizing": "constant",
         "title": {
          "text": "Country Code"
         },
         "tracegroupgap": 0
        },
        "margin": {
         "t": 60
        },
        "template": {
         "data": {
          "bar": [
           {
            "error_x": {
             "color": "#2a3f5f"
            },
            "error_y": {
             "color": "#2a3f5f"
            },
            "marker": {
             "line": {
              "color": "#E5ECF6",
              "width": 0.5
             }
            },
            "type": "bar"
           }
          ],
          "barpolar": [
           {
            "marker": {
             "line": {
              "color": "#E5ECF6",
              "width": 0.5
             }
            },
            "type": "barpolar"
           }
          ],
          "carpet": [
           {
            "aaxis": {
             "endlinecolor": "#2a3f5f",
             "gridcolor": "white",
             "linecolor": "white",
             "minorgridcolor": "white",
             "startlinecolor": "#2a3f5f"
            },
            "baxis": {
             "endlinecolor": "#2a3f5f",
             "gridcolor": "white",
             "linecolor": "white",
             "minorgridcolor": "white",
             "startlinecolor": "#2a3f5f"
            },
            "type": "carpet"
           }
          ],
          "choropleth": [
           {
            "colorbar": {
             "outlinewidth": 0,
             "ticks": ""
            },
            "type": "choropleth"
           }
          ],
          "contour": [
           {
            "colorbar": {
             "outlinewidth": 0,
             "ticks": ""
            },
            "colorscale": [
             [
              0,
              "#0d0887"
             ],
             [
              0.1111111111111111,
              "#46039f"
             ],
             [
              0.2222222222222222,
              "#7201a8"
             ],
             [
              0.3333333333333333,
              "#9c179e"
             ],
             [
              0.4444444444444444,
              "#bd3786"
             ],
             [
              0.5555555555555556,
              "#d8576b"
             ],
             [
              0.6666666666666666,
              "#ed7953"
             ],
             [
              0.7777777777777778,
              "#fb9f3a"
             ],
             [
              0.8888888888888888,
              "#fdca26"
             ],
             [
              1,
              "#f0f921"
             ]
            ],
            "type": "contour"
           }
          ],
          "contourcarpet": [
           {
            "colorbar": {
             "outlinewidth": 0,
             "ticks": ""
            },
            "type": "contourcarpet"
           }
          ],
          "heatmap": [
           {
            "colorbar": {
             "outlinewidth": 0,
             "ticks": ""
            },
            "colorscale": [
             [
              0,
              "#0d0887"
             ],
             [
              0.1111111111111111,
              "#46039f"
             ],
             [
              0.2222222222222222,
              "#7201a8"
             ],
             [
              0.3333333333333333,
              "#9c179e"
             ],
             [
              0.4444444444444444,
              "#bd3786"
             ],
             [
              0.5555555555555556,
              "#d8576b"
             ],
             [
              0.6666666666666666,
              "#ed7953"
             ],
             [
              0.7777777777777778,
              "#fb9f3a"
             ],
             [
              0.8888888888888888,
              "#fdca26"
             ],
             [
              1,
              "#f0f921"
             ]
            ],
            "type": "heatmap"
           }
          ],
          "heatmapgl": [
           {
            "colorbar": {
             "outlinewidth": 0,
             "ticks": ""
            },
            "colorscale": [
             [
              0,
              "#0d0887"
             ],
             [
              0.1111111111111111,
              "#46039f"
             ],
             [
              0.2222222222222222,
              "#7201a8"
             ],
             [
              0.3333333333333333,
              "#9c179e"
             ],
             [
              0.4444444444444444,
              "#bd3786"
             ],
             [
              0.5555555555555556,
              "#d8576b"
             ],
             [
              0.6666666666666666,
              "#ed7953"
             ],
             [
              0.7777777777777778,
              "#fb9f3a"
             ],
             [
              0.8888888888888888,
              "#fdca26"
             ],
             [
              1,
              "#f0f921"
             ]
            ],
            "type": "heatmapgl"
           }
          ],
          "histogram": [
           {
            "marker": {
             "colorbar": {
              "outlinewidth": 0,
              "ticks": ""
             }
            },
            "type": "histogram"
           }
          ],
          "histogram2d": [
           {
            "colorbar": {
             "outlinewidth": 0,
             "ticks": ""
            },
            "colorscale": [
             [
              0,
              "#0d0887"
             ],
             [
              0.1111111111111111,
              "#46039f"
             ],
             [
              0.2222222222222222,
              "#7201a8"
             ],
             [
              0.3333333333333333,
              "#9c179e"
             ],
             [
              0.4444444444444444,
              "#bd3786"
             ],
             [
              0.5555555555555556,
              "#d8576b"
             ],
             [
              0.6666666666666666,
              "#ed7953"
             ],
             [
              0.7777777777777778,
              "#fb9f3a"
             ],
             [
              0.8888888888888888,
              "#fdca26"
             ],
             [
              1,
              "#f0f921"
             ]
            ],
            "type": "histogram2d"
           }
          ],
          "histogram2dcontour": [
           {
            "colorbar": {
             "outlinewidth": 0,
             "ticks": ""
            },
            "colorscale": [
             [
              0,
              "#0d0887"
             ],
             [
              0.1111111111111111,
              "#46039f"
             ],
             [
              0.2222222222222222,
              "#7201a8"
             ],
             [
              0.3333333333333333,
              "#9c179e"
             ],
             [
              0.4444444444444444,
              "#bd3786"
             ],
             [
              0.5555555555555556,
              "#d8576b"
             ],
             [
              0.6666666666666666,
              "#ed7953"
             ],
             [
              0.7777777777777778,
              "#fb9f3a"
             ],
             [
              0.8888888888888888,
              "#fdca26"
             ],
             [
              1,
              "#f0f921"
             ]
            ],
            "type": "histogram2dcontour"
           }
          ],
          "mesh3d": [
           {
            "colorbar": {
             "outlinewidth": 0,
             "ticks": ""
            },
            "type": "mesh3d"
           }
          ],
          "parcoords": [
           {
            "line": {
             "colorbar": {
              "outlinewidth": 0,
              "ticks": ""
             }
            },
            "type": "parcoords"
           }
          ],
          "pie": [
           {
            "automargin": true,
            "type": "pie"
           }
          ],
          "scatter": [
           {
            "marker": {
             "colorbar": {
              "outlinewidth": 0,
              "ticks": ""
             }
            },
            "type": "scatter"
           }
          ],
          "scatter3d": [
           {
            "line": {
             "colorbar": {
              "outlinewidth": 0,
              "ticks": ""
             }
            },
            "marker": {
             "colorbar": {
              "outlinewidth": 0,
              "ticks": ""
             }
            },
            "type": "scatter3d"
           }
          ],
          "scattercarpet": [
           {
            "marker": {
             "colorbar": {
              "outlinewidth": 0,
              "ticks": ""
             }
            },
            "type": "scattercarpet"
           }
          ],
          "scattergeo": [
           {
            "marker": {
             "colorbar": {
              "outlinewidth": 0,
              "ticks": ""
             }
            },
            "type": "scattergeo"
           }
          ],
          "scattergl": [
           {
            "marker": {
             "colorbar": {
              "outlinewidth": 0,
              "ticks": ""
             }
            },
            "type": "scattergl"
           }
          ],
          "scattermapbox": [
           {
            "marker": {
             "colorbar": {
              "outlinewidth": 0,
              "ticks": ""
             }
            },
            "type": "scattermapbox"
           }
          ],
          "scatterpolar": [
           {
            "marker": {
             "colorbar": {
              "outlinewidth": 0,
              "ticks": ""
             }
            },
            "type": "scatterpolar"
           }
          ],
          "scatterpolargl": [
           {
            "marker": {
             "colorbar": {
              "outlinewidth": 0,
              "ticks": ""
             }
            },
            "type": "scatterpolargl"
           }
          ],
          "scatterternary": [
           {
            "marker": {
             "colorbar": {
              "outlinewidth": 0,
              "ticks": ""
             }
            },
            "type": "scatterternary"
           }
          ],
          "surface": [
           {
            "colorbar": {
             "outlinewidth": 0,
             "ticks": ""
            },
            "colorscale": [
             [
              0,
              "#0d0887"
             ],
             [
              0.1111111111111111,
              "#46039f"
             ],
             [
              0.2222222222222222,
              "#7201a8"
             ],
             [
              0.3333333333333333,
              "#9c179e"
             ],
             [
              0.4444444444444444,
              "#bd3786"
             ],
             [
              0.5555555555555556,
              "#d8576b"
             ],
             [
              0.6666666666666666,
              "#ed7953"
             ],
             [
              0.7777777777777778,
              "#fb9f3a"
             ],
             [
              0.8888888888888888,
              "#fdca26"
             ],
             [
              1,
              "#f0f921"
             ]
            ],
            "type": "surface"
           }
          ],
          "table": [
           {
            "cells": {
             "fill": {
              "color": "#EBF0F8"
             },
             "line": {
              "color": "white"
             }
            },
            "header": {
             "fill": {
              "color": "#C8D4E3"
             },
             "line": {
              "color": "white"
             }
            },
            "type": "table"
           }
          ]
         },
         "layout": {
          "annotationdefaults": {
           "arrowcolor": "#2a3f5f",
           "arrowhead": 0,
           "arrowwidth": 1
          },
          "autotypenumbers": "strict",
          "coloraxis": {
           "colorbar": {
            "outlinewidth": 0,
            "ticks": ""
           }
          },
          "colorscale": {
           "diverging": [
            [
             0,
             "#8e0152"
            ],
            [
             0.1,
             "#c51b7d"
            ],
            [
             0.2,
             "#de77ae"
            ],
            [
             0.3,
             "#f1b6da"
            ],
            [
             0.4,
             "#fde0ef"
            ],
            [
             0.5,
             "#f7f7f7"
            ],
            [
             0.6,
             "#e6f5d0"
            ],
            [
             0.7,
             "#b8e186"
            ],
            [
             0.8,
             "#7fbc41"
            ],
            [
             0.9,
             "#4d9221"
            ],
            [
             1,
             "#276419"
            ]
           ],
           "sequential": [
            [
             0,
             "#0d0887"
            ],
            [
             0.1111111111111111,
             "#46039f"
            ],
            [
             0.2222222222222222,
             "#7201a8"
            ],
            [
             0.3333333333333333,
             "#9c179e"
            ],
            [
             0.4444444444444444,
             "#bd3786"
            ],
            [
             0.5555555555555556,
             "#d8576b"
            ],
            [
             0.6666666666666666,
             "#ed7953"
            ],
            [
             0.7777777777777778,
             "#fb9f3a"
            ],
            [
             0.8888888888888888,
             "#fdca26"
            ],
            [
             1,
             "#f0f921"
            ]
           ],
           "sequentialminus": [
            [
             0,
             "#0d0887"
            ],
            [
             0.1111111111111111,
             "#46039f"
            ],
            [
             0.2222222222222222,
             "#7201a8"
            ],
            [
             0.3333333333333333,
             "#9c179e"
            ],
            [
             0.4444444444444444,
             "#bd3786"
            ],
            [
             0.5555555555555556,
             "#d8576b"
            ],
            [
             0.6666666666666666,
             "#ed7953"
            ],
            [
             0.7777777777777778,
             "#fb9f3a"
            ],
            [
             0.8888888888888888,
             "#fdca26"
            ],
            [
             1,
             "#f0f921"
            ]
           ]
          },
          "colorway": [
           "#636efa",
           "#EF553B",
           "#00cc96",
           "#ab63fa",
           "#FFA15A",
           "#19d3f3",
           "#FF6692",
           "#B6E880",
           "#FF97FF",
           "#FECB52"
          ],
          "font": {
           "color": "#2a3f5f"
          },
          "geo": {
           "bgcolor": "white",
           "lakecolor": "white",
           "landcolor": "#E5ECF6",
           "showlakes": true,
           "showland": true,
           "subunitcolor": "white"
          },
          "hoverlabel": {
           "align": "left"
          },
          "hovermode": "closest",
          "mapbox": {
           "style": "light"
          },
          "paper_bgcolor": "white",
          "plot_bgcolor": "#E5ECF6",
          "polar": {
           "angularaxis": {
            "gridcolor": "white",
            "linecolor": "white",
            "ticks": ""
           },
           "bgcolor": "#E5ECF6",
           "radialaxis": {
            "gridcolor": "white",
            "linecolor": "white",
            "ticks": ""
           }
          },
          "scene": {
           "xaxis": {
            "backgroundcolor": "#E5ECF6",
            "gridcolor": "white",
            "gridwidth": 2,
            "linecolor": "white",
            "showbackground": true,
            "ticks": "",
            "zerolinecolor": "white"
           },
           "yaxis": {
            "backgroundcolor": "#E5ECF6",
            "gridcolor": "white",
            "gridwidth": 2,
            "linecolor": "white",
            "showbackground": true,
            "ticks": "",
            "zerolinecolor": "white"
           },
           "zaxis": {
            "backgroundcolor": "#E5ECF6",
            "gridcolor": "white",
            "gridwidth": 2,
            "linecolor": "white",
            "showbackground": true,
            "ticks": "",
            "zerolinecolor": "white"
           }
          },
          "shapedefaults": {
           "line": {
            "color": "#2a3f5f"
           }
          },
          "ternary": {
           "aaxis": {
            "gridcolor": "white",
            "linecolor": "white",
            "ticks": ""
           },
           "baxis": {
            "gridcolor": "white",
            "linecolor": "white",
            "ticks": ""
           },
           "bgcolor": "#E5ECF6",
           "caxis": {
            "gridcolor": "white",
            "linecolor": "white",
            "ticks": ""
           }
          },
          "title": {
           "x": 0.05
          },
          "xaxis": {
           "automargin": true,
           "gridcolor": "white",
           "linecolor": "white",
           "ticks": "",
           "title": {
            "standoff": 15
           },
           "zerolinecolor": "white",
           "zerolinewidth": 2
          },
          "yaxis": {
           "automargin": true,
           "gridcolor": "white",
           "linecolor": "white",
           "ticks": "",
           "title": {
            "standoff": 15
           },
           "zerolinecolor": "white",
           "zerolinewidth": 2
          }
         }
        }
       }
      },
      "text/html": [
       "<div>                            <div id=\"5fb82d28-1e91-442f-9c51-870fca24635b\" class=\"plotly-graph-div\" style=\"height:525px; width:100%;\"></div>            <script type=\"text/javascript\">                require([\"plotly\"], function(Plotly) {                    window.PLOTLYENV=window.PLOTLYENV || {};                                    if (document.getElementById(\"5fb82d28-1e91-442f-9c51-870fca24635b\")) {                    Plotly.newPlot(                        \"5fb82d28-1e91-442f-9c51-870fca24635b\",                        [{\"geo\": \"geo\", \"hovertemplate\": \"<b>%{hovertext}</b><br><br>Country Code=AFG<br>2014=%{marker.size}<br>Country Name=%{location}<extra></extra>\", \"hovertext\": [20.7999992371], \"legendgroup\": \"AFG\", \"locations\": [\"Afghanistan\"], \"marker\": {\"color\": \"#636efa\", \"size\": [20.7999992371], \"sizemode\": \"area\", \"sizeref\": 0.14475000381475, \"symbol\": \"circle\"}, \"mode\": \"markers\", \"name\": \"AFG\", \"showlegend\": true, \"type\": \"scattergeo\"}, {\"geo\": \"geo\", \"hovertemplate\": \"<b>%{hovertext}</b><br><br>Country Code=AGO<br>2014=%{marker.size}<br>Country Name=%{location}<extra></extra>\", \"hovertext\": [10.5], \"legendgroup\": \"AGO\", \"locations\": [\"Angola\"], \"marker\": {\"color\": \"#EF553B\", \"size\": [10.5], \"sizemode\": \"area\", \"sizeref\": 0.14475000381475, \"symbol\": \"circle\"}, \"mode\": \"markers\", \"name\": \"AGO\", \"showlegend\": true, \"type\": \"scattergeo\"}, {\"geo\": \"geo\", \"hovertemplate\": \"<b>%{hovertext}</b><br><br>Country Code=ALB<br>2014=%{marker.size}<br>Country Name=%{location}<extra></extra>\", \"hovertext\": [29.2000007629], \"legendgroup\": \"ALB\", \"locations\": [\"Albania\"], \"marker\": {\"color\": \"#00cc96\", \"size\": [29.2000007629], \"sizemode\": \"area\", \"sizeref\": 0.14475000381475, \"symbol\": \"circle\"}, \"mode\": \"markers\", \"name\": \"ALB\", \"showlegend\": true, \"type\": \"scattergeo\"}, {\"geo\": \"geo\", \"hovertemplate\": \"<b>%{hovertext}</b><br><br>Country Code=ARB<br>2014=%{marker.size}<br>Country Name=%{location}<extra></extra>\", \"hovertext\": [29.7045691168], \"legendgroup\": \"ARB\", \"locations\": [\"Arab World\"], \"marker\": {\"color\": \"#ab63fa\", \"size\": [29.7045691168], \"sizemode\": \"area\", \"sizeref\": 0.14475000381475, \"symbol\": \"circle\"}, \"mode\": \"markers\", \"name\": \"ARB\", \"showlegend\": true, \"type\": \"scattergeo\"}, {\"geo\": \"geo\", \"hovertemplate\": \"<b>%{hovertext}</b><br><br>Country Code=ARE<br>2014=%{marker.size}<br>Country Name=%{location}<extra></extra>\", \"hovertext\": [10.0], \"legendgroup\": \"ARE\", \"locations\": [\"United Arab Emirates\"], \"marker\": {\"color\": \"#FFA15A\", \"size\": [10.0], \"sizemode\": \"area\", \"sizeref\": 0.14475000381475, \"symbol\": \"circle\"}, \"mode\": \"markers\", \"name\": \"ARE\", \"showlegend\": true, \"type\": \"scattergeo\"}, {\"geo\": \"geo\", \"hovertemplate\": \"<b>%{hovertext}</b><br><br>Country Code=ARG<br>2014=%{marker.size}<br>Country Name=%{location}<extra></extra>\", \"hovertext\": [21.2999992371], \"legendgroup\": \"ARG\", \"locations\": [\"Argentina\"], \"marker\": {\"color\": \"#19d3f3\", \"size\": [21.2999992371], \"sizemode\": \"area\", \"sizeref\": 0.14475000381475, \"symbol\": \"circle\"}, \"mode\": \"markers\", \"name\": \"ARG\", \"showlegend\": true, \"type\": \"scattergeo\"}, {\"geo\": \"geo\", \"hovertemplate\": \"<b>%{hovertext}</b><br><br>Country Code=ARM<br>2014=%{marker.size}<br>Country Name=%{location}<extra></extra>\", \"hovertext\": [35.0999984741], \"legendgroup\": \"ARM\", \"locations\": [\"Armenia\"], \"marker\": {\"color\": \"#FF6692\", \"size\": [35.0999984741], \"sizemode\": \"area\", \"sizeref\": 0.14475000381475, \"symbol\": \"circle\"}, \"mode\": \"markers\", \"name\": \"ARM\", \"showlegend\": true, \"type\": \"scattergeo\"}, {\"geo\": \"geo\", \"hovertemplate\": \"<b>%{hovertext}</b><br><br>Country Code=AUS<br>2014=%{marker.size}<br>Country Name=%{location}<extra></extra>\", \"hovertext\": [13.100000381500001], \"legendgroup\": \"AUS\", \"locations\": [\"Australia\"], \"marker\": {\"color\": \"#B6E880\", \"size\": [13.100000381500001], \"sizemode\": \"area\", \"sizeref\": 0.14475000381475, \"symbol\": \"circle\"}, \"mode\": \"markers\", \"name\": \"AUS\", \"showlegend\": true, \"type\": \"scattergeo\"}, {\"geo\": \"geo\", \"hovertemplate\": \"<b>%{hovertext}</b><br><br>Country Code=AUT<br>2014=%{marker.size}<br>Country Name=%{location}<extra></extra>\", \"hovertext\": [9.1999998093], \"legendgroup\": \"AUT\", \"locations\": [\"Austria\"], \"marker\": {\"color\": \"#FF97FF\", \"size\": [9.1999998093], \"sizemode\": \"area\", \"sizeref\": 0.14475000381475, \"symbol\": \"circle\"}, \"mode\": \"markers\", \"name\": \"AUT\", \"showlegend\": true, \"type\": \"scattergeo\"}, {\"geo\": \"geo\", \"hovertemplate\": \"<b>%{hovertext}</b><br><br>Country Code=AZE<br>2014=%{marker.size}<br>Country Name=%{location}<extra></extra>\", \"hovertext\": [13.600000381500001], \"legendgroup\": \"AZE\", \"locations\": [\"Azerbaijan\"], \"marker\": {\"color\": \"#FECB52\", \"size\": [13.600000381500001], \"sizemode\": \"area\", \"sizeref\": 0.14475000381475, \"symbol\": \"circle\"}, \"mode\": \"markers\", \"name\": \"AZE\", \"showlegend\": true, \"type\": \"scattergeo\"}, {\"geo\": \"geo\", \"hovertemplate\": \"<b>%{hovertext}</b><br><br>Country Code=BDI<br>2014=%{marker.size}<br>Country Name=%{location}<extra></extra>\", \"hovertext\": [10.6999998093], \"legendgroup\": \"BDI\", \"locations\": [\"Burundi\"], \"marker\": {\"color\": \"#636efa\", \"size\": [10.6999998093], \"sizemode\": \"area\", \"sizeref\": 0.14475000381475, \"symbol\": \"circle\"}, \"mode\": \"markers\", \"name\": \"BDI\", \"showlegend\": true, \"type\": \"scattergeo\"}, {\"geo\": \"geo\", \"hovertemplate\": \"<b>%{hovertext}</b><br><br>Country Code=BEL<br>2014=%{marker.size}<br>Country Name=%{location}<extra></extra>\", \"hovertext\": [23.6000003815], \"legendgroup\": \"BEL\", \"locations\": [\"Belgium\"], \"marker\": {\"color\": \"#EF553B\", \"size\": [23.6000003815], \"sizemode\": \"area\", \"sizeref\": 0.14475000381475, \"symbol\": \"circle\"}, \"mode\": \"markers\", \"name\": \"BEL\", \"showlegend\": true, \"type\": \"scattergeo\"}, {\"geo\": \"geo\", \"hovertemplate\": \"<b>%{hovertext}</b><br><br>Country Code=BEN<br>2014=%{marker.size}<br>Country Name=%{location}<extra></extra>\", \"hovertext\": [1.7000000477000001], \"legendgroup\": \"BEN\", \"locations\": [\"Benin\"], \"marker\": {\"color\": \"#00cc96\", \"size\": [1.7000000477000001], \"sizemode\": \"area\", \"sizeref\": 0.14475000381475, \"symbol\": \"circle\"}, \"mode\": \"markers\", \"name\": \"BEN\", \"showlegend\": true, \"type\": \"scattergeo\"}, {\"geo\": \"geo\", \"hovertemplate\": \"<b>%{hovertext}</b><br><br>Country Code=BFA<br>2014=%{marker.size}<br>Country Name=%{location}<extra></extra>\", \"hovertext\": [5.0], \"legendgroup\": \"BFA\", \"locations\": [\"Burkina Faso\"], \"marker\": {\"color\": \"#ab63fa\", \"size\": [5.0], \"sizemode\": \"area\", \"sizeref\": 0.14475000381475, \"symbol\": \"circle\"}, \"mode\": \"markers\", \"name\": \"BFA\", \"showlegend\": true, \"type\": \"scattergeo\"}, {\"geo\": \"geo\", \"hovertemplate\": \"<b>%{hovertext}</b><br><br>Country Code=BGD<br>2014=%{marker.size}<br>Country Name=%{location}<extra></extra>\", \"hovertext\": [9.1000003815], \"legendgroup\": \"BGD\", \"locations\": [\"Bangladesh\"], \"marker\": {\"color\": \"#FFA15A\", \"size\": [9.1000003815], \"sizemode\": \"area\", \"sizeref\": 0.14475000381475, \"symbol\": \"circle\"}, \"mode\": \"markers\", \"name\": \"BGD\", \"showlegend\": true, \"type\": \"scattergeo\"}, {\"geo\": \"geo\", \"hovertemplate\": \"<b>%{hovertext}</b><br><br>Country Code=BGR<br>2014=%{marker.size}<br>Country Name=%{location}<extra></extra>\", \"hovertext\": [25.8999996185], \"legendgroup\": \"BGR\", \"locations\": [\"Bulgaria\"], \"marker\": {\"color\": \"#19d3f3\", \"size\": [25.8999996185], \"sizemode\": \"area\", \"sizeref\": 0.14475000381475, \"symbol\": \"circle\"}, \"mode\": \"markers\", \"name\": \"BGR\", \"showlegend\": true, \"type\": \"scattergeo\"}, {\"geo\": \"geo\", \"hovertemplate\": \"<b>%{hovertext}</b><br><br>Country Code=BHR<br>2014=%{marker.size}<br>Country Name=%{location}<extra></extra>\", \"hovertext\": [10.899999618499999], \"legendgroup\": \"BHR\", \"locations\": [\"Bahrain\"], \"marker\": {\"color\": \"#FF6692\", \"size\": [10.899999618499999], \"sizemode\": \"area\", \"sizeref\": 0.14475000381475, \"symbol\": \"circle\"}, \"mode\": \"markers\", \"name\": \"BHR\", \"showlegend\": true, \"type\": \"scattergeo\"}, {\"geo\": \"geo\", \"hovertemplate\": \"<b>%{hovertext}</b><br><br>Country Code=BHS<br>2014=%{marker.size}<br>Country Name=%{location}<extra></extra>\", \"hovertext\": [30.1000003815], \"legendgroup\": \"BHS\", \"locations\": [\"Bahamas, The\"], \"marker\": {\"color\": \"#B6E880\", \"size\": [30.1000003815], \"sizemode\": \"area\", \"sizeref\": 0.14475000381475, \"symbol\": \"circle\"}, \"mode\": \"markers\", \"name\": \"BHS\", \"showlegend\": true, \"type\": \"scattergeo\"}, {\"geo\": \"geo\", \"hovertemplate\": \"<b>%{hovertext}</b><br><br>Country Code=BIH<br>2014=%{marker.size}<br>Country Name=%{location}<extra></extra>\", \"hovertext\": [57.5], \"legendgroup\": \"BIH\", \"locations\": [\"Bosnia and Herzegovina\"], \"marker\": {\"color\": \"#FF97FF\", \"size\": [57.5], \"sizemode\": \"area\", \"sizeref\": 0.14475000381475, \"symbol\": \"circle\"}, \"mode\": \"markers\", \"name\": \"BIH\", \"showlegend\": true, \"type\": \"scattergeo\"}, {\"geo\": \"geo\", \"hovertemplate\": \"<b>%{hovertext}</b><br><br>Country Code=BLR<br>2014=%{marker.size}<br>Country Name=%{location}<extra></extra>\", \"hovertext\": [12.0], \"legendgroup\": \"BLR\", \"locations\": [\"Belarus\"], \"marker\": {\"color\": \"#FECB52\", \"size\": [12.0], \"sizemode\": \"area\", \"sizeref\": 0.14475000381475, \"symbol\": \"circle\"}, \"mode\": \"markers\", \"name\": \"BLR\", \"showlegend\": true, \"type\": \"scattergeo\"}, {\"geo\": \"geo\", \"hovertemplate\": \"<b>%{hovertext}</b><br><br>Country Code=BLZ<br>2014=%{marker.size}<br>Country Name=%{location}<extra></extra>\", \"hovertext\": [22.0], \"legendgroup\": \"BLZ\", \"locations\": [\"Belize\"], \"marker\": {\"color\": \"#636efa\", \"size\": [22.0], \"sizemode\": \"area\", \"sizeref\": 0.14475000381475, \"symbol\": \"circle\"}, \"mode\": \"markers\", \"name\": \"BLZ\", \"showlegend\": true, \"type\": \"scattergeo\"}, {\"geo\": \"geo\", \"hovertemplate\": \"<b>%{hovertext}</b><br><br>Country Code=BOL<br>2014=%{marker.size}<br>Country Name=%{location}<extra></extra>\", \"hovertext\": [5.1999998093], \"legendgroup\": \"BOL\", \"locations\": [\"Bolivia\"], \"marker\": {\"color\": \"#EF553B\", \"size\": [5.1999998093], \"sizemode\": \"area\", \"sizeref\": 0.14475000381475, \"symbol\": \"circle\"}, \"mode\": \"markers\", \"name\": \"BOL\", \"showlegend\": true, \"type\": \"scattergeo\"}, {\"geo\": \"geo\", \"hovertemplate\": \"<b>%{hovertext}</b><br><br>Country Code=BRA<br>2014=%{marker.size}<br>Country Name=%{location}<extra></extra>\", \"hovertext\": [15.199999809300001], \"legendgroup\": \"BRA\", \"locations\": [\"Brazil\"], \"marker\": {\"color\": \"#00cc96\", \"size\": [15.199999809300001], \"sizemode\": \"area\", \"sizeref\": 0.14475000381475, \"symbol\": \"circle\"}, \"mode\": \"markers\", \"name\": \"BRA\", \"showlegend\": true, \"type\": \"scattergeo\"}, {\"geo\": \"geo\", \"hovertemplate\": \"<b>%{hovertext}</b><br><br>Country Code=BRB<br>2014=%{marker.size}<br>Country Name=%{location}<extra></extra>\", \"hovertext\": [26.7999992371], \"legendgroup\": \"BRB\", \"locations\": [\"Barbados\"], \"marker\": {\"color\": \"#ab63fa\", \"size\": [26.7999992371], \"sizemode\": \"area\", \"sizeref\": 0.14475000381475, \"symbol\": \"circle\"}, \"mode\": \"markers\", \"name\": \"BRB\", \"showlegend\": true, \"type\": \"scattergeo\"}, {\"geo\": \"geo\", \"hovertemplate\": \"<b>%{hovertext}</b><br><br>Country Code=BRN<br>2014=%{marker.size}<br>Country Name=%{location}<extra></extra>\", \"hovertext\": [11.100000381500001], \"legendgroup\": \"BRN\", \"locations\": [\"Brunei Darussalam\"], \"marker\": {\"color\": \"#FFA15A\", \"size\": [11.100000381500001], \"sizemode\": \"area\", \"sizeref\": 0.14475000381475, \"symbol\": \"circle\"}, \"mode\": \"markers\", \"name\": \"BRN\", \"showlegend\": true, \"type\": \"scattergeo\"}, {\"geo\": \"geo\", \"hovertemplate\": \"<b>%{hovertext}</b><br><br>Country Code=BTN<br>2014=%{marker.size}<br>Country Name=%{location}<extra></extra>\", \"hovertext\": [10.0], \"legendgroup\": \"BTN\", \"locations\": [\"Bhutan\"], \"marker\": {\"color\": \"#19d3f3\", \"size\": [10.0], \"sizemode\": \"area\", \"sizeref\": 0.14475000381475, \"symbol\": \"circle\"}, \"mode\": \"markers\", \"name\": \"BTN\", \"showlegend\": true, \"type\": \"scattergeo\"}, {\"geo\": \"geo\", \"hovertemplate\": \"<b>%{hovertext}</b><br><br>Country Code=BWA<br>2014=%{marker.size}<br>Country Name=%{location}<extra></extra>\", \"hovertext\": [33.9000015259], \"legendgroup\": \"BWA\", \"locations\": [\"Botswana\"], \"marker\": {\"color\": \"#FF6692\", \"size\": [33.9000015259], \"sizemode\": \"area\", \"sizeref\": 0.14475000381475, \"symbol\": \"circle\"}, \"mode\": \"markers\", \"name\": \"BWA\", \"showlegend\": true, \"type\": \"scattergeo\"}, {\"geo\": \"geo\", \"hovertemplate\": \"<b>%{hovertext}</b><br><br>Country Code=CAF<br>2014=%{marker.size}<br>Country Name=%{location}<extra></extra>\", \"hovertext\": [11.899999618499999], \"legendgroup\": \"CAF\", \"locations\": [\"Central African Republic\"], \"marker\": {\"color\": \"#B6E880\", \"size\": [11.899999618499999], \"sizemode\": \"area\", \"sizeref\": 0.14475000381475, \"symbol\": \"circle\"}, \"mode\": \"markers\", \"name\": \"CAF\", \"showlegend\": true, \"type\": \"scattergeo\"}, {\"geo\": \"geo\", \"hovertemplate\": \"<b>%{hovertext}</b><br><br>Country Code=CAN<br>2014=%{marker.size}<br>Country Name=%{location}<extra></extra>\", \"hovertext\": [13.399999618499999], \"legendgroup\": \"CAN\", \"locations\": [\"Canada\"], \"marker\": {\"color\": \"#FF97FF\", \"size\": [13.399999618499999], \"sizemode\": \"area\", \"sizeref\": 0.14475000381475, \"symbol\": \"circle\"}, \"mode\": \"markers\", \"name\": \"CAN\", \"showlegend\": true, \"type\": \"scattergeo\"}, {\"geo\": \"geo\", \"hovertemplate\": \"<b>%{hovertext}</b><br><br>Country Code=CEB<br>2014=%{marker.size}<br>Country Name=%{location}<extra></extra>\", \"hovertext\": [24.326735182600004], \"legendgroup\": \"CEB\", \"locations\": [\"Central Europe and the Baltics\"], \"marker\": {\"color\": \"#FECB52\", \"size\": [24.326735182600004], \"sizemode\": \"area\", \"sizeref\": 0.14475000381475, \"symbol\": \"circle\"}, \"mode\": \"markers\", \"name\": \"CEB\", \"showlegend\": true, \"type\": \"scattergeo\"}, {\"geo\": \"geo\", \"hovertemplate\": \"<b>%{hovertext}</b><br><br>Country Code=CHE<br>2014=%{marker.size}<br>Country Name=%{location}<extra></extra>\", \"hovertext\": [8.6999998093], \"legendgroup\": \"CHE\", \"locations\": [\"Switzerland\"], \"marker\": {\"color\": \"#636efa\", \"size\": [8.6999998093], \"sizemode\": \"area\", \"sizeref\": 0.14475000381475, \"symbol\": \"circle\"}, \"mode\": \"markers\", \"name\": \"CHE\", \"showlegend\": true, \"type\": \"scattergeo\"}, {\"geo\": \"geo\", \"hovertemplate\": \"<b>%{hovertext}</b><br><br>Country Code=CHL<br>2014=%{marker.size}<br>Country Name=%{location}<extra></extra>\", \"hovertext\": [16.3999996185], \"legendgroup\": \"CHL\", \"locations\": [\"Chile\"], \"marker\": {\"color\": \"#EF553B\", \"size\": [16.3999996185], \"sizemode\": \"area\", \"sizeref\": 0.14475000381475, \"symbol\": \"circle\"}, \"mode\": \"markers\", \"name\": \"CHL\", \"showlegend\": true, \"type\": \"scattergeo\"}, {\"geo\": \"geo\", \"hovertemplate\": \"<b>%{hovertext}</b><br><br>Country Code=CHN<br>2014=%{marker.size}<br>Country Name=%{location}<extra></extra>\", \"hovertext\": [10.5], \"legendgroup\": \"CHN\", \"locations\": [\"China\"], \"marker\": {\"color\": \"#00cc96\", \"size\": [10.5], \"sizemode\": \"area\", \"sizeref\": 0.14475000381475, \"symbol\": \"circle\"}, \"mode\": \"markers\", \"name\": \"CHN\", \"showlegend\": true, \"type\": \"scattergeo\"}, {\"geo\": \"geo\", \"hovertemplate\": \"<b>%{hovertext}</b><br><br>Country Code=CIV<br>2014=%{marker.size}<br>Country Name=%{location}<extra></extra>\", \"hovertext\": [5.8000001907000005], \"legendgroup\": \"CIV\", \"locations\": [\"Cote d'Ivoire\"], \"marker\": {\"color\": \"#ab63fa\", \"size\": [5.8000001907000005], \"sizemode\": \"area\", \"sizeref\": 0.14475000381475, \"symbol\": \"circle\"}, \"mode\": \"markers\", \"name\": \"CIV\", \"showlegend\": true, \"type\": \"scattergeo\"}, {\"geo\": \"geo\", \"hovertemplate\": \"<b>%{hovertext}</b><br><br>Country Code=CMR<br>2014=%{marker.size}<br>Country Name=%{location}<extra></extra>\", \"hovertext\": [6.6999998092999995], \"legendgroup\": \"CMR\", \"locations\": [\"Cameroon\"], \"marker\": {\"color\": \"#FFA15A\", \"size\": [6.6999998092999995], \"sizemode\": \"area\", \"sizeref\": 0.14475000381475, \"symbol\": \"circle\"}, \"mode\": \"markers\", \"name\": \"CMR\", \"showlegend\": true, \"type\": \"scattergeo\"}, {\"geo\": \"geo\", \"hovertemplate\": \"<b>%{hovertext}</b><br><br>Country Code=COG<br>2014=%{marker.size}<br>Country Name=%{location}<extra></extra>\", \"hovertext\": [10.6999998093], \"legendgroup\": \"COG\", \"locations\": [\"Congo, Rep.\"], \"marker\": {\"color\": \"#19d3f3\", \"size\": [10.6999998093], \"sizemode\": \"area\", \"sizeref\": 0.14475000381475, \"symbol\": \"circle\"}, \"mode\": \"markers\", \"name\": \"COG\", \"showlegend\": true, \"type\": \"scattergeo\"}, {\"geo\": \"geo\", \"hovertemplate\": \"<b>%{hovertext}</b><br><br>Country Code=COL<br>2014=%{marker.size}<br>Country Name=%{location}<extra></extra>\", \"hovertext\": [18.8999996185], \"legendgroup\": \"COL\", \"locations\": [\"Colombia\"], \"marker\": {\"color\": \"#FF6692\", \"size\": [18.8999996185], \"sizemode\": \"area\", \"sizeref\": 0.14475000381475, \"symbol\": \"circle\"}, \"mode\": \"markers\", \"name\": \"COL\", \"showlegend\": true, \"type\": \"scattergeo\"}, {\"geo\": \"geo\", \"hovertemplate\": \"<b>%{hovertext}</b><br><br>Country Code=COM<br>2014=%{marker.size}<br>Country Name=%{location}<extra></extra>\", \"hovertext\": [10.6000003815], \"legendgroup\": \"COM\", \"locations\": [\"Comoros\"], \"marker\": {\"color\": \"#B6E880\", \"size\": [10.6000003815], \"sizemode\": \"area\", \"sizeref\": 0.14475000381475, \"symbol\": \"circle\"}, \"mode\": \"markers\", \"name\": \"COM\", \"showlegend\": true, \"type\": \"scattergeo\"}, {\"geo\": \"geo\", \"hovertemplate\": \"<b>%{hovertext}</b><br><br>Country Code=CPV<br>2014=%{marker.size}<br>Country Name=%{location}<extra></extra>\", \"hovertext\": [18.7999992371], \"legendgroup\": \"CPV\", \"locations\": [\"Cabo Verde\"], \"marker\": {\"color\": \"#FF97FF\", \"size\": [18.7999992371], \"sizemode\": \"area\", \"sizeref\": 0.14475000381475, \"symbol\": \"circle\"}, \"mode\": \"markers\", \"name\": \"CPV\", \"showlegend\": true, \"type\": \"scattergeo\"}, {\"geo\": \"geo\", \"hovertemplate\": \"<b>%{hovertext}</b><br><br>Country Code=CRI<br>2014=%{marker.size}<br>Country Name=%{location}<extra></extra>\", \"hovertext\": [19.2000007629], \"legendgroup\": \"CRI\", \"locations\": [\"Costa Rica\"], \"marker\": {\"color\": \"#FECB52\", \"size\": [19.2000007629], \"sizemode\": \"area\", \"sizeref\": 0.14475000381475, \"symbol\": \"circle\"}, \"mode\": \"markers\", \"name\": \"CRI\", \"showlegend\": true, \"type\": \"scattergeo\"}, {\"geo\": \"geo\", \"hovertemplate\": \"<b>%{hovertext}</b><br><br>Country Code=CSS<br>2014=%{marker.size}<br>Country Name=%{location}<extra></extra>\", \"hovertext\": [24.5967753715], \"legendgroup\": \"CSS\", \"locations\": [\"Caribbean small states\"], \"marker\": {\"color\": \"#636efa\", \"size\": [24.5967753715], \"sizemode\": \"area\", \"sizeref\": 0.14475000381475, \"symbol\": \"circle\"}, \"mode\": \"markers\", \"name\": \"CSS\", \"showlegend\": true, \"type\": \"scattergeo\"}, {\"geo\": \"geo\", \"hovertemplate\": \"<b>%{hovertext}</b><br><br>Country Code=CUB<br>2014=%{marker.size}<br>Country Name=%{location}<extra></extra>\", \"hovertext\": [7.099999904600001], \"legendgroup\": \"CUB\", \"locations\": [\"Cuba\"], \"marker\": {\"color\": \"#EF553B\", \"size\": [7.099999904600001], \"sizemode\": \"area\", \"sizeref\": 0.14475000381475, \"symbol\": \"circle\"}, \"mode\": \"markers\", \"name\": \"CUB\", \"showlegend\": true, \"type\": \"scattergeo\"}, {\"geo\": \"geo\", \"hovertemplate\": \"<b>%{hovertext}</b><br><br>Country Code=CYP<br>2014=%{marker.size}<br>Country Name=%{location}<extra></extra>\", \"hovertext\": [35.7000007629], \"legendgroup\": \"CYP\", \"locations\": [\"Cyprus\"], \"marker\": {\"color\": \"#00cc96\", \"size\": [35.7000007629], \"sizemode\": \"area\", \"sizeref\": 0.14475000381475, \"symbol\": \"circle\"}, \"mode\": \"markers\", \"name\": \"CYP\", \"showlegend\": true, \"type\": \"scattergeo\"}, {\"geo\": \"geo\", \"hovertemplate\": \"<b>%{hovertext}</b><br><br>Country Code=CZE<br>2014=%{marker.size}<br>Country Name=%{location}<extra></extra>\", \"hovertext\": [16.7000007629], \"legendgroup\": \"CZE\", \"locations\": [\"Czech Republic\"], \"marker\": {\"color\": \"#ab63fa\", \"size\": [16.7000007629], \"sizemode\": \"area\", \"sizeref\": 0.14475000381475, \"symbol\": \"circle\"}, \"mode\": \"markers\", \"name\": \"CZE\", \"showlegend\": true, \"type\": \"scattergeo\"}, {\"geo\": \"geo\", \"hovertemplate\": \"<b>%{hovertext}</b><br><br>Country Code=DEU<br>2014=%{marker.size}<br>Country Name=%{location}<extra></extra>\", \"hovertext\": [7.599999904600001], \"legendgroup\": \"DEU\", \"locations\": [\"Germany\"], \"marker\": {\"color\": \"#FFA15A\", \"size\": [7.599999904600001], \"sizemode\": \"area\", \"sizeref\": 0.14475000381475, \"symbol\": \"circle\"}, \"mode\": \"markers\", \"name\": \"DEU\", \"showlegend\": true, \"type\": \"scattergeo\"}, {\"geo\": \"geo\", \"hovertemplate\": \"<b>%{hovertext}</b><br><br>Country Code=DNK<br>2014=%{marker.size}<br>Country Name=%{location}<extra></extra>\", \"hovertext\": [12.399999618499999], \"legendgroup\": \"DNK\", \"locations\": [\"Denmark\"], \"marker\": {\"color\": \"#19d3f3\", \"size\": [12.399999618499999], \"sizemode\": \"area\", \"sizeref\": 0.14475000381475, \"symbol\": \"circle\"}, \"mode\": \"markers\", \"name\": \"DNK\", \"showlegend\": true, \"type\": \"scattergeo\"}, {\"geo\": \"geo\", \"hovertemplate\": \"<b>%{hovertext}</b><br><br>Country Code=DOM<br>2014=%{marker.size}<br>Country Name=%{location}<extra></extra>\", \"hovertext\": [31.3999996185], \"legendgroup\": \"DOM\", \"locations\": [\"Dominican Republic\"], \"marker\": {\"color\": \"#FF6692\", \"size\": [31.3999996185], \"sizemode\": \"area\", \"sizeref\": 0.14475000381475, \"symbol\": \"circle\"}, \"mode\": \"markers\", \"name\": \"DOM\", \"showlegend\": true, \"type\": \"scattergeo\"}, {\"geo\": \"geo\", \"hovertemplate\": \"<b>%{hovertext}</b><br><br>Country Code=DZA<br>2014=%{marker.size}<br>Country Name=%{location}<extra></extra>\", \"hovertext\": [20.0], \"legendgroup\": \"DZA\", \"locations\": [\"Algeria\"], \"marker\": {\"color\": \"#B6E880\", \"size\": [20.0], \"sizemode\": \"area\", \"sizeref\": 0.14475000381475, \"symbol\": \"circle\"}, \"mode\": \"markers\", \"name\": \"DZA\", \"showlegend\": true, \"type\": \"scattergeo\"}, {\"geo\": \"geo\", \"hovertemplate\": \"<b>%{hovertext}</b><br><br>Country Code=EAP<br>2014=%{marker.size}<br>Country Name=%{location}<extra></extra>\", \"hovertext\": [11.7905789249], \"legendgroup\": \"EAP\", \"locations\": [\"East Asia & Pacific (excluding high income)\"], \"marker\": {\"color\": \"#FF97FF\", \"size\": [11.7905789249], \"sizemode\": \"area\", \"sizeref\": 0.14475000381475, \"symbol\": \"circle\"}, \"mode\": \"markers\", \"name\": \"EAP\", \"showlegend\": true, \"type\": \"scattergeo\"}, {\"geo\": \"geo\", \"hovertemplate\": \"<b>%{hovertext}</b><br><br>Country Code=EAR<br>2014=%{marker.size}<br>Country Name=%{location}<extra></extra>\", \"hovertext\": [14.3505036316], \"legendgroup\": \"EAR\", \"locations\": [\"Early-demographic dividend\"], \"marker\": {\"color\": \"#FECB52\", \"size\": [14.3505036316], \"sizemode\": \"area\", \"sizeref\": 0.14475000381475, \"symbol\": \"circle\"}, \"mode\": \"markers\", \"name\": \"EAR\", \"showlegend\": true, \"type\": \"scattergeo\"}, {\"geo\": \"geo\", \"hovertemplate\": \"<b>%{hovertext}</b><br><br>Country Code=EAS<br>2014=%{marker.size}<br>Country Name=%{location}<extra></extra>\", \"hovertext\": [11.570404903], \"legendgroup\": \"EAS\", \"locations\": [\"East Asia & Pacific\"], \"marker\": {\"color\": \"#636efa\", \"size\": [11.570404903], \"sizemode\": \"area\", \"sizeref\": 0.14475000381475, \"symbol\": \"circle\"}, \"mode\": \"markers\", \"name\": \"EAS\", \"showlegend\": true, \"type\": \"scattergeo\"}, {\"geo\": \"geo\", \"hovertemplate\": \"<b>%{hovertext}</b><br><br>Country Code=ECA<br>2014=%{marker.size}<br>Country Name=%{location}<extra></extra>\", \"hovertext\": [17.2492839678], \"legendgroup\": \"ECA\", \"locations\": [\"Europe & Central Asia (excluding high income)\"], \"marker\": {\"color\": \"#EF553B\", \"size\": [17.2492839678], \"sizemode\": \"area\", \"sizeref\": 0.14475000381475, \"symbol\": \"circle\"}, \"mode\": \"markers\", \"name\": \"ECA\", \"showlegend\": true, \"type\": \"scattergeo\"}, {\"geo\": \"geo\", \"hovertemplate\": \"<b>%{hovertext}</b><br><br>Country Code=ECS<br>2014=%{marker.size}<br>Country Name=%{location}<extra></extra>\", \"hovertext\": [20.8899802535], \"legendgroup\": \"ECS\", \"locations\": [\"Europe & Central Asia\"], \"marker\": {\"color\": \"#00cc96\", \"size\": [20.8899802535], \"sizemode\": \"area\", \"sizeref\": 0.14475000381475, \"symbol\": \"circle\"}, \"mode\": \"markers\", \"name\": \"ECS\", \"showlegend\": true, \"type\": \"scattergeo\"}, {\"geo\": \"geo\", \"hovertemplate\": \"<b>%{hovertext}</b><br><br>Country Code=ECU<br>2014=%{marker.size}<br>Country Name=%{location}<extra></extra>\", \"hovertext\": [10.800000190699999], \"legendgroup\": \"ECU\", \"locations\": [\"Ecuador\"], \"marker\": {\"color\": \"#ab63fa\", \"size\": [10.800000190699999], \"sizemode\": \"area\", \"sizeref\": 0.14475000381475, \"symbol\": \"circle\"}, \"mode\": \"markers\", \"name\": \"ECU\", \"showlegend\": true, \"type\": \"scattergeo\"}, {\"geo\": \"geo\", \"hovertemplate\": \"<b>%{hovertext}</b><br><br>Country Code=EGY<br>2014=%{marker.size}<br>Country Name=%{location}<extra></extra>\", \"hovertext\": [42.0], \"legendgroup\": \"EGY\", \"locations\": [\"Egypt, Arab Rep.\"], \"marker\": {\"color\": \"#FFA15A\", \"size\": [42.0], \"sizemode\": \"area\", \"sizeref\": 0.14475000381475, \"symbol\": \"circle\"}, \"mode\": \"markers\", \"name\": \"EGY\", \"showlegend\": true, \"type\": \"scattergeo\"}, {\"geo\": \"geo\", \"hovertemplate\": \"<b>%{hovertext}</b><br><br>Country Code=EMU<br>2014=%{marker.size}<br>Country Name=%{location}<extra></extra>\", \"hovertext\": [27.583945983899998], \"legendgroup\": \"EMU\", \"locations\": [\"Euro area\"], \"marker\": {\"color\": \"#19d3f3\", \"size\": [27.583945983899998], \"sizemode\": \"area\", \"sizeref\": 0.14475000381475, \"symbol\": \"circle\"}, \"mode\": \"markers\", \"name\": \"EMU\", \"showlegend\": true, \"type\": \"scattergeo\"}, {\"geo\": \"geo\", \"hovertemplate\": \"<b>%{hovertext}</b><br><br>Country Code=ERI<br>2014=%{marker.size}<br>Country Name=%{location}<extra></extra>\", \"hovertext\": [10.899999618499999], \"legendgroup\": \"ERI\", \"locations\": [\"Eritrea\"], \"marker\": {\"color\": \"#FF6692\", \"size\": [10.899999618499999], \"sizemode\": \"area\", \"sizeref\": 0.14475000381475, \"symbol\": \"circle\"}, \"mode\": \"markers\", \"name\": \"ERI\", \"showlegend\": true, \"type\": \"scattergeo\"}, {\"geo\": \"geo\", \"hovertemplate\": \"<b>%{hovertext}</b><br><br>Country Code=ESP<br>2014=%{marker.size}<br>Country Name=%{location}<extra></extra>\", \"hovertext\": [57.9000015259], \"legendgroup\": \"ESP\", \"locations\": [\"Spain\"], \"marker\": {\"color\": \"#B6E880\", \"size\": [57.9000015259], \"sizemode\": \"area\", \"sizeref\": 0.14475000381475, \"symbol\": \"circle\"}, \"mode\": \"markers\", \"name\": \"ESP\", \"showlegend\": true, \"type\": \"scattergeo\"}, {\"geo\": \"geo\", \"hovertemplate\": \"<b>%{hovertext}</b><br><br>Country Code=EST<br>2014=%{marker.size}<br>Country Name=%{location}<extra></extra>\", \"hovertext\": [17.0], \"legendgroup\": \"EST\", \"locations\": [\"Estonia\"], \"marker\": {\"color\": \"#FF97FF\", \"size\": [17.0], \"sizemode\": \"area\", \"sizeref\": 0.14475000381475, \"symbol\": \"circle\"}, \"mode\": \"markers\", \"name\": \"EST\", \"showlegend\": true, \"type\": \"scattergeo\"}, {\"geo\": \"geo\", \"hovertemplate\": \"<b>%{hovertext}</b><br><br>Country Code=ETH<br>2014=%{marker.size}<br>Country Name=%{location}<extra></extra>\", \"hovertext\": [7.099999904600001], \"legendgroup\": \"ETH\", \"locations\": [\"Ethiopia\"], \"marker\": {\"color\": \"#FECB52\", \"size\": [7.099999904600001], \"sizemode\": \"area\", \"sizeref\": 0.14475000381475, \"symbol\": \"circle\"}, \"mode\": \"markers\", \"name\": \"ETH\", \"showlegend\": true, \"type\": \"scattergeo\"}, {\"geo\": \"geo\", \"hovertemplate\": \"<b>%{hovertext}</b><br><br>Country Code=EUU<br>2014=%{marker.size}<br>Country Name=%{location}<extra></extra>\", \"hovertext\": [25.1161391909], \"legendgroup\": \"EUU\", \"locations\": [\"European Union\"], \"marker\": {\"color\": \"#636efa\", \"size\": [25.1161391909], \"sizemode\": \"area\", \"sizeref\": 0.14475000381475, \"symbol\": \"circle\"}, \"mode\": \"markers\", \"name\": \"EUU\", \"showlegend\": true, \"type\": \"scattergeo\"}, {\"geo\": \"geo\", \"hovertemplate\": \"<b>%{hovertext}</b><br><br>Country Code=FCS<br>2014=%{marker.size}<br>Country Name=%{location}<extra></extra>\", \"hovertext\": [16.6622614164], \"legendgroup\": \"FCS\", \"locations\": [\"Fragile and conflict affected situations\"], \"marker\": {\"color\": \"#EF553B\", \"size\": [16.6622614164], \"sizemode\": \"area\", \"sizeref\": 0.14475000381475, \"symbol\": \"circle\"}, \"mode\": \"markers\", \"name\": \"FCS\", \"showlegend\": true, \"type\": \"scattergeo\"}, {\"geo\": \"geo\", \"hovertemplate\": \"<b>%{hovertext}</b><br><br>Country Code=FIN<br>2014=%{marker.size}<br>Country Name=%{location}<extra></extra>\", \"hovertext\": [19.2000007629], \"legendgroup\": \"FIN\", \"locations\": [\"Finland\"], \"marker\": {\"color\": \"#00cc96\", \"size\": [19.2000007629], \"sizemode\": \"area\", \"sizeref\": 0.14475000381475, \"symbol\": \"circle\"}, \"mode\": \"markers\", \"name\": \"FIN\", \"showlegend\": true, \"type\": \"scattergeo\"}, {\"geo\": \"geo\", \"hovertemplate\": \"<b>%{hovertext}</b><br><br>Country Code=FJI<br>2014=%{marker.size}<br>Country Name=%{location}<extra></extra>\", \"hovertext\": [18.6000003815], \"legendgroup\": \"FJI\", \"locations\": [\"Fiji\"], \"marker\": {\"color\": \"#ab63fa\", \"size\": [18.6000003815], \"sizemode\": \"area\", \"sizeref\": 0.14475000381475, \"symbol\": \"circle\"}, \"mode\": \"markers\", \"name\": \"FJI\", \"showlegend\": true, \"type\": \"scattergeo\"}, {\"geo\": \"geo\", \"hovertemplate\": \"<b>%{hovertext}</b><br><br>Country Code=FRA<br>2014=%{marker.size}<br>Country Name=%{location}<extra></extra>\", \"hovertext\": [23.8999996185], \"legendgroup\": \"FRA\", \"locations\": [\"France\"], \"marker\": {\"color\": \"#FFA15A\", \"size\": [23.8999996185], \"sizemode\": \"area\", \"sizeref\": 0.14475000381475, \"symbol\": \"circle\"}, \"mode\": \"markers\", \"name\": \"FRA\", \"showlegend\": true, \"type\": \"scattergeo\"}, {\"geo\": \"geo\", \"hovertemplate\": \"<b>%{hovertext}</b><br><br>Country Code=GAB<br>2014=%{marker.size}<br>Country Name=%{location}<extra></extra>\", \"hovertext\": [35.5], \"legendgroup\": \"GAB\", \"locations\": [\"Gabon\"], \"marker\": {\"color\": \"#19d3f3\", \"size\": [35.5], \"sizemode\": \"area\", \"sizeref\": 0.14475000381475, \"symbol\": \"circle\"}, \"mode\": \"markers\", \"name\": \"GAB\", \"showlegend\": true, \"type\": \"scattergeo\"}, {\"geo\": \"geo\", \"hovertemplate\": \"<b>%{hovertext}</b><br><br>Country Code=GBR<br>2014=%{marker.size}<br>Country Name=%{location}<extra></extra>\", \"hovertext\": [16.7000007629], \"legendgroup\": \"GBR\", \"locations\": [\"United Kingdom\"], \"marker\": {\"color\": \"#FF6692\", \"size\": [16.7000007629], \"sizemode\": \"area\", \"sizeref\": 0.14475000381475, \"symbol\": \"circle\"}, \"mode\": \"markers\", \"name\": \"GBR\", \"showlegend\": true, \"type\": \"scattergeo\"}, {\"geo\": \"geo\", \"hovertemplate\": \"<b>%{hovertext}</b><br><br>Country Code=GEO<br>2014=%{marker.size}<br>Country Name=%{location}<extra></extra>\", \"hovertext\": [34.0999984741], \"legendgroup\": \"GEO\", \"locations\": [\"Georgia\"], \"marker\": {\"color\": \"#B6E880\", \"size\": [34.0999984741], \"sizemode\": \"area\", \"sizeref\": 0.14475000381475, \"symbol\": \"circle\"}, \"mode\": \"markers\", \"name\": \"GEO\", \"showlegend\": true, \"type\": \"scattergeo\"}, {\"geo\": \"geo\", \"hovertemplate\": \"<b>%{hovertext}</b><br><br>Country Code=GHA<br>2014=%{marker.size}<br>Country Name=%{location}<extra></extra>\", \"hovertext\": [3.2999999523000003], \"legendgroup\": \"GHA\", \"locations\": [\"Ghana\"], \"marker\": {\"color\": \"#FF97FF\", \"size\": [3.2999999523000003], \"sizemode\": \"area\", \"sizeref\": 0.14475000381475, \"symbol\": \"circle\"}, \"mode\": \"markers\", \"name\": \"GHA\", \"showlegend\": true, \"type\": \"scattergeo\"}, {\"geo\": \"geo\", \"hovertemplate\": \"<b>%{hovertext}</b><br><br>Country Code=GIN<br>2014=%{marker.size}<br>Country Name=%{location}<extra></extra>\", \"hovertext\": [1.7000000477000001], \"legendgroup\": \"GIN\", \"locations\": [\"Guinea\"], \"marker\": {\"color\": \"#FECB52\", \"size\": [1.7000000477000001], \"sizemode\": \"area\", \"sizeref\": 0.14475000381475, \"symbol\": \"circle\"}, \"mode\": \"markers\", \"name\": \"GIN\", \"showlegend\": true, \"type\": \"scattergeo\"}, {\"geo\": \"geo\", \"hovertemplate\": \"<b>%{hovertext}</b><br><br>Country Code=GMB<br>2014=%{marker.size}<br>Country Name=%{location}<extra></extra>\", \"hovertext\": [10.6000003815], \"legendgroup\": \"GMB\", \"locations\": [\"Gambia, The\"], \"marker\": {\"color\": \"#636efa\", \"size\": [10.6000003815], \"sizemode\": \"area\", \"sizeref\": 0.14475000381475, \"symbol\": \"circle\"}, \"mode\": \"markers\", \"name\": \"GMB\", \"showlegend\": true, \"type\": \"scattergeo\"}, {\"geo\": \"geo\", \"hovertemplate\": \"<b>%{hovertext}</b><br><br>Country Code=GNB<br>2014=%{marker.size}<br>Country Name=%{location}<extra></extra>\", \"hovertext\": [11.100000381500001], \"legendgroup\": \"GNB\", \"locations\": [\"Guinea-Bissau\"], \"marker\": {\"color\": \"#EF553B\", \"size\": [11.100000381500001], \"sizemode\": \"area\", \"sizeref\": 0.14475000381475, \"symbol\": \"circle\"}, \"mode\": \"markers\", \"name\": \"GNB\", \"showlegend\": true, \"type\": \"scattergeo\"}, {\"geo\": \"geo\", \"hovertemplate\": \"<b>%{hovertext}</b><br><br>Country Code=GNQ<br>2014=%{marker.size}<br>Country Name=%{location}<extra></extra>\", \"hovertext\": [12.600000381500001], \"legendgroup\": \"GNQ\", \"locations\": [\"Equatorial Guinea\"], \"marker\": {\"color\": \"#00cc96\", \"size\": [12.600000381500001], \"sizemode\": \"area\", \"sizeref\": 0.14475000381475, \"symbol\": \"circle\"}, \"mode\": \"markers\", \"name\": \"GNQ\", \"showlegend\": true, \"type\": \"scattergeo\"}, {\"geo\": \"geo\", \"hovertemplate\": \"<b>%{hovertext}</b><br><br>Country Code=GRC<br>2014=%{marker.size}<br>Country Name=%{location}<extra></extra>\", \"hovertext\": [53.9000015259], \"legendgroup\": \"GRC\", \"locations\": [\"Greece\"], \"marker\": {\"color\": \"#ab63fa\", \"size\": [53.9000015259], \"sizemode\": \"area\", \"sizeref\": 0.14475000381475, \"symbol\": \"circle\"}, \"mode\": \"markers\", \"name\": \"GRC\", \"showlegend\": true, \"type\": \"scattergeo\"}, {\"geo\": \"geo\", \"hovertemplate\": \"<b>%{hovertext}</b><br><br>Country Code=GTM<br>2014=%{marker.size}<br>Country Name=%{location}<extra></extra>\", \"hovertext\": [5.400000095399999], \"legendgroup\": \"GTM\", \"locations\": [\"Guatemala\"], \"marker\": {\"color\": \"#FFA15A\", \"size\": [5.400000095399999], \"sizemode\": \"area\", \"sizeref\": 0.14475000381475, \"symbol\": \"circle\"}, \"mode\": \"markers\", \"name\": \"GTM\", \"showlegend\": true, \"type\": \"scattergeo\"}, {\"geo\": \"geo\", \"hovertemplate\": \"<b>%{hovertext}</b><br><br>Country Code=GUY<br>2014=%{marker.size}<br>Country Name=%{location}<extra></extra>\", \"hovertext\": [23.7999992371], \"legendgroup\": \"GUY\", \"locations\": [\"Guyana\"], \"marker\": {\"color\": \"#19d3f3\", \"size\": [23.7999992371], \"sizemode\": \"area\", \"sizeref\": 0.14475000381475, \"symbol\": \"circle\"}, \"mode\": \"markers\", \"name\": \"GUY\", \"showlegend\": true, \"type\": \"scattergeo\"}, {\"geo\": \"geo\", \"hovertemplate\": \"<b>%{hovertext}</b><br><br>Country Code=HIC<br>2014=%{marker.size}<br>Country Name=%{location}<extra></extra>\", \"hovertext\": [17.831891963], \"legendgroup\": \"HIC\", \"locations\": [\"High income\"], \"marker\": {\"color\": \"#FF6692\", \"size\": [17.831891963], \"sizemode\": \"area\", \"sizeref\": 0.14475000381475, \"symbol\": \"circle\"}, \"mode\": \"markers\", \"name\": \"HIC\", \"showlegend\": true, \"type\": \"scattergeo\"}, {\"geo\": \"geo\", \"hovertemplate\": \"<b>%{hovertext}</b><br><br>Country Code=HKG<br>2014=%{marker.size}<br>Country Name=%{location}<extra></extra>\", \"hovertext\": [8.5], \"legendgroup\": \"HKG\", \"locations\": [\"Hong Kong SAR, China\"], \"marker\": {\"color\": \"#B6E880\", \"size\": [8.5], \"sizemode\": \"area\", \"sizeref\": 0.14475000381475, \"symbol\": \"circle\"}, \"mode\": \"markers\", \"name\": \"HKG\", \"showlegend\": true, \"type\": \"scattergeo\"}, {\"geo\": \"geo\", \"hovertemplate\": \"<b>%{hovertext}</b><br><br>Country Code=HND<br>2014=%{marker.size}<br>Country Name=%{location}<extra></extra>\", \"hovertext\": [6.900000095399999], \"legendgroup\": \"HND\", \"locations\": [\"Honduras\"], \"marker\": {\"color\": \"#FF97FF\", \"size\": [6.900000095399999], \"sizemode\": \"area\", \"sizeref\": 0.14475000381475, \"symbol\": \"circle\"}, \"mode\": \"markers\", \"name\": \"HND\", \"showlegend\": true, \"type\": \"scattergeo\"}, {\"geo\": \"geo\", \"hovertemplate\": \"<b>%{hovertext}</b><br><br>Country Code=HPC<br>2014=%{marker.size}<br>Country Name=%{location}<extra></extra>\", \"hovertext\": [11.1249198842], \"legendgroup\": \"HPC\", \"locations\": [\"Heavily indebted poor countries (HIPC)\"], \"marker\": {\"color\": \"#FECB52\", \"size\": [11.1249198842], \"sizemode\": \"area\", \"sizeref\": 0.14475000381475, \"symbol\": \"circle\"}, \"mode\": \"markers\", \"name\": \"HPC\", \"showlegend\": true, \"type\": \"scattergeo\"}, {\"geo\": \"geo\", \"hovertemplate\": \"<b>%{hovertext}</b><br><br>Country Code=HRV<br>2014=%{marker.size}<br>Country Name=%{location}<extra></extra>\", \"hovertext\": [45.9000015259], \"legendgroup\": \"HRV\", \"locations\": [\"Croatia\"], \"marker\": {\"color\": \"#636efa\", \"size\": [45.9000015259], \"sizemode\": \"area\", \"sizeref\": 0.14475000381475, \"symbol\": \"circle\"}, \"mode\": \"markers\", \"name\": \"HRV\", \"showlegend\": true, \"type\": \"scattergeo\"}, {\"geo\": \"geo\", \"hovertemplate\": \"<b>%{hovertext}</b><br><br>Country Code=HTI<br>2014=%{marker.size}<br>Country Name=%{location}<extra></extra>\", \"hovertext\": [17.1000003815], \"legendgroup\": \"HTI\", \"locations\": [\"Haiti\"], \"marker\": {\"color\": \"#EF553B\", \"size\": [17.1000003815], \"sizemode\": \"area\", \"sizeref\": 0.14475000381475, \"symbol\": \"circle\"}, \"mode\": \"markers\", \"name\": \"HTI\", \"showlegend\": true, \"type\": \"scattergeo\"}, {\"geo\": \"geo\", \"hovertemplate\": \"<b>%{hovertext}</b><br><br>Country Code=HUN<br>2014=%{marker.size}<br>Country Name=%{location}<extra></extra>\", \"hovertext\": [21.0], \"legendgroup\": \"HUN\", \"locations\": [\"Hungary\"], \"marker\": {\"color\": \"#00cc96\", \"size\": [21.0], \"sizemode\": \"area\", \"sizeref\": 0.14475000381475, \"symbol\": \"circle\"}, \"mode\": \"markers\", \"name\": \"HUN\", \"showlegend\": true, \"type\": \"scattergeo\"}, {\"geo\": \"geo\", \"hovertemplate\": \"<b>%{hovertext}</b><br><br>Country Code=IBD<br>2014=%{marker.size}<br>Country Name=%{location}<extra></extra>\", \"hovertext\": [14.5445281104], \"legendgroup\": \"IBD\", \"locations\": [\"IBRD only\"], \"marker\": {\"color\": \"#ab63fa\", \"size\": [14.5445281104], \"sizemode\": \"area\", \"sizeref\": 0.14475000381475, \"symbol\": \"circle\"}, \"mode\": \"markers\", \"name\": \"IBD\", \"showlegend\": true, \"type\": \"scattergeo\"}, {\"geo\": \"geo\", \"hovertemplate\": \"<b>%{hovertext}</b><br><br>Country Code=IBT<br>2014=%{marker.size}<br>Country Name=%{location}<extra></extra>\", \"hovertext\": [13.5311260249], \"legendgroup\": \"IBT\", \"locations\": [\"IDA & IBRD total\"], \"marker\": {\"color\": \"#FFA15A\", \"size\": [13.5311260249], \"sizemode\": \"area\", \"sizeref\": 0.14475000381475, \"symbol\": \"circle\"}, \"mode\": \"markers\", \"name\": \"IBT\", \"showlegend\": true, \"type\": \"scattergeo\"}, {\"geo\": \"geo\", \"hovertemplate\": \"<b>%{hovertext}</b><br><br>Country Code=IDA<br>2014=%{marker.size}<br>Country Name=%{location}<extra></extra>\", \"hovertext\": [11.128515701900001], \"legendgroup\": \"IDA\", \"locations\": [\"IDA total\"], \"marker\": {\"color\": \"#19d3f3\", \"size\": [11.128515701900001], \"sizemode\": \"area\", \"sizeref\": 0.14475000381475, \"symbol\": \"circle\"}, \"mode\": \"markers\", \"name\": \"IDA\", \"showlegend\": true, \"type\": \"scattergeo\"}, {\"geo\": \"geo\", \"hovertemplate\": \"<b>%{hovertext}</b><br><br>Country Code=IDB<br>2014=%{marker.size}<br>Country Name=%{location}<extra></extra>\", \"hovertext\": [10.619027829], \"legendgroup\": \"IDB\", \"locations\": [\"IDA blend\"], \"marker\": {\"color\": \"#FF6692\", \"size\": [10.619027829], \"sizemode\": \"area\", \"sizeref\": 0.14475000381475, \"symbol\": \"circle\"}, \"mode\": \"markers\", \"name\": \"IDB\", \"showlegend\": true, \"type\": \"scattergeo\"}, {\"geo\": \"geo\", \"hovertemplate\": \"<b>%{hovertext}</b><br><br>Country Code=IDN<br>2014=%{marker.size}<br>Country Name=%{location}<extra></extra>\", \"hovertext\": [21.7999992371], \"legendgroup\": \"IDN\", \"locations\": [\"Indonesia\"], \"marker\": {\"color\": \"#B6E880\", \"size\": [21.7999992371], \"sizemode\": \"area\", \"sizeref\": 0.14475000381475, \"symbol\": \"circle\"}, \"mode\": \"markers\", \"name\": \"IDN\", \"showlegend\": true, \"type\": \"scattergeo\"}, {\"geo\": \"geo\", \"hovertemplate\": \"<b>%{hovertext}</b><br><br>Country Code=IDX<br>2014=%{marker.size}<br>Country Name=%{location}<extra></extra>\", \"hovertext\": [11.4049084151], \"legendgroup\": \"IDX\", \"locations\": [\"IDA only\"], \"marker\": {\"color\": \"#FF97FF\", \"size\": [11.4049084151], \"sizemode\": \"area\", \"sizeref\": 0.14475000381475, \"symbol\": \"circle\"}, \"mode\": \"markers\", \"name\": \"IDX\", \"showlegend\": true, \"type\": \"scattergeo\"}, {\"geo\": \"geo\", \"hovertemplate\": \"<b>%{hovertext}</b><br><br>Country Code=IND<br>2014=%{marker.size}<br>Country Name=%{location}<extra></extra>\", \"hovertext\": [10.3999996185], \"legendgroup\": \"IND\", \"locations\": [\"India\"], \"marker\": {\"color\": \"#FECB52\", \"size\": [10.3999996185], \"sizemode\": \"area\", \"sizeref\": 0.14475000381475, \"symbol\": \"circle\"}, \"mode\": \"markers\", \"name\": \"IND\", \"showlegend\": true, \"type\": \"scattergeo\"}, {\"geo\": \"geo\", \"hovertemplate\": \"<b>%{hovertext}</b><br><br>Country Code=IRL<br>2014=%{marker.size}<br>Country Name=%{location}<extra></extra>\", \"hovertext\": [25.7999992371], \"legendgroup\": \"IRL\", \"locations\": [\"Ireland\"], \"marker\": {\"color\": \"#636efa\", \"size\": [25.7999992371], \"sizemode\": \"area\", \"sizeref\": 0.14475000381475, \"symbol\": \"circle\"}, \"mode\": \"markers\", \"name\": \"IRL\", \"showlegend\": true, \"type\": \"scattergeo\"}, {\"geo\": \"geo\", \"hovertemplate\": \"<b>%{hovertext}</b><br><br>Country Code=IRN<br>2014=%{marker.size}<br>Country Name=%{location}<extra></extra>\", \"hovertext\": [29.3999996185], \"legendgroup\": \"IRN\", \"locations\": [\"Iran, Islamic Rep.\"], \"marker\": {\"color\": \"#EF553B\", \"size\": [29.3999996185], \"sizemode\": \"area\", \"sizeref\": 0.14475000381475, \"symbol\": \"circle\"}, \"mode\": \"markers\", \"name\": \"IRN\", \"showlegend\": true, \"type\": \"scattergeo\"}, {\"geo\": \"geo\", \"hovertemplate\": \"<b>%{hovertext}</b><br><br>Country Code=IRQ<br>2014=%{marker.size}<br>Country Name=%{location}<extra></extra>\", \"hovertext\": [34.5999984741], \"legendgroup\": \"IRQ\", \"locations\": [\"Iraq\"], \"marker\": {\"color\": \"#00cc96\", \"size\": [34.5999984741], \"sizemode\": \"area\", \"sizeref\": 0.14475000381475, \"symbol\": \"circle\"}, \"mode\": \"markers\", \"name\": \"IRQ\", \"showlegend\": true, \"type\": \"scattergeo\"}, {\"geo\": \"geo\", \"hovertemplate\": \"<b>%{hovertext}</b><br><br>Country Code=ISL<br>2014=%{marker.size}<br>Country Name=%{location}<extra></extra>\", \"hovertext\": [10.899999618499999], \"legendgroup\": \"ISL\", \"locations\": [\"Iceland\"], \"marker\": {\"color\": \"#ab63fa\", \"size\": [10.899999618499999], \"sizemode\": \"area\", \"sizeref\": 0.14475000381475, \"symbol\": \"circle\"}, \"mode\": \"markers\", \"name\": \"ISL\", \"showlegend\": true, \"type\": \"scattergeo\"}, {\"geo\": \"geo\", \"hovertemplate\": \"<b>%{hovertext}</b><br><br>Country Code=ISR<br>2014=%{marker.size}<br>Country Name=%{location}<extra></extra>\", \"hovertext\": [11.0], \"legendgroup\": \"ISR\", \"locations\": [\"Israel\"], \"marker\": {\"color\": \"#FFA15A\", \"size\": [11.0], \"sizemode\": \"area\", \"sizeref\": 0.14475000381475, \"symbol\": \"circle\"}, \"mode\": \"markers\", \"name\": \"ISR\", \"showlegend\": true, \"type\": \"scattergeo\"}, {\"geo\": \"geo\", \"hovertemplate\": \"<b>%{hovertext}</b><br><br>Country Code=ITA<br>2014=%{marker.size}<br>Country Name=%{location}<extra></extra>\", \"hovertext\": [44.0999984741], \"legendgroup\": \"ITA\", \"locations\": [\"Italy\"], \"marker\": {\"color\": \"#19d3f3\", \"size\": [44.0999984741], \"sizemode\": \"area\", \"sizeref\": 0.14475000381475, \"symbol\": \"circle\"}, \"mode\": \"markers\", \"name\": \"ITA\", \"showlegend\": true, \"type\": \"scattergeo\"}, {\"geo\": \"geo\", \"hovertemplate\": \"<b>%{hovertext}</b><br><br>Country Code=JAM<br>2014=%{marker.size}<br>Country Name=%{location}<extra></extra>\", \"hovertext\": [30.5], \"legendgroup\": \"JAM\", \"locations\": [\"Jamaica\"], \"marker\": {\"color\": \"#FF6692\", \"size\": [30.5], \"sizemode\": \"area\", \"sizeref\": 0.14475000381475, \"symbol\": \"circle\"}, \"mode\": \"markers\", \"name\": \"JAM\", \"showlegend\": true, \"type\": \"scattergeo\"}, {\"geo\": \"geo\", \"hovertemplate\": \"<b>%{hovertext}</b><br><br>Country Code=JOR<br>2014=%{marker.size}<br>Country Name=%{location}<extra></extra>\", \"hovertext\": [28.7999992371], \"legendgroup\": \"JOR\", \"locations\": [\"Jordan\"], \"marker\": {\"color\": \"#B6E880\", \"size\": [28.7999992371], \"sizemode\": \"area\", \"sizeref\": 0.14475000381475, \"symbol\": \"circle\"}, \"mode\": \"markers\", \"name\": \"JOR\", \"showlegend\": true, \"type\": \"scattergeo\"}, {\"geo\": \"geo\", \"hovertemplate\": \"<b>%{hovertext}</b><br><br>Country Code=JPN<br>2014=%{marker.size}<br>Country Name=%{location}<extra></extra>\", \"hovertext\": [6.5], \"legendgroup\": \"JPN\", \"locations\": [\"Japan\"], \"marker\": {\"color\": \"#FF97FF\", \"size\": [6.5], \"sizemode\": \"area\", \"sizeref\": 0.14475000381475, \"symbol\": \"circle\"}, \"mode\": \"markers\", \"name\": \"JPN\", \"showlegend\": true, \"type\": \"scattergeo\"}, {\"geo\": \"geo\", \"hovertemplate\": \"<b>%{hovertext}</b><br><br>Country Code=KAZ<br>2014=%{marker.size}<br>Country Name=%{location}<extra></extra>\", \"hovertext\": [3.5], \"legendgroup\": \"KAZ\", \"locations\": [\"Kazakhstan\"], \"marker\": {\"color\": \"#FECB52\", \"size\": [3.5], \"sizemode\": \"area\", \"sizeref\": 0.14475000381475, \"symbol\": \"circle\"}, \"mode\": \"markers\", \"name\": \"KAZ\", \"showlegend\": true, \"type\": \"scattergeo\"}, {\"geo\": \"geo\", \"hovertemplate\": \"<b>%{hovertext}</b><br><br>Country Code=KEN<br>2014=%{marker.size}<br>Country Name=%{location}<extra></extra>\", \"hovertext\": [17.3999996185], \"legendgroup\": \"KEN\", \"locations\": [\"Kenya\"], \"marker\": {\"color\": \"#636efa\", \"size\": [17.3999996185], \"sizemode\": \"area\", \"sizeref\": 0.14475000381475, \"symbol\": \"circle\"}, \"mode\": \"markers\", \"name\": \"KEN\", \"showlegend\": true, \"type\": \"scattergeo\"}, {\"geo\": \"geo\", \"hovertemplate\": \"<b>%{hovertext}</b><br><br>Country Code=KGZ<br>2014=%{marker.size}<br>Country Name=%{location}<extra></extra>\", \"hovertext\": [14.699999809300001], \"legendgroup\": \"KGZ\", \"locations\": [\"Kyrgyz Republic\"], \"marker\": {\"color\": \"#EF553B\", \"size\": [14.699999809300001], \"sizemode\": \"area\", \"sizeref\": 0.14475000381475, \"symbol\": \"circle\"}, \"mode\": \"markers\", \"name\": \"KGZ\", \"showlegend\": true, \"type\": \"scattergeo\"}, {\"geo\": \"geo\", \"hovertemplate\": \"<b>%{hovertext}</b><br><br>Country Code=KHM<br>2014=%{marker.size}<br>Country Name=%{location}<extra></extra>\", \"hovertext\": [0.8999999762], \"legendgroup\": \"KHM\", \"locations\": [\"Cambodia\"], \"marker\": {\"color\": \"#00cc96\", \"size\": [0.8999999762], \"sizemode\": \"area\", \"sizeref\": 0.14475000381475, \"symbol\": \"circle\"}, \"mode\": \"markers\", \"name\": \"KHM\", \"showlegend\": true, \"type\": \"scattergeo\"}, {\"geo\": \"geo\", \"hovertemplate\": \"<b>%{hovertext}</b><br><br>Country Code=KOR<br>2014=%{marker.size}<br>Country Name=%{location}<extra></extra>\", \"hovertext\": [10.3999996185], \"legendgroup\": \"KOR\", \"locations\": [\"Korea, Rep.\"], \"marker\": {\"color\": \"#ab63fa\", \"size\": [10.3999996185], \"sizemode\": \"area\", \"sizeref\": 0.14475000381475, \"symbol\": \"circle\"}, \"mode\": \"markers\", \"name\": \"KOR\", \"showlegend\": true, \"type\": \"scattergeo\"}, {\"geo\": \"geo\", \"hovertemplate\": \"<b>%{hovertext}</b><br><br>Country Code=KWT<br>2014=%{marker.size}<br>Country Name=%{location}<extra></extra>\", \"hovertext\": [19.3999996185], \"legendgroup\": \"KWT\", \"locations\": [\"Kuwait\"], \"marker\": {\"color\": \"#FFA15A\", \"size\": [19.3999996185], \"sizemode\": \"area\", \"sizeref\": 0.14475000381475, \"symbol\": \"circle\"}, \"mode\": \"markers\", \"name\": \"KWT\", \"showlegend\": true, \"type\": \"scattergeo\"}, {\"geo\": \"geo\", \"hovertemplate\": \"<b>%{hovertext}</b><br><br>Country Code=LAC<br>2014=%{marker.size}<br>Country Name=%{location}<extra></extra>\", \"hovertext\": [13.864309649700001], \"legendgroup\": \"LAC\", \"locations\": [\"Latin America & Caribbean (excluding high income)\"], \"marker\": {\"color\": \"#19d3f3\", \"size\": [13.864309649700001], \"sizemode\": \"area\", \"sizeref\": 0.14475000381475, \"symbol\": \"circle\"}, \"mode\": \"markers\", \"name\": \"LAC\", \"showlegend\": true, \"type\": \"scattergeo\"}, {\"geo\": \"geo\", \"hovertemplate\": \"<b>%{hovertext}</b><br><br>Country Code=LAO<br>2014=%{marker.size}<br>Country Name=%{location}<extra></extra>\", \"hovertext\": [3.4000000954000003], \"legendgroup\": \"LAO\", \"locations\": [\"Lao PDR\"], \"marker\": {\"color\": \"#FF6692\", \"size\": [3.4000000954000003], \"sizemode\": \"area\", \"sizeref\": 0.14475000381475, \"symbol\": \"circle\"}, \"mode\": \"markers\", \"name\": \"LAO\", \"showlegend\": true, \"type\": \"scattergeo\"}, {\"geo\": \"geo\", \"hovertemplate\": \"<b>%{hovertext}</b><br><br>Country Code=LBN<br>2014=%{marker.size}<br>Country Name=%{location}<extra></extra>\", \"hovertext\": [20.7000007629], \"legendgroup\": \"LBN\", \"locations\": [\"Lebanon\"], \"marker\": {\"color\": \"#B6E880\", \"size\": [20.7000007629], \"sizemode\": \"area\", \"sizeref\": 0.14475000381475, \"symbol\": \"circle\"}, \"mode\": \"markers\", \"name\": \"LBN\", \"showlegend\": true, \"type\": \"scattergeo\"}, {\"geo\": \"geo\", \"hovertemplate\": \"<b>%{hovertext}</b><br><br>Country Code=LBR<br>2014=%{marker.size}<br>Country Name=%{location}<extra></extra>\", \"hovertext\": [4.5999999046], \"legendgroup\": \"LBR\", \"locations\": [\"Liberia\"], \"marker\": {\"color\": \"#FF97FF\", \"size\": [4.5999999046], \"sizemode\": \"area\", \"sizeref\": 0.14475000381475, \"symbol\": \"circle\"}, \"mode\": \"markers\", \"name\": \"LBR\", \"showlegend\": true, \"type\": \"scattergeo\"}, {\"geo\": \"geo\", \"hovertemplate\": \"<b>%{hovertext}</b><br><br>Country Code=LBY<br>2014=%{marker.size}<br>Country Name=%{location}<extra></extra>\", \"hovertext\": [48.9000015259], \"legendgroup\": \"LBY\", \"locations\": [\"Libya\"], \"marker\": {\"color\": \"#FECB52\", \"size\": [48.9000015259], \"sizemode\": \"area\", \"sizeref\": 0.14475000381475, \"symbol\": \"circle\"}, \"mode\": \"markers\", \"name\": \"LBY\", \"showlegend\": true, \"type\": \"scattergeo\"}, {\"geo\": \"geo\", \"hovertemplate\": \"<b>%{hovertext}</b><br><br>Country Code=LCN<br>2014=%{marker.size}<br>Country Name=%{location}<extra></extra>\", \"hovertext\": [14.030339621800001], \"legendgroup\": \"LCN\", \"locations\": [\"Latin America & Caribbean\"], \"marker\": {\"color\": \"#636efa\", \"size\": [14.030339621800001], \"sizemode\": \"area\", \"sizeref\": 0.14475000381475, \"symbol\": \"circle\"}, \"mode\": \"markers\", \"name\": \"LCN\", \"showlegend\": true, \"type\": \"scattergeo\"}, {\"geo\": \"geo\", \"hovertemplate\": \"<b>%{hovertext}</b><br><br>Country Code=LDC<br>2014=%{marker.size}<br>Country Name=%{location}<extra></extra>\", \"hovertext\": [11.4583220967], \"legendgroup\": \"LDC\", \"locations\": [\"Least developed countries: UN classification\"], \"marker\": {\"color\": \"#EF553B\", \"size\": [11.4583220967], \"sizemode\": \"area\", \"sizeref\": 0.14475000381475, \"symbol\": \"circle\"}, \"mode\": \"markers\", \"name\": \"LDC\", \"showlegend\": true, \"type\": \"scattergeo\"}, {\"geo\": \"geo\", \"hovertemplate\": \"<b>%{hovertext}</b><br><br>Country Code=LIC<br>2014=%{marker.size}<br>Country Name=%{location}<extra></extra>\", \"hovertext\": [10.229319291], \"legendgroup\": \"LIC\", \"locations\": [\"Low income\"], \"marker\": {\"color\": \"#00cc96\", \"size\": [10.229319291], \"sizemode\": \"area\", \"sizeref\": 0.14475000381475, \"symbol\": \"circle\"}, \"mode\": \"markers\", \"name\": \"LIC\", \"showlegend\": true, \"type\": \"scattergeo\"}, {\"geo\": \"geo\", \"hovertemplate\": \"<b>%{hovertext}</b><br><br>Country Code=LKA<br>2014=%{marker.size}<br>Country Name=%{location}<extra></extra>\", \"hovertext\": [19.1000003815], \"legendgroup\": \"LKA\", \"locations\": [\"Sri Lanka\"], \"marker\": {\"color\": \"#ab63fa\", \"size\": [19.1000003815], \"sizemode\": \"area\", \"sizeref\": 0.14475000381475, \"symbol\": \"circle\"}, \"mode\": \"markers\", \"name\": \"LKA\", \"showlegend\": true, \"type\": \"scattergeo\"}, {\"geo\": \"geo\", \"hovertemplate\": \"<b>%{hovertext}</b><br><br>Country Code=LMC<br>2014=%{marker.size}<br>Country Name=%{location}<extra></extra>\", \"hovertext\": [13.3848246193], \"legendgroup\": \"LMC\", \"locations\": [\"Lower middle income\"], \"marker\": {\"color\": \"#FFA15A\", \"size\": [13.3848246193], \"sizemode\": \"area\", \"sizeref\": 0.14475000381475, \"symbol\": \"circle\"}, \"mode\": \"markers\", \"name\": \"LMC\", \"showlegend\": true, \"type\": \"scattergeo\"}, {\"geo\": \"geo\", \"hovertemplate\": \"<b>%{hovertext}</b><br><br>Country Code=LMY<br>2014=%{marker.size}<br>Country Name=%{location}<extra></extra>\", \"hovertext\": [13.4670080071], \"legendgroup\": \"LMY\", \"locations\": [\"Low & middle income\"], \"marker\": {\"color\": \"#19d3f3\", \"size\": [13.4670080071], \"sizemode\": \"area\", \"sizeref\": 0.14475000381475, \"symbol\": \"circle\"}, \"mode\": \"markers\", \"name\": \"LMY\", \"showlegend\": true, \"type\": \"scattergeo\"}, {\"geo\": \"geo\", \"hovertemplate\": \"<b>%{hovertext}</b><br><br>Country Code=LSO<br>2014=%{marker.size}<br>Country Name=%{location}<extra></extra>\", \"hovertext\": [33.0], \"legendgroup\": \"LSO\", \"locations\": [\"Lesotho\"], \"marker\": {\"color\": \"#FF6692\", \"size\": [33.0], \"sizemode\": \"area\", \"sizeref\": 0.14475000381475, \"symbol\": \"circle\"}, \"mode\": \"markers\", \"name\": \"LSO\", \"showlegend\": true, \"type\": \"scattergeo\"}, {\"geo\": \"geo\", \"hovertemplate\": \"<b>%{hovertext}</b><br><br>Country Code=LTE<br>2014=%{marker.size}<br>Country Name=%{location}<extra></extra>\", \"hovertext\": [12.0656138909], \"legendgroup\": \"LTE\", \"locations\": [\"Late-demographic dividend\"], \"marker\": {\"color\": \"#B6E880\", \"size\": [12.0656138909], \"sizemode\": \"area\", \"sizeref\": 0.14475000381475, \"symbol\": \"circle\"}, \"mode\": \"markers\", \"name\": \"LTE\", \"showlegend\": true, \"type\": \"scattergeo\"}, {\"geo\": \"geo\", \"hovertemplate\": \"<b>%{hovertext}</b><br><br>Country Code=LTU<br>2014=%{marker.size}<br>Country Name=%{location}<extra></extra>\", \"hovertext\": [21.5], \"legendgroup\": \"LTU\", \"locations\": [\"Lithuania\"], \"marker\": {\"color\": \"#FF97FF\", \"size\": [21.5], \"sizemode\": \"area\", \"sizeref\": 0.14475000381475, \"symbol\": \"circle\"}, \"mode\": \"markers\", \"name\": \"LTU\", \"showlegend\": true, \"type\": \"scattergeo\"}, {\"geo\": \"geo\", \"hovertemplate\": \"<b>%{hovertext}</b><br><br>Country Code=LUX<br>2014=%{marker.size}<br>Country Name=%{location}<extra></extra>\", \"hovertext\": [16.0], \"legendgroup\": \"LUX\", \"locations\": [\"Luxembourg\"], \"marker\": {\"color\": \"#FECB52\", \"size\": [16.0], \"sizemode\": \"area\", \"sizeref\": 0.14475000381475, \"symbol\": \"circle\"}, \"mode\": \"markers\", \"name\": \"LUX\", \"showlegend\": true, \"type\": \"scattergeo\"}, {\"geo\": \"geo\", \"hovertemplate\": \"<b>%{hovertext}</b><br><br>Country Code=LVA<br>2014=%{marker.size}<br>Country Name=%{location}<extra></extra>\", \"hovertext\": [19.2999992371], \"legendgroup\": \"LVA\", \"locations\": [\"Latvia\"], \"marker\": {\"color\": \"#636efa\", \"size\": [19.2999992371], \"sizemode\": \"area\", \"sizeref\": 0.14475000381475, \"symbol\": \"circle\"}, \"mode\": \"markers\", \"name\": \"LVA\", \"showlegend\": true, \"type\": \"scattergeo\"}, {\"geo\": \"geo\", \"hovertemplate\": \"<b>%{hovertext}</b><br><br>Country Code=MAC<br>2014=%{marker.size}<br>Country Name=%{location}<extra></extra>\", \"hovertext\": [2.9000000954000003], \"legendgroup\": \"MAC\", \"locations\": [\"Macao SAR, China\"], \"marker\": {\"color\": \"#EF553B\", \"size\": [2.9000000954000003], \"sizemode\": \"area\", \"sizeref\": 0.14475000381475, \"symbol\": \"circle\"}, \"mode\": \"markers\", \"name\": \"MAC\", \"showlegend\": true, \"type\": \"scattergeo\"}, {\"geo\": \"geo\", \"hovertemplate\": \"<b>%{hovertext}</b><br><br>Country Code=MAR<br>2014=%{marker.size}<br>Country Name=%{location}<extra></extra>\", \"hovertext\": [20.2000007629], \"legendgroup\": \"MAR\", \"locations\": [\"Morocco\"], \"marker\": {\"color\": \"#00cc96\", \"size\": [20.2000007629], \"sizemode\": \"area\", \"sizeref\": 0.14475000381475, \"symbol\": \"circle\"}, \"mode\": \"markers\", \"name\": \"MAR\", \"showlegend\": true, \"type\": \"scattergeo\"}, {\"geo\": \"geo\", \"hovertemplate\": \"<b>%{hovertext}</b><br><br>Country Code=MDA<br>2014=%{marker.size}<br>Country Name=%{location}<extra></extra>\", \"hovertext\": [8.5], \"legendgroup\": \"MDA\", \"locations\": [\"Moldova\"], \"marker\": {\"color\": \"#ab63fa\", \"size\": [8.5], \"sizemode\": \"area\", \"sizeref\": 0.14475000381475, \"symbol\": \"circle\"}, \"mode\": \"markers\", \"name\": \"MDA\", \"showlegend\": true, \"type\": \"scattergeo\"}, {\"geo\": \"geo\", \"hovertemplate\": \"<b>%{hovertext}</b><br><br>Country Code=MDG<br>2014=%{marker.size}<br>Country Name=%{location}<extra></extra>\", \"hovertext\": [5.1999998093], \"legendgroup\": \"MDG\", \"locations\": [\"Madagascar\"], \"marker\": {\"color\": \"#FFA15A\", \"size\": [5.1999998093], \"sizemode\": \"area\", \"sizeref\": 0.14475000381475, \"symbol\": \"circle\"}, \"mode\": \"markers\", \"name\": \"MDG\", \"showlegend\": true, \"type\": \"scattergeo\"}, {\"geo\": \"geo\", \"hovertemplate\": \"<b>%{hovertext}</b><br><br>Country Code=MDV<br>2014=%{marker.size}<br>Country Name=%{location}<extra></extra>\", \"hovertext\": [26.8999996185], \"legendgroup\": \"MDV\", \"locations\": [\"Maldives\"], \"marker\": {\"color\": \"#19d3f3\", \"size\": [26.8999996185], \"sizemode\": \"area\", \"sizeref\": 0.14475000381475, \"symbol\": \"circle\"}, \"mode\": \"markers\", \"name\": \"MDV\", \"showlegend\": true, \"type\": \"scattergeo\"}, {\"geo\": \"geo\", \"hovertemplate\": \"<b>%{hovertext}</b><br><br>Country Code=MEA<br>2014=%{marker.size}<br>Country Name=%{location}<extra></extra>\", \"hovertext\": [30.40355258], \"legendgroup\": \"MEA\", \"locations\": [\"Middle East & North Africa\"], \"marker\": {\"color\": \"#FF6692\", \"size\": [30.40355258], \"sizemode\": \"area\", \"sizeref\": 0.14475000381475, \"symbol\": \"circle\"}, \"mode\": \"markers\", \"name\": \"MEA\", \"showlegend\": true, \"type\": \"scattergeo\"}, {\"geo\": \"geo\", \"hovertemplate\": \"<b>%{hovertext}</b><br><br>Country Code=MEX<br>2014=%{marker.size}<br>Country Name=%{location}<extra></extra>\", \"hovertext\": [9.8999996185], \"legendgroup\": \"MEX\", \"locations\": [\"Mexico\"], \"marker\": {\"color\": \"#B6E880\", \"size\": [9.8999996185], \"sizemode\": \"area\", \"sizeref\": 0.14475000381475, \"symbol\": \"circle\"}, \"mode\": \"markers\", \"name\": \"MEX\", \"showlegend\": true, \"type\": \"scattergeo\"}, {\"geo\": \"geo\", \"hovertemplate\": \"<b>%{hovertext}</b><br><br>Country Code=MIC<br>2014=%{marker.size}<br>Country Name=%{location}<extra></extra>\", \"hovertext\": [13.890204546500001], \"legendgroup\": \"MIC\", \"locations\": [\"Middle income\"], \"marker\": {\"color\": \"#FF97FF\", \"size\": [13.890204546500001], \"sizemode\": \"area\", \"sizeref\": 0.14475000381475, \"symbol\": \"circle\"}, \"mode\": \"markers\", \"name\": \"MIC\", \"showlegend\": true, \"type\": \"scattergeo\"}, {\"geo\": \"geo\", \"hovertemplate\": \"<b>%{hovertext}</b><br><br>Country Code=MKD<br>2014=%{marker.size}<br>Country Name=%{location}<extra></extra>\", \"hovertext\": [50.7999992371], \"legendgroup\": \"MKD\", \"locations\": [\"Macedonia, FYR\"], \"marker\": {\"color\": \"#FECB52\", \"size\": [50.7999992371], \"sizemode\": \"area\", \"sizeref\": 0.14475000381475, \"symbol\": \"circle\"}, \"mode\": \"markers\", \"name\": \"MKD\", \"showlegend\": true, \"type\": \"scattergeo\"}, {\"geo\": \"geo\", \"hovertemplate\": \"<b>%{hovertext}</b><br><br>Country Code=MLI<br>2014=%{marker.size}<br>Country Name=%{location}<extra></extra>\", \"hovertext\": [10.5], \"legendgroup\": \"MLI\", \"locations\": [\"Mali\"], \"marker\": {\"color\": \"#636efa\", \"size\": [10.5], \"sizemode\": \"area\", \"sizeref\": 0.14475000381475, \"symbol\": \"circle\"}, \"mode\": \"markers\", \"name\": \"MLI\", \"showlegend\": true, \"type\": \"scattergeo\"}, {\"geo\": \"geo\", \"hovertemplate\": \"<b>%{hovertext}</b><br><br>Country Code=MLT<br>2014=%{marker.size}<br>Country Name=%{location}<extra></extra>\", \"hovertext\": [13.600000381500001], \"legendgroup\": \"MLT\", \"locations\": [\"Malta\"], \"marker\": {\"color\": \"#EF553B\", \"size\": [13.600000381500001], \"sizemode\": \"area\", \"sizeref\": 0.14475000381475, \"symbol\": \"circle\"}, \"mode\": \"markers\", \"name\": \"MLT\", \"showlegend\": true, \"type\": \"scattergeo\"}, {\"geo\": \"geo\", \"hovertemplate\": \"<b>%{hovertext}</b><br><br>Country Code=MMR<br>2014=%{marker.size}<br>Country Name=%{location}<extra></extra>\", \"hovertext\": [9.5], \"legendgroup\": \"MMR\", \"locations\": [\"Myanmar\"], \"marker\": {\"color\": \"#00cc96\", \"size\": [9.5], \"sizemode\": \"area\", \"sizeref\": 0.14475000381475, \"symbol\": \"circle\"}, \"mode\": \"markers\", \"name\": \"MMR\", \"showlegend\": true, \"type\": \"scattergeo\"}, {\"geo\": \"geo\", \"hovertemplate\": \"<b>%{hovertext}</b><br><br>Country Code=MNA<br>2014=%{marker.size}<br>Country Name=%{location}<extra></extra>\", \"hovertext\": [31.683832911], \"legendgroup\": \"MNA\", \"locations\": [\"Middle East & North Africa (excluding high income)\"], \"marker\": {\"color\": \"#ab63fa\", \"size\": [31.683832911], \"sizemode\": \"area\", \"sizeref\": 0.14475000381475, \"symbol\": \"circle\"}, \"mode\": \"markers\", \"name\": \"MNA\", \"showlegend\": true, \"type\": \"scattergeo\"}, {\"geo\": \"geo\", \"hovertemplate\": \"<b>%{hovertext}</b><br><br>Country Code=MNE<br>2014=%{marker.size}<br>Country Name=%{location}<extra></extra>\", \"hovertext\": [39.5], \"legendgroup\": \"MNE\", \"locations\": [\"Montenegro\"], \"marker\": {\"color\": \"#FFA15A\", \"size\": [39.5], \"sizemode\": \"area\", \"sizeref\": 0.14475000381475, \"symbol\": \"circle\"}, \"mode\": \"markers\", \"name\": \"MNE\", \"showlegend\": true, \"type\": \"scattergeo\"}, {\"geo\": \"geo\", \"hovertemplate\": \"<b>%{hovertext}</b><br><br>Country Code=MNG<br>2014=%{marker.size}<br>Country Name=%{location}<extra></extra>\", \"hovertext\": [9.3000001907], \"legendgroup\": \"MNG\", \"locations\": [\"Mongolia\"], \"marker\": {\"color\": \"#19d3f3\", \"size\": [9.3000001907], \"sizemode\": \"area\", \"sizeref\": 0.14475000381475, \"symbol\": \"circle\"}, \"mode\": \"markers\", \"name\": \"MNG\", \"showlegend\": true, \"type\": \"scattergeo\"}, {\"geo\": \"geo\", \"hovertemplate\": \"<b>%{hovertext}</b><br><br>Country Code=MOZ<br>2014=%{marker.size}<br>Country Name=%{location}<extra></extra>\", \"hovertext\": [40.7000007629], \"legendgroup\": \"MOZ\", \"locations\": [\"Mozambique\"], \"marker\": {\"color\": \"#FF6692\", \"size\": [40.7000007629], \"sizemode\": \"area\", \"sizeref\": 0.14475000381475, \"symbol\": \"circle\"}, \"mode\": \"markers\", \"name\": \"MOZ\", \"showlegend\": true, \"type\": \"scattergeo\"}, {\"geo\": \"geo\", \"hovertemplate\": \"<b>%{hovertext}</b><br><br>Country Code=MRT<br>2014=%{marker.size}<br>Country Name=%{location}<extra></extra>\", \"hovertext\": [46.5999984741], \"legendgroup\": \"MRT\", \"locations\": [\"Mauritania\"], \"marker\": {\"color\": \"#B6E880\", \"size\": [46.5999984741], \"sizemode\": \"area\", \"sizeref\": 0.14475000381475, \"symbol\": \"circle\"}, \"mode\": \"markers\", \"name\": \"MRT\", \"showlegend\": true, \"type\": \"scattergeo\"}, {\"geo\": \"geo\", \"hovertemplate\": \"<b>%{hovertext}</b><br><br>Country Code=MUS<br>2014=%{marker.size}<br>Country Name=%{location}<extra></extra>\", \"hovertext\": [21.2000007629], \"legendgroup\": \"MUS\", \"locations\": [\"Mauritius\"], \"marker\": {\"color\": \"#FF97FF\", \"size\": [21.2000007629], \"sizemode\": \"area\", \"sizeref\": 0.14475000381475, \"symbol\": \"circle\"}, \"mode\": \"markers\", \"name\": \"MUS\", \"showlegend\": true, \"type\": \"scattergeo\"}, {\"geo\": \"geo\", \"hovertemplate\": \"<b>%{hovertext}</b><br><br>Country Code=MWI<br>2014=%{marker.size}<br>Country Name=%{location}<extra></extra>\", \"hovertext\": [13.800000190699999], \"legendgroup\": \"MWI\", \"locations\": [\"Malawi\"], \"marker\": {\"color\": \"#FECB52\", \"size\": [13.800000190699999], \"sizemode\": \"area\", \"sizeref\": 0.14475000381475, \"symbol\": \"circle\"}, \"mode\": \"markers\", \"name\": \"MWI\", \"showlegend\": true, \"type\": \"scattergeo\"}, {\"geo\": \"geo\", \"hovertemplate\": \"<b>%{hovertext}</b><br><br>Country Code=MYS<br>2014=%{marker.size}<br>Country Name=%{location}<extra></extra>\", \"hovertext\": [6.6999998092999995], \"legendgroup\": \"MYS\", \"locations\": [\"Malaysia\"], \"marker\": {\"color\": \"#636efa\", \"size\": [6.6999998092999995], \"sizemode\": \"area\", \"sizeref\": 0.14475000381475, \"symbol\": \"circle\"}, \"mode\": \"markers\", \"name\": \"MYS\", \"showlegend\": true, \"type\": \"scattergeo\"}, {\"geo\": \"geo\", \"hovertemplate\": \"<b>%{hovertext}</b><br><br>Country Code=NAC<br>2014=%{marker.size}<br>Country Name=%{location}<extra></extra>\", \"hovertext\": [13.9430995948], \"legendgroup\": \"NAC\", \"locations\": [\"North America\"], \"marker\": {\"color\": \"#EF553B\", \"size\": [13.9430995948], \"sizemode\": \"area\", \"sizeref\": 0.14475000381475, \"symbol\": \"circle\"}, \"mode\": \"markers\", \"name\": \"NAC\", \"showlegend\": true, \"type\": \"scattergeo\"}, {\"geo\": \"geo\", \"hovertemplate\": \"<b>%{hovertext}</b><br><br>Country Code=NAM<br>2014=%{marker.size}<br>Country Name=%{location}<extra></extra>\", \"hovertext\": [38.7000007629], \"legendgroup\": \"NAM\", \"locations\": [\"Namibia\"], \"marker\": {\"color\": \"#00cc96\", \"size\": [38.7000007629], \"sizemode\": \"area\", \"sizeref\": 0.14475000381475, \"symbol\": \"circle\"}, \"mode\": \"markers\", \"name\": \"NAM\", \"showlegend\": true, \"type\": \"scattergeo\"}, {\"geo\": \"geo\", \"hovertemplate\": \"<b>%{hovertext}</b><br><br>Country Code=NER<br>2014=%{marker.size}<br>Country Name=%{location}<extra></extra>\", \"hovertext\": [7.099999904600001], \"legendgroup\": \"NER\", \"locations\": [\"Niger\"], \"marker\": {\"color\": \"#ab63fa\", \"size\": [7.099999904600001], \"sizemode\": \"area\", \"sizeref\": 0.14475000381475, \"symbol\": \"circle\"}, \"mode\": \"markers\", \"name\": \"NER\", \"showlegend\": true, \"type\": \"scattergeo\"}, {\"geo\": \"geo\", \"hovertemplate\": \"<b>%{hovertext}</b><br><br>Country Code=NGA<br>2014=%{marker.size}<br>Country Name=%{location}<extra></extra>\", \"hovertext\": [13.600000381500001], \"legendgroup\": \"NGA\", \"locations\": [\"Nigeria\"], \"marker\": {\"color\": \"#FFA15A\", \"size\": [13.600000381500001], \"sizemode\": \"area\", \"sizeref\": 0.14475000381475, \"symbol\": \"circle\"}, \"mode\": \"markers\", \"name\": \"NGA\", \"showlegend\": true, \"type\": \"scattergeo\"}, {\"geo\": \"geo\", \"hovertemplate\": \"<b>%{hovertext}</b><br><br>Country Code=NIC<br>2014=%{marker.size}<br>Country Name=%{location}<extra></extra>\", \"hovertext\": [7.599999904600001], \"legendgroup\": \"NIC\", \"locations\": [\"Nicaragua\"], \"marker\": {\"color\": \"#19d3f3\", \"size\": [7.599999904600001], \"sizemode\": \"area\", \"sizeref\": 0.14475000381475, \"symbol\": \"circle\"}, \"mode\": \"markers\", \"name\": \"NIC\", \"showlegend\": true, \"type\": \"scattergeo\"}, {\"geo\": \"geo\", \"hovertemplate\": \"<b>%{hovertext}</b><br><br>Country Code=NLD<br>2014=%{marker.size}<br>Country Name=%{location}<extra></extra>\", \"hovertext\": [11.100000381500001], \"legendgroup\": \"NLD\", \"locations\": [\"Netherlands\"], \"marker\": {\"color\": \"#FF6692\", \"size\": [11.100000381500001], \"sizemode\": \"area\", \"sizeref\": 0.14475000381475, \"symbol\": \"circle\"}, \"mode\": \"markers\", \"name\": \"NLD\", \"showlegend\": true, \"type\": \"scattergeo\"}, {\"geo\": \"geo\", \"hovertemplate\": \"<b>%{hovertext}</b><br><br>Country Code=NOR<br>2014=%{marker.size}<br>Country Name=%{location}<extra></extra>\", \"hovertext\": [8.3999996185], \"legendgroup\": \"NOR\", \"locations\": [\"Norway\"], \"marker\": {\"color\": \"#B6E880\", \"size\": [8.3999996185], \"sizemode\": \"area\", \"sizeref\": 0.14475000381475, \"symbol\": \"circle\"}, \"mode\": \"markers\", \"name\": \"NOR\", \"showlegend\": true, \"type\": \"scattergeo\"}, {\"geo\": \"geo\", \"hovertemplate\": \"<b>%{hovertext}</b><br><br>Country Code=NPL<br>2014=%{marker.size}<br>Country Name=%{location}<extra></extra>\", \"hovertext\": [4.0], \"legendgroup\": \"NPL\", \"locations\": [\"Nepal\"], \"marker\": {\"color\": \"#FF97FF\", \"size\": [4.0], \"sizemode\": \"area\", \"sizeref\": 0.14475000381475, \"symbol\": \"circle\"}, \"mode\": \"markers\", \"name\": \"NPL\", \"showlegend\": true, \"type\": \"scattergeo\"}, {\"geo\": \"geo\", \"hovertemplate\": \"<b>%{hovertext}</b><br><br>Country Code=NZL<br>2014=%{marker.size}<br>Country Name=%{location}<extra></extra>\", \"hovertext\": [14.600000381500001], \"legendgroup\": \"NZL\", \"locations\": [\"New Zealand\"], \"marker\": {\"color\": \"#FECB52\", \"size\": [14.600000381500001], \"sizemode\": \"area\", \"sizeref\": 0.14475000381475, \"symbol\": \"circle\"}, \"mode\": \"markers\", \"name\": \"NZL\", \"showlegend\": true, \"type\": \"scattergeo\"}, {\"geo\": \"geo\", \"hovertemplate\": \"<b>%{hovertext}</b><br><br>Country Code=OED<br>2014=%{marker.size}<br>Country Name=%{location}<extra></extra>\", \"hovertext\": [16.4083208222], \"legendgroup\": \"OED\", \"locations\": [\"OECD members\"], \"marker\": {\"color\": \"#636efa\", \"size\": [16.4083208222], \"sizemode\": \"area\", \"sizeref\": 0.14475000381475, \"symbol\": \"circle\"}, \"mode\": \"markers\", \"name\": \"OED\", \"showlegend\": true, \"type\": \"scattergeo\"}, {\"geo\": \"geo\", \"hovertemplate\": \"<b>%{hovertext}</b><br><br>Country Code=OMN<br>2014=%{marker.size}<br>Country Name=%{location}<extra></extra>\", \"hovertext\": [18.7999992371], \"legendgroup\": \"OMN\", \"locations\": [\"Oman\"], \"marker\": {\"color\": \"#EF553B\", \"size\": [18.7999992371], \"sizemode\": \"area\", \"sizeref\": 0.14475000381475, \"symbol\": \"circle\"}, \"mode\": \"markers\", \"name\": \"OMN\", \"showlegend\": true, \"type\": \"scattergeo\"}, {\"geo\": \"geo\", \"hovertemplate\": \"<b>%{hovertext}</b><br><br>Country Code=OSS<br>2014=%{marker.size}<br>Country Name=%{location}<extra></extra>\", \"hovertext\": [23.321337442199997], \"legendgroup\": \"OSS\", \"locations\": [\"Other small states\"], \"marker\": {\"color\": \"#00cc96\", \"size\": [23.321337442199997], \"sizemode\": \"area\", \"sizeref\": 0.14475000381475, \"symbol\": \"circle\"}, \"mode\": \"markers\", \"name\": \"OSS\", \"showlegend\": true, \"type\": \"scattergeo\"}, {\"geo\": \"geo\", \"hovertemplate\": \"<b>%{hovertext}</b><br><br>Country Code=PAK<br>2014=%{marker.size}<br>Country Name=%{location}<extra></extra>\", \"hovertext\": [8.6000003815], \"legendgroup\": \"PAK\", \"locations\": [\"Pakistan\"], \"marker\": {\"color\": \"#ab63fa\", \"size\": [8.6000003815], \"sizemode\": \"area\", \"sizeref\": 0.14475000381475, \"symbol\": \"circle\"}, \"mode\": \"markers\", \"name\": \"PAK\", \"showlegend\": true, \"type\": \"scattergeo\"}, {\"geo\": \"geo\", \"hovertemplate\": \"<b>%{hovertext}</b><br><br>Country Code=PAN<br>2014=%{marker.size}<br>Country Name=%{location}<extra></extra>\", \"hovertext\": [11.0], \"legendgroup\": \"PAN\", \"locations\": [\"Panama\"], \"marker\": {\"color\": \"#FFA15A\", \"size\": [11.0], \"sizemode\": \"area\", \"sizeref\": 0.14475000381475, \"symbol\": \"circle\"}, \"mode\": \"markers\", \"name\": \"PAN\", \"showlegend\": true, \"type\": \"scattergeo\"}, {\"geo\": \"geo\", \"hovertemplate\": \"<b>%{hovertext}</b><br><br>Country Code=PER<br>2014=%{marker.size}<br>Country Name=%{location}<extra></extra>\", \"hovertext\": [9.1999998093], \"legendgroup\": \"PER\", \"locations\": [\"Peru\"], \"marker\": {\"color\": \"#19d3f3\", \"size\": [9.1999998093], \"sizemode\": \"area\", \"sizeref\": 0.14475000381475, \"symbol\": \"circle\"}, \"mode\": \"markers\", \"name\": \"PER\", \"showlegend\": true, \"type\": \"scattergeo\"}, {\"geo\": \"geo\", \"hovertemplate\": \"<b>%{hovertext}</b><br><br>Country Code=PHL<br>2014=%{marker.size}<br>Country Name=%{location}<extra></extra>\", \"hovertext\": [16.3999996185], \"legendgroup\": \"PHL\", \"locations\": [\"Philippines\"], \"marker\": {\"color\": \"#FF6692\", \"size\": [16.3999996185], \"sizemode\": \"area\", \"sizeref\": 0.14475000381475, \"symbol\": \"circle\"}, \"mode\": \"markers\", \"name\": \"PHL\", \"showlegend\": true, \"type\": \"scattergeo\"}, {\"geo\": \"geo\", \"hovertemplate\": \"<b>%{hovertext}</b><br><br>Country Code=PNG<br>2014=%{marker.size}<br>Country Name=%{location}<extra></extra>\", \"hovertext\": [5.400000095399999], \"legendgroup\": \"PNG\", \"locations\": [\"Papua New Guinea\"], \"marker\": {\"color\": \"#B6E880\", \"size\": [5.400000095399999], \"sizemode\": \"area\", \"sizeref\": 0.14475000381475, \"symbol\": \"circle\"}, \"mode\": \"markers\", \"name\": \"PNG\", \"showlegend\": true, \"type\": \"scattergeo\"}, {\"geo\": \"geo\", \"hovertemplate\": \"<b>%{hovertext}</b><br><br>Country Code=POL<br>2014=%{marker.size}<br>Country Name=%{location}<extra></extra>\", \"hovertext\": [24.0], \"legendgroup\": \"POL\", \"locations\": [\"Poland\"], \"marker\": {\"color\": \"#FF97FF\", \"size\": [24.0], \"sizemode\": \"area\", \"sizeref\": 0.14475000381475, \"symbol\": \"circle\"}, \"mode\": \"markers\", \"name\": \"POL\", \"showlegend\": true, \"type\": \"scattergeo\"}, {\"geo\": \"geo\", \"hovertemplate\": \"<b>%{hovertext}</b><br><br>Country Code=PRE<br>2014=%{marker.size}<br>Country Name=%{location}<extra></extra>\", \"hovertext\": [13.979841325499999], \"legendgroup\": \"PRE\", \"locations\": [\"Pre-demographic dividend\"], \"marker\": {\"color\": \"#FECB52\", \"size\": [13.979841325499999], \"sizemode\": \"area\", \"sizeref\": 0.14475000381475, \"symbol\": \"circle\"}, \"mode\": \"markers\", \"name\": \"PRE\", \"showlegend\": true, \"type\": \"scattergeo\"}, {\"geo\": \"geo\", \"hovertemplate\": \"<b>%{hovertext}</b><br><br>Country Code=PRI<br>2014=%{marker.size}<br>Country Name=%{location}<extra></extra>\", \"hovertext\": [27.7999992371], \"legendgroup\": \"PRI\", \"locations\": [\"Puerto Rico\"], \"marker\": {\"color\": \"#636efa\", \"size\": [27.7999992371], \"sizemode\": \"area\", \"sizeref\": 0.14475000381475, \"symbol\": \"circle\"}, \"mode\": \"markers\", \"name\": \"PRI\", \"showlegend\": true, \"type\": \"scattergeo\"}, {\"geo\": \"geo\", \"hovertemplate\": \"<b>%{hovertext}</b><br><br>Country Code=PRK<br>2014=%{marker.size}<br>Country Name=%{location}<extra></extra>\", \"hovertext\": [10.6000003815], \"legendgroup\": \"PRK\", \"locations\": [\"Korea, Dem. People\\u2019s Rep.\"], \"marker\": {\"color\": \"#EF553B\", \"size\": [10.6000003815], \"sizemode\": \"area\", \"sizeref\": 0.14475000381475, \"symbol\": \"circle\"}, \"mode\": \"markers\", \"name\": \"PRK\", \"showlegend\": true, \"type\": \"scattergeo\"}, {\"geo\": \"geo\", \"hovertemplate\": \"<b>%{hovertext}</b><br><br>Country Code=PRT<br>2014=%{marker.size}<br>Country Name=%{location}<extra></extra>\", \"hovertext\": [36.7999992371], \"legendgroup\": \"PRT\", \"locations\": [\"Portugal\"], \"marker\": {\"color\": \"#00cc96\", \"size\": [36.7999992371], \"sizemode\": \"area\", \"sizeref\": 0.14475000381475, \"symbol\": \"circle\"}, \"mode\": \"markers\", \"name\": \"PRT\", \"showlegend\": true, \"type\": \"scattergeo\"}, {\"geo\": \"geo\", \"hovertemplate\": \"<b>%{hovertext}</b><br><br>Country Code=PRY<br>2014=%{marker.size}<br>Country Name=%{location}<extra></extra>\", \"hovertext\": [9.3000001907], \"legendgroup\": \"PRY\", \"locations\": [\"Paraguay\"], \"marker\": {\"color\": \"#ab63fa\", \"size\": [9.3000001907], \"sizemode\": \"area\", \"sizeref\": 0.14475000381475, \"symbol\": \"circle\"}, \"mode\": \"markers\", \"name\": \"PRY\", \"showlegend\": true, \"type\": \"scattergeo\"}, {\"geo\": \"geo\", \"hovertemplate\": \"<b>%{hovertext}</b><br><br>Country Code=PST<br>2014=%{marker.size}<br>Country Name=%{location}<extra></extra>\", \"hovertext\": [17.1987833422], \"legendgroup\": \"PST\", \"locations\": [\"Post-demographic dividend\"], \"marker\": {\"color\": \"#FFA15A\", \"size\": [17.1987833422], \"sizemode\": \"area\", \"sizeref\": 0.14475000381475, \"symbol\": \"circle\"}, \"mode\": \"markers\", \"name\": \"PST\", \"showlegend\": true, \"type\": \"scattergeo\"}, {\"geo\": \"geo\", \"hovertemplate\": \"<b>%{hovertext}</b><br><br>Country Code=QAT<br>2014=%{marker.size}<br>Country Name=%{location}<extra></extra>\", \"hovertext\": [1.2999999523], \"legendgroup\": \"QAT\", \"locations\": [\"Qatar\"], \"marker\": {\"color\": \"#19d3f3\", \"size\": [1.2999999523], \"sizemode\": \"area\", \"sizeref\": 0.14475000381475, \"symbol\": \"circle\"}, \"mode\": \"markers\", \"name\": \"QAT\", \"showlegend\": true, \"type\": \"scattergeo\"}, {\"geo\": \"geo\", \"hovertemplate\": \"<b>%{hovertext}</b><br><br>Country Code=ROU<br>2014=%{marker.size}<br>Country Name=%{location}<extra></extra>\", \"hovertext\": [25.1000003815], \"legendgroup\": \"ROU\", \"locations\": [\"Romania\"], \"marker\": {\"color\": \"#FF6692\", \"size\": [25.1000003815], \"sizemode\": \"area\", \"sizeref\": 0.14475000381475, \"symbol\": \"circle\"}, \"mode\": \"markers\", \"name\": \"ROU\", \"showlegend\": true, \"type\": \"scattergeo\"}, {\"geo\": \"geo\", \"hovertemplate\": \"<b>%{hovertext}</b><br><br>Country Code=RUS<br>2014=%{marker.size}<br>Country Name=%{location}<extra></extra>\", \"hovertext\": [12.899999618499999], \"legendgroup\": \"RUS\", \"locations\": [\"Russian Federation\"], \"marker\": {\"color\": \"#B6E880\", \"size\": [12.899999618499999], \"sizemode\": \"area\", \"sizeref\": 0.14475000381475, \"symbol\": \"circle\"}, \"mode\": \"markers\", \"name\": \"RUS\", \"showlegend\": true, \"type\": \"scattergeo\"}, {\"geo\": \"geo\", \"hovertemplate\": \"<b>%{hovertext}</b><br><br>Country Code=RWA<br>2014=%{marker.size}<br>Country Name=%{location}<extra></extra>\", \"hovertext\": [0.6999999881], \"legendgroup\": \"RWA\", \"locations\": [\"Rwanda\"], \"marker\": {\"color\": \"#FF97FF\", \"size\": [0.6999999881], \"sizemode\": \"area\", \"sizeref\": 0.14475000381475, \"symbol\": \"circle\"}, \"mode\": \"markers\", \"name\": \"RWA\", \"showlegend\": true, \"type\": \"scattergeo\"}, {\"geo\": \"geo\", \"hovertemplate\": \"<b>%{hovertext}</b><br><br>Country Code=SAS<br>2014=%{marker.size}<br>Country Name=%{location}<extra></extra>\", \"hovertext\": [10.2511491142], \"legendgroup\": \"SAS\", \"locations\": [\"South Asia\"], \"marker\": {\"color\": \"#FECB52\", \"size\": [10.2511491142], \"sizemode\": \"area\", \"sizeref\": 0.14475000381475, \"symbol\": \"circle\"}, \"mode\": \"markers\", \"name\": \"SAS\", \"showlegend\": true, \"type\": \"scattergeo\"}, {\"geo\": \"geo\", \"hovertemplate\": \"<b>%{hovertext}</b><br><br>Country Code=SAU<br>2014=%{marker.size}<br>Country Name=%{location}<extra></extra>\", \"hovertext\": [29.5], \"legendgroup\": \"SAU\", \"locations\": [\"Saudi Arabia\"], \"marker\": {\"color\": \"#636efa\", \"size\": [29.5], \"sizemode\": \"area\", \"sizeref\": 0.14475000381475, \"symbol\": \"circle\"}, \"mode\": \"markers\", \"name\": \"SAU\", \"showlegend\": true, \"type\": \"scattergeo\"}, {\"geo\": \"geo\", \"hovertemplate\": \"<b>%{hovertext}</b><br><br>Country Code=SDN<br>2014=%{marker.size}<br>Country Name=%{location}<extra></extra>\", \"hovertext\": [23.2999992371], \"legendgroup\": \"SDN\", \"locations\": [\"Sudan\"], \"marker\": {\"color\": \"#EF553B\", \"size\": [23.2999992371], \"sizemode\": \"area\", \"sizeref\": 0.14475000381475, \"symbol\": \"circle\"}, \"mode\": \"markers\", \"name\": \"SDN\", \"showlegend\": true, \"type\": \"scattergeo\"}, {\"geo\": \"geo\", \"hovertemplate\": \"<b>%{hovertext}</b><br><br>Country Code=SEN<br>2014=%{marker.size}<br>Country Name=%{location}<extra></extra>\", \"hovertext\": [13.0], \"legendgroup\": \"SEN\", \"locations\": [\"Senegal\"], \"marker\": {\"color\": \"#00cc96\", \"size\": [13.0], \"sizemode\": \"area\", \"sizeref\": 0.14475000381475, \"symbol\": \"circle\"}, \"mode\": \"markers\", \"name\": \"SEN\", \"showlegend\": true, \"type\": \"scattergeo\"}, {\"geo\": \"geo\", \"hovertemplate\": \"<b>%{hovertext}</b><br><br>Country Code=SGP<br>2014=%{marker.size}<br>Country Name=%{location}<extra></extra>\", \"hovertext\": [9.6000003815], \"legendgroup\": \"SGP\", \"locations\": [\"Singapore\"], \"marker\": {\"color\": \"#ab63fa\", \"size\": [9.6000003815], \"sizemode\": \"area\", \"sizeref\": 0.14475000381475, \"symbol\": \"circle\"}, \"mode\": \"markers\", \"name\": \"SGP\", \"showlegend\": true, \"type\": \"scattergeo\"}, {\"geo\": \"geo\", \"hovertemplate\": \"<b>%{hovertext}</b><br><br>Country Code=SLB<br>2014=%{marker.size}<br>Country Name=%{location}<extra></extra>\", \"hovertext\": [9.5], \"legendgroup\": \"SLB\", \"locations\": [\"Solomon Islands\"], \"marker\": {\"color\": \"#FFA15A\", \"size\": [9.5], \"sizemode\": \"area\", \"sizeref\": 0.14475000381475, \"symbol\": \"circle\"}, \"mode\": \"markers\", \"name\": \"SLB\", \"showlegend\": true, \"type\": \"scattergeo\"}, {\"geo\": \"geo\", \"hovertemplate\": \"<b>%{hovertext}</b><br><br>Country Code=SLE<br>2014=%{marker.size}<br>Country Name=%{location}<extra></extra>\", \"hovertext\": [4.9000000954], \"legendgroup\": \"SLE\", \"locations\": [\"Sierra Leone\"], \"marker\": {\"color\": \"#19d3f3\", \"size\": [4.9000000954], \"sizemode\": \"area\", \"sizeref\": 0.14475000381475, \"symbol\": \"circle\"}, \"mode\": \"markers\", \"name\": \"SLE\", \"showlegend\": true, \"type\": \"scattergeo\"}, {\"geo\": \"geo\", \"hovertemplate\": \"<b>%{hovertext}</b><br><br>Country Code=SLV<br>2014=%{marker.size}<br>Country Name=%{location}<extra></extra>\", \"hovertext\": [11.699999809300001], \"legendgroup\": \"SLV\", \"locations\": [\"El Salvador\"], \"marker\": {\"color\": \"#FF6692\", \"size\": [11.699999809300001], \"sizemode\": \"area\", \"sizeref\": 0.14475000381475, \"symbol\": \"circle\"}, \"mode\": \"markers\", \"name\": \"SLV\", \"showlegend\": true, \"type\": \"scattergeo\"}, {\"geo\": \"geo\", \"hovertemplate\": \"<b>%{hovertext}</b><br><br>Country Code=SOM<br>2014=%{marker.size}<br>Country Name=%{location}<extra></extra>\", \"hovertext\": [10.6000003815], \"legendgroup\": \"SOM\", \"locations\": [\"Somalia\"], \"marker\": {\"color\": \"#B6E880\", \"size\": [10.6000003815], \"sizemode\": \"area\", \"sizeref\": 0.14475000381475, \"symbol\": \"circle\"}, \"mode\": \"markers\", \"name\": \"SOM\", \"showlegend\": true, \"type\": \"scattergeo\"}, {\"geo\": \"geo\", \"hovertemplate\": \"<b>%{hovertext}</b><br><br>Country Code=SRB<br>2014=%{marker.size}<br>Country Name=%{location}<extra></extra>\", \"hovertext\": [49.5], \"legendgroup\": \"SRB\", \"locations\": [\"Serbia\"], \"marker\": {\"color\": \"#FF97FF\", \"size\": [49.5], \"sizemode\": \"area\", \"sizeref\": 0.14475000381475, \"symbol\": \"circle\"}, \"mode\": \"markers\", \"name\": \"SRB\", \"showlegend\": true, \"type\": \"scattergeo\"}, {\"geo\": \"geo\", \"hovertemplate\": \"<b>%{hovertext}</b><br><br>Country Code=SSA<br>2014=%{marker.size}<br>Country Name=%{location}<extra></extra>\", \"hovertext\": [14.1242997443], \"legendgroup\": \"SSA\", \"locations\": [\"Sub-Saharan Africa (excluding high income)\"], \"marker\": {\"color\": \"#FECB52\", \"size\": [14.1242997443], \"sizemode\": \"area\", \"sizeref\": 0.14475000381475, \"symbol\": \"circle\"}, \"mode\": \"markers\", \"name\": \"SSA\", \"showlegend\": true, \"type\": \"scattergeo\"}, {\"geo\": \"geo\", \"hovertemplate\": \"<b>%{hovertext}</b><br><br>Country Code=SSF<br>2014=%{marker.size}<br>Country Name=%{location}<extra></extra>\", \"hovertext\": [14.1242997443], \"legendgroup\": \"SSF\", \"locations\": [\"Sub-Saharan Africa\"], \"marker\": {\"color\": \"#636efa\", \"size\": [14.1242997443], \"sizemode\": \"area\", \"sizeref\": 0.14475000381475, \"symbol\": \"circle\"}, \"mode\": \"markers\", \"name\": \"SSF\", \"showlegend\": true, \"type\": \"scattergeo\"}, {\"geo\": \"geo\", \"hovertemplate\": \"<b>%{hovertext}</b><br><br>Country Code=SST<br>2014=%{marker.size}<br>Country Name=%{location}<extra></extra>\", \"hovertext\": [23.1944172222], \"legendgroup\": \"SST\", \"locations\": [\"Small states\"], \"marker\": {\"color\": \"#EF553B\", \"size\": [23.1944172222], \"sizemode\": \"area\", \"sizeref\": 0.14475000381475, \"symbol\": \"circle\"}, \"mode\": \"markers\", \"name\": \"SST\", \"showlegend\": true, \"type\": \"scattergeo\"}, {\"geo\": \"geo\", \"hovertemplate\": \"<b>%{hovertext}</b><br><br>Country Code=SUR<br>2014=%{marker.size}<br>Country Name=%{location}<extra></extra>\", \"hovertext\": [17.8999996185], \"legendgroup\": \"SUR\", \"locations\": [\"Suriname\"], \"marker\": {\"color\": \"#00cc96\", \"size\": [17.8999996185], \"sizemode\": \"area\", \"sizeref\": 0.14475000381475, \"symbol\": \"circle\"}, \"mode\": \"markers\", \"name\": \"SUR\", \"showlegend\": true, \"type\": \"scattergeo\"}, {\"geo\": \"geo\", \"hovertemplate\": \"<b>%{hovertext}</b><br><br>Country Code=SVK<br>2014=%{marker.size}<br>Country Name=%{location}<extra></extra>\", \"hovertext\": [31.1000003815], \"legendgroup\": \"SVK\", \"locations\": [\"Slovak Republic\"], \"marker\": {\"color\": \"#ab63fa\", \"size\": [31.1000003815], \"sizemode\": \"area\", \"sizeref\": 0.14475000381475, \"symbol\": \"circle\"}, \"mode\": \"markers\", \"name\": \"SVK\", \"showlegend\": true, \"type\": \"scattergeo\"}, {\"geo\": \"geo\", \"hovertemplate\": \"<b>%{hovertext}</b><br><br>Country Code=SVN<br>2014=%{marker.size}<br>Country Name=%{location}<extra></extra>\", \"hovertext\": [20.7999992371], \"legendgroup\": \"SVN\", \"locations\": [\"Slovenia\"], \"marker\": {\"color\": \"#FFA15A\", \"size\": [20.7999992371], \"sizemode\": \"area\", \"sizeref\": 0.14475000381475, \"symbol\": \"circle\"}, \"mode\": \"markers\", \"name\": \"SVN\", \"showlegend\": true, \"type\": \"scattergeo\"}, {\"geo\": \"geo\", \"hovertemplate\": \"<b>%{hovertext}</b><br><br>Country Code=SWE<br>2014=%{marker.size}<br>Country Name=%{location}<extra></extra>\", \"hovertext\": [22.7999992371], \"legendgroup\": \"SWE\", \"locations\": [\"Sweden\"], \"marker\": {\"color\": \"#19d3f3\", \"size\": [22.7999992371], \"sizemode\": \"area\", \"sizeref\": 0.14475000381475, \"symbol\": \"circle\"}, \"mode\": \"markers\", \"name\": \"SWE\", \"showlegend\": true, \"type\": \"scattergeo\"}, {\"geo\": \"geo\", \"hovertemplate\": \"<b>%{hovertext}</b><br><br>Country Code=SWZ<br>2014=%{marker.size}<br>Country Name=%{location}<extra></extra>\", \"hovertext\": [42.5999984741], \"legendgroup\": \"SWZ\", \"locations\": [\"Swaziland\"], \"marker\": {\"color\": \"#FF6692\", \"size\": [42.5999984741], \"sizemode\": \"area\", \"sizeref\": 0.14475000381475, \"symbol\": \"circle\"}, \"mode\": \"markers\", \"name\": \"SWZ\", \"showlegend\": true, \"type\": \"scattergeo\"}, {\"geo\": \"geo\", \"hovertemplate\": \"<b>%{hovertext}</b><br><br>Country Code=SYR<br>2014=%{marker.size}<br>Country Name=%{location}<extra></extra>\", \"hovertext\": [30.1000003815], \"legendgroup\": \"SYR\", \"locations\": [\"Syrian Arab Republic\"], \"marker\": {\"color\": \"#B6E880\", \"size\": [30.1000003815], \"sizemode\": \"area\", \"sizeref\": 0.14475000381475, \"symbol\": \"circle\"}, \"mode\": \"markers\", \"name\": \"SYR\", \"showlegend\": true, \"type\": \"scattergeo\"}, {\"geo\": \"geo\", \"hovertemplate\": \"<b>%{hovertext}</b><br><br>Country Code=TCD<br>2014=%{marker.size}<br>Country Name=%{location}<extra></extra>\", \"hovertext\": [10.5], \"legendgroup\": \"TCD\", \"locations\": [\"Chad\"], \"marker\": {\"color\": \"#FF97FF\", \"size\": [10.5], \"sizemode\": \"area\", \"sizeref\": 0.14475000381475, \"symbol\": \"circle\"}, \"mode\": \"markers\", \"name\": \"TCD\", \"showlegend\": true, \"type\": \"scattergeo\"}, {\"geo\": \"geo\", \"hovertemplate\": \"<b>%{hovertext}</b><br><br>Country Code=TEA<br>2014=%{marker.size}<br>Country Name=%{location}<extra></extra>\", \"hovertext\": [11.806054095899999], \"legendgroup\": \"TEA\", \"locations\": [\"East Asia & Pacific (IDA & IBRD countries)\"], \"marker\": {\"color\": \"#FECB52\", \"size\": [11.806054095899999], \"sizemode\": \"area\", \"sizeref\": 0.14475000381475, \"symbol\": \"circle\"}, \"mode\": \"markers\", \"name\": \"TEA\", \"showlegend\": true, \"type\": \"scattergeo\"}, {\"geo\": \"geo\", \"hovertemplate\": \"<b>%{hovertext}</b><br><br>Country Code=TEC<br>2014=%{marker.size}<br>Country Name=%{location}<extra></extra>\", \"hovertext\": [17.9734925612], \"legendgroup\": \"TEC\", \"locations\": [\"Europe & Central Asia (IDA & IBRD countries)\"], \"marker\": {\"color\": \"#636efa\", \"size\": [17.9734925612], \"sizemode\": \"area\", \"sizeref\": 0.14475000381475, \"symbol\": \"circle\"}, \"mode\": \"markers\", \"name\": \"TEC\", \"showlegend\": true, \"type\": \"scattergeo\"}, {\"geo\": \"geo\", \"hovertemplate\": \"<b>%{hovertext}</b><br><br>Country Code=TGO<br>2014=%{marker.size}<br>Country Name=%{location}<extra></extra>\", \"hovertext\": [10.6999998093], \"legendgroup\": \"TGO\", \"locations\": [\"Togo\"], \"marker\": {\"color\": \"#EF553B\", \"size\": [10.6999998093], \"sizemode\": \"area\", \"sizeref\": 0.14475000381475, \"symbol\": \"circle\"}, \"mode\": \"markers\", \"name\": \"TGO\", \"showlegend\": true, \"type\": \"scattergeo\"}, {\"geo\": \"geo\", \"hovertemplate\": \"<b>%{hovertext}</b><br><br>Country Code=THA<br>2014=%{marker.size}<br>Country Name=%{location}<extra></extra>\", \"hovertext\": [3.9000000954000003], \"legendgroup\": \"THA\", \"locations\": [\"Thailand\"], \"marker\": {\"color\": \"#00cc96\", \"size\": [3.9000000954000003], \"sizemode\": \"area\", \"sizeref\": 0.14475000381475, \"symbol\": \"circle\"}, \"mode\": \"markers\", \"name\": \"THA\", \"showlegend\": true, \"type\": \"scattergeo\"}, {\"geo\": \"geo\", \"hovertemplate\": \"<b>%{hovertext}</b><br><br>Country Code=TJK<br>2014=%{marker.size}<br>Country Name=%{location}<extra></extra>\", \"hovertext\": [15.5], \"legendgroup\": \"TJK\", \"locations\": [\"Tajikistan\"], \"marker\": {\"color\": \"#ab63fa\", \"size\": [15.5], \"sizemode\": \"area\", \"sizeref\": 0.14475000381475, \"symbol\": \"circle\"}, \"mode\": \"markers\", \"name\": \"TJK\", \"showlegend\": true, \"type\": \"scattergeo\"}, {\"geo\": \"geo\", \"hovertemplate\": \"<b>%{hovertext}</b><br><br>Country Code=TKM<br>2014=%{marker.size}<br>Country Name=%{location}<extra></extra>\", \"hovertext\": [20.2000007629], \"legendgroup\": \"TKM\", \"locations\": [\"Turkmenistan\"], \"marker\": {\"color\": \"#FFA15A\", \"size\": [20.2000007629], \"sizemode\": \"area\", \"sizeref\": 0.14475000381475, \"symbol\": \"circle\"}, \"mode\": \"markers\", \"name\": \"TKM\", \"showlegend\": true, \"type\": \"scattergeo\"}, {\"geo\": \"geo\", \"hovertemplate\": \"<b>%{hovertext}</b><br><br>Country Code=TLA<br>2014=%{marker.size}<br>Country Name=%{location}<extra></extra>\", \"hovertext\": [14.0410692882], \"legendgroup\": \"TLA\", \"locations\": [\"Latin America & the Caribbean (IDA & IBRD countries)\"], \"marker\": {\"color\": \"#19d3f3\", \"size\": [14.0410692882], \"sizemode\": \"area\", \"sizeref\": 0.14475000381475, \"symbol\": \"circle\"}, \"mode\": \"markers\", \"name\": \"TLA\", \"showlegend\": true, \"type\": \"scattergeo\"}, {\"geo\": \"geo\", \"hovertemplate\": \"<b>%{hovertext}</b><br><br>Country Code=TMN<br>2014=%{marker.size}<br>Country Name=%{location}<extra></extra>\", \"hovertext\": [31.5217876817], \"legendgroup\": \"TMN\", \"locations\": [\"Middle East & North Africa (IDA & IBRD countries)\"], \"marker\": {\"color\": \"#FF6692\", \"size\": [31.5217876817], \"sizemode\": \"area\", \"sizeref\": 0.14475000381475, \"symbol\": \"circle\"}, \"mode\": \"markers\", \"name\": \"TMN\", \"showlegend\": true, \"type\": \"scattergeo\"}, {\"geo\": \"geo\", \"hovertemplate\": \"<b>%{hovertext}</b><br><br>Country Code=TLS<br>2014=%{marker.size}<br>Country Name=%{location}<extra></extra>\", \"hovertext\": [14.0], \"legendgroup\": \"TLS\", \"locations\": [\"Timor-Leste\"], \"marker\": {\"color\": \"#B6E880\", \"size\": [14.0], \"sizemode\": \"area\", \"sizeref\": 0.14475000381475, \"symbol\": \"circle\"}, \"mode\": \"markers\", \"name\": \"TLS\", \"showlegend\": true, \"type\": \"scattergeo\"}, {\"geo\": \"geo\", \"hovertemplate\": \"<b>%{hovertext}</b><br><br>Country Code=TSA<br>2014=%{marker.size}<br>Country Name=%{location}<extra></extra>\", \"hovertext\": [10.2511491142], \"legendgroup\": \"TSA\", \"locations\": [\"South Asia (IDA & IBRD)\"], \"marker\": {\"color\": \"#FF97FF\", \"size\": [10.2511491142], \"sizemode\": \"area\", \"sizeref\": 0.14475000381475, \"symbol\": \"circle\"}, \"mode\": \"markers\", \"name\": \"TSA\", \"showlegend\": true, \"type\": \"scattergeo\"}, {\"geo\": \"geo\", \"hovertemplate\": \"<b>%{hovertext}</b><br><br>Country Code=TSS<br>2014=%{marker.size}<br>Country Name=%{location}<extra></extra>\", \"hovertext\": [14.1242997443], \"legendgroup\": \"TSS\", \"locations\": [\"Sub-Saharan Africa (IDA & IBRD countries)\"], \"marker\": {\"color\": \"#FECB52\", \"size\": [14.1242997443], \"sizemode\": \"area\", \"sizeref\": 0.14475000381475, \"symbol\": \"circle\"}, \"mode\": \"markers\", \"name\": \"TSS\", \"showlegend\": true, \"type\": \"scattergeo\"}, {\"geo\": \"geo\", \"hovertemplate\": \"<b>%{hovertext}</b><br><br>Country Code=TTO<br>2014=%{marker.size}<br>Country Name=%{location}<extra></extra>\", \"hovertext\": [10.6000003815], \"legendgroup\": \"TTO\", \"locations\": [\"Trinidad and Tobago\"], \"marker\": {\"color\": \"#636efa\", \"size\": [10.6000003815], \"sizemode\": \"area\", \"sizeref\": 0.14475000381475, \"symbol\": \"circle\"}, \"mode\": \"markers\", \"name\": \"TTO\", \"showlegend\": true, \"type\": \"scattergeo\"}, {\"geo\": \"geo\", \"hovertemplate\": \"<b>%{hovertext}</b><br><br>Country Code=TUN<br>2014=%{marker.size}<br>Country Name=%{location}<extra></extra>\", \"hovertext\": [31.7999992371], \"legendgroup\": \"TUN\", \"locations\": [\"Tunisia\"], \"marker\": {\"color\": \"#EF553B\", \"size\": [31.7999992371], \"sizemode\": \"area\", \"sizeref\": 0.14475000381475, \"symbol\": \"circle\"}, \"mode\": \"markers\", \"name\": \"TUN\", \"showlegend\": true, \"type\": \"scattergeo\"}, {\"geo\": \"geo\", \"hovertemplate\": \"<b>%{hovertext}</b><br><br>Country Code=TUR<br>2014=%{marker.size}<br>Country Name=%{location}<extra></extra>\", \"hovertext\": [17.7000007629], \"legendgroup\": \"TUR\", \"locations\": [\"Turkey\"], \"marker\": {\"color\": \"#00cc96\", \"size\": [17.7000007629], \"sizemode\": \"area\", \"sizeref\": 0.14475000381475, \"symbol\": \"circle\"}, \"mode\": \"markers\", \"name\": \"TUR\", \"showlegend\": true, \"type\": \"scattergeo\"}, {\"geo\": \"geo\", \"hovertemplate\": \"<b>%{hovertext}</b><br><br>Country Code=TZA<br>2014=%{marker.size}<br>Country Name=%{location}<extra></extra>\", \"hovertext\": [5.5], \"legendgroup\": \"TZA\", \"locations\": [\"Tanzania\"], \"marker\": {\"color\": \"#ab63fa\", \"size\": [5.5], \"sizemode\": \"area\", \"sizeref\": 0.14475000381475, \"symbol\": \"circle\"}, \"mode\": \"markers\", \"name\": \"TZA\", \"showlegend\": true, \"type\": \"scattergeo\"}, {\"geo\": \"geo\", \"hovertemplate\": \"<b>%{hovertext}</b><br><br>Country Code=UGA<br>2014=%{marker.size}<br>Country Name=%{location}<extra></extra>\", \"hovertext\": [6.8000001907000005], \"legendgroup\": \"UGA\", \"locations\": [\"Uganda\"], \"marker\": {\"color\": \"#FFA15A\", \"size\": [6.8000001907000005], \"sizemode\": \"area\", \"sizeref\": 0.14475000381475, \"symbol\": \"circle\"}, \"mode\": \"markers\", \"name\": \"UGA\", \"showlegend\": true, \"type\": \"scattergeo\"}, {\"geo\": \"geo\", \"hovertemplate\": \"<b>%{hovertext}</b><br><br>Country Code=UKR<br>2014=%{marker.size}<br>Country Name=%{location}<extra></extra>\", \"hovertext\": [16.8999996185], \"legendgroup\": \"UKR\", \"locations\": [\"Ukraine\"], \"marker\": {\"color\": \"#19d3f3\", \"size\": [16.8999996185], \"sizemode\": \"area\", \"sizeref\": 0.14475000381475, \"symbol\": \"circle\"}, \"mode\": \"markers\", \"name\": \"UKR\", \"showlegend\": true, \"type\": \"scattergeo\"}, {\"geo\": \"geo\", \"hovertemplate\": \"<b>%{hovertext}</b><br><br>Country Code=UMC<br>2014=%{marker.size}<br>Country Name=%{location}<extra></extra>\", \"hovertext\": [14.581009233800001], \"legendgroup\": \"UMC\", \"locations\": [\"Upper middle income\"], \"marker\": {\"color\": \"#FF6692\", \"size\": [14.581009233800001], \"sizemode\": \"area\", \"sizeref\": 0.14475000381475, \"symbol\": \"circle\"}, \"mode\": \"markers\", \"name\": \"UMC\", \"showlegend\": true, \"type\": \"scattergeo\"}, {\"geo\": \"geo\", \"hovertemplate\": \"<b>%{hovertext}</b><br><br>Country Code=URY<br>2014=%{marker.size}<br>Country Name=%{location}<extra></extra>\", \"hovertext\": [19.1000003815], \"legendgroup\": \"URY\", \"locations\": [\"Uruguay\"], \"marker\": {\"color\": \"#B6E880\", \"size\": [19.1000003815], \"sizemode\": \"area\", \"sizeref\": 0.14475000381475, \"symbol\": \"circle\"}, \"mode\": \"markers\", \"name\": \"URY\", \"showlegend\": true, \"type\": \"scattergeo\"}, {\"geo\": \"geo\", \"hovertemplate\": \"<b>%{hovertext}</b><br><br>Country Code=USA<br>2014=%{marker.size}<br>Country Name=%{location}<extra></extra>\", \"hovertext\": [14.0], \"legendgroup\": \"USA\", \"locations\": [\"United States\"], \"marker\": {\"color\": \"#FF97FF\", \"size\": [14.0], \"sizemode\": \"area\", \"sizeref\": 0.14475000381475, \"symbol\": \"circle\"}, \"mode\": \"markers\", \"name\": \"USA\", \"showlegend\": true, \"type\": \"scattergeo\"}, {\"geo\": \"geo\", \"hovertemplate\": \"<b>%{hovertext}</b><br><br>Country Code=UZB<br>2014=%{marker.size}<br>Country Name=%{location}<extra></extra>\", \"hovertext\": [20.2999992371], \"legendgroup\": \"UZB\", \"locations\": [\"Uzbekistan\"], \"marker\": {\"color\": \"#FECB52\", \"size\": [20.2999992371], \"sizemode\": \"area\", \"sizeref\": 0.14475000381475, \"symbol\": \"circle\"}, \"mode\": \"markers\", \"name\": \"UZB\", \"showlegend\": true, \"type\": \"scattergeo\"}, {\"geo\": \"geo\", \"hovertemplate\": \"<b>%{hovertext}</b><br><br>Country Code=VEN<br>2014=%{marker.size}<br>Country Name=%{location}<extra></extra>\", \"hovertext\": [17.1000003815], \"legendgroup\": \"VEN\", \"locations\": [\"Venezuela, RB\"], \"marker\": {\"color\": \"#636efa\", \"size\": [17.1000003815], \"sizemode\": \"area\", \"sizeref\": 0.14475000381475, \"symbol\": \"circle\"}, \"mode\": \"markers\", \"name\": \"VEN\", \"showlegend\": true, \"type\": \"scattergeo\"}, {\"geo\": \"geo\", \"hovertemplate\": \"<b>%{hovertext}</b><br><br>Country Code=VNM<br>2014=%{marker.size}<br>Country Name=%{location}<extra></extra>\", \"hovertext\": [6.3000001907000005], \"legendgroup\": \"VNM\", \"locations\": [\"Vietnam\"], \"marker\": {\"color\": \"#EF553B\", \"size\": [6.3000001907000005], \"sizemode\": \"area\", \"sizeref\": 0.14475000381475, \"symbol\": \"circle\"}, \"mode\": \"markers\", \"name\": \"VNM\", \"showlegend\": true, \"type\": \"scattergeo\"}, {\"geo\": \"geo\", \"hovertemplate\": \"<b>%{hovertext}</b><br><br>Country Code=PSE<br>2014=%{marker.size}<br>Country Name=%{location}<extra></extra>\", \"hovertext\": [42.7000007629], \"legendgroup\": \"PSE\", \"locations\": [\"West Bank and Gaza\"], \"marker\": {\"color\": \"#00cc96\", \"size\": [42.7000007629], \"sizemode\": \"area\", \"sizeref\": 0.14475000381475, \"symbol\": \"circle\"}, \"mode\": \"markers\", \"name\": \"PSE\", \"showlegend\": true, \"type\": \"scattergeo\"}, {\"geo\": \"geo\", \"hovertemplate\": \"<b>%{hovertext}</b><br><br>Country Code=WLD<br>2014=%{marker.size}<br>Country Name=%{location}<extra></extra>\", \"hovertext\": [13.9871842021], \"legendgroup\": \"WLD\", \"locations\": [\"World\"], \"marker\": {\"color\": \"#ab63fa\", \"size\": [13.9871842021], \"sizemode\": \"area\", \"sizeref\": 0.14475000381475, \"symbol\": \"circle\"}, \"mode\": \"markers\", \"name\": \"WLD\", \"showlegend\": true, \"type\": \"scattergeo\"}, {\"geo\": \"geo\", \"hovertemplate\": \"<b>%{hovertext}</b><br><br>Country Code=YEM<br>2014=%{marker.size}<br>Country Name=%{location}<extra></extra>\", \"hovertext\": [29.8999996185], \"legendgroup\": \"YEM\", \"locations\": [\"Yemen, Rep.\"], \"marker\": {\"color\": \"#FFA15A\", \"size\": [29.8999996185], \"sizemode\": \"area\", \"sizeref\": 0.14475000381475, \"symbol\": \"circle\"}, \"mode\": \"markers\", \"name\": \"YEM\", \"showlegend\": true, \"type\": \"scattergeo\"}, {\"geo\": \"geo\", \"hovertemplate\": \"<b>%{hovertext}</b><br><br>Country Code=ZAF<br>2014=%{marker.size}<br>Country Name=%{location}<extra></extra>\", \"hovertext\": [52.5999984741], \"legendgroup\": \"ZAF\", \"locations\": [\"South Africa\"], \"marker\": {\"color\": \"#19d3f3\", \"size\": [52.5999984741], \"sizemode\": \"area\", \"sizeref\": 0.14475000381475, \"symbol\": \"circle\"}, \"mode\": \"markers\", \"name\": \"ZAF\", \"showlegend\": true, \"type\": \"scattergeo\"}, {\"geo\": \"geo\", \"hovertemplate\": \"<b>%{hovertext}</b><br><br>Country Code=COD<br>2014=%{marker.size}<br>Country Name=%{location}<extra></extra>\", \"hovertext\": [11.899999618499999], \"legendgroup\": \"COD\", \"locations\": [\"Congo, Dem. Rep.\"], \"marker\": {\"color\": \"#FF6692\", \"size\": [11.899999618499999], \"sizemode\": \"area\", \"sizeref\": 0.14475000381475, \"symbol\": \"circle\"}, \"mode\": \"markers\", \"name\": \"COD\", \"showlegend\": true, \"type\": \"scattergeo\"}, {\"geo\": \"geo\", \"hovertemplate\": \"<b>%{hovertext}</b><br><br>Country Code=ZMB<br>2014=%{marker.size}<br>Country Name=%{location}<extra></extra>\", \"hovertext\": [25.1000003815], \"legendgroup\": \"ZMB\", \"locations\": [\"Zambia\"], \"marker\": {\"color\": \"#B6E880\", \"size\": [25.1000003815], \"sizemode\": \"area\", \"sizeref\": 0.14475000381475, \"symbol\": \"circle\"}, \"mode\": \"markers\", \"name\": \"ZMB\", \"showlegend\": true, \"type\": \"scattergeo\"}, {\"geo\": \"geo\", \"hovertemplate\": \"<b>%{hovertext}</b><br><br>Country Code=ZWE<br>2014=%{marker.size}<br>Country Name=%{location}<extra></extra>\", \"hovertext\": [9.3999996185], \"legendgroup\": \"ZWE\", \"locations\": [\"Zimbabwe\"], \"marker\": {\"color\": \"#FF97FF\", \"size\": [9.3999996185], \"sizemode\": \"area\", \"sizeref\": 0.14475000381475, \"symbol\": \"circle\"}, \"mode\": \"markers\", \"name\": \"ZWE\", \"showlegend\": true, \"type\": \"scattergeo\"}],                        {\"geo\": {\"center\": {}, \"domain\": {\"x\": [0.0, 1.0], \"y\": [0.0, 1.0]}, \"projection\": {\"type\": \"natural earth\"}}, \"legend\": {\"itemsizing\": \"constant\", \"title\": {\"text\": \"Country Code\"}, \"tracegroupgap\": 0}, \"margin\": {\"t\": 60}, \"template\": {\"data\": {\"bar\": [{\"error_x\": {\"color\": \"#2a3f5f\"}, \"error_y\": {\"color\": \"#2a3f5f\"}, \"marker\": {\"line\": {\"color\": \"#E5ECF6\", \"width\": 0.5}}, \"type\": \"bar\"}], \"barpolar\": [{\"marker\": {\"line\": {\"color\": \"#E5ECF6\", \"width\": 0.5}}, \"type\": \"barpolar\"}], \"carpet\": [{\"aaxis\": {\"endlinecolor\": \"#2a3f5f\", \"gridcolor\": \"white\", \"linecolor\": \"white\", \"minorgridcolor\": \"white\", \"startlinecolor\": \"#2a3f5f\"}, \"baxis\": {\"endlinecolor\": \"#2a3f5f\", \"gridcolor\": \"white\", \"linecolor\": \"white\", \"minorgridcolor\": \"white\", \"startlinecolor\": \"#2a3f5f\"}, \"type\": \"carpet\"}], \"choropleth\": [{\"colorbar\": {\"outlinewidth\": 0, \"ticks\": \"\"}, \"type\": \"choropleth\"}], \"contour\": [{\"colorbar\": {\"outlinewidth\": 0, \"ticks\": \"\"}, \"colorscale\": [[0.0, \"#0d0887\"], [0.1111111111111111, \"#46039f\"], [0.2222222222222222, \"#7201a8\"], [0.3333333333333333, \"#9c179e\"], [0.4444444444444444, \"#bd3786\"], [0.5555555555555556, \"#d8576b\"], [0.6666666666666666, \"#ed7953\"], [0.7777777777777778, \"#fb9f3a\"], [0.8888888888888888, \"#fdca26\"], [1.0, \"#f0f921\"]], \"type\": \"contour\"}], \"contourcarpet\": [{\"colorbar\": {\"outlinewidth\": 0, \"ticks\": \"\"}, \"type\": \"contourcarpet\"}], \"heatmap\": [{\"colorbar\": {\"outlinewidth\": 0, \"ticks\": \"\"}, \"colorscale\": [[0.0, \"#0d0887\"], [0.1111111111111111, \"#46039f\"], [0.2222222222222222, \"#7201a8\"], [0.3333333333333333, \"#9c179e\"], [0.4444444444444444, \"#bd3786\"], [0.5555555555555556, \"#d8576b\"], [0.6666666666666666, \"#ed7953\"], [0.7777777777777778, \"#fb9f3a\"], [0.8888888888888888, \"#fdca26\"], [1.0, \"#f0f921\"]], \"type\": \"heatmap\"}], \"heatmapgl\": [{\"colorbar\": {\"outlinewidth\": 0, \"ticks\": \"\"}, \"colorscale\": [[0.0, \"#0d0887\"], [0.1111111111111111, \"#46039f\"], [0.2222222222222222, \"#7201a8\"], [0.3333333333333333, \"#9c179e\"], [0.4444444444444444, \"#bd3786\"], [0.5555555555555556, \"#d8576b\"], [0.6666666666666666, \"#ed7953\"], [0.7777777777777778, \"#fb9f3a\"], [0.8888888888888888, \"#fdca26\"], [1.0, \"#f0f921\"]], \"type\": \"heatmapgl\"}], \"histogram\": [{\"marker\": {\"colorbar\": {\"outlinewidth\": 0, \"ticks\": \"\"}}, \"type\": \"histogram\"}], \"histogram2d\": [{\"colorbar\": {\"outlinewidth\": 0, \"ticks\": \"\"}, \"colorscale\": [[0.0, \"#0d0887\"], [0.1111111111111111, \"#46039f\"], [0.2222222222222222, \"#7201a8\"], [0.3333333333333333, \"#9c179e\"], [0.4444444444444444, \"#bd3786\"], [0.5555555555555556, \"#d8576b\"], [0.6666666666666666, \"#ed7953\"], [0.7777777777777778, \"#fb9f3a\"], [0.8888888888888888, \"#fdca26\"], [1.0, \"#f0f921\"]], \"type\": \"histogram2d\"}], \"histogram2dcontour\": [{\"colorbar\": {\"outlinewidth\": 0, \"ticks\": \"\"}, \"colorscale\": [[0.0, \"#0d0887\"], [0.1111111111111111, \"#46039f\"], [0.2222222222222222, \"#7201a8\"], [0.3333333333333333, \"#9c179e\"], [0.4444444444444444, \"#bd3786\"], [0.5555555555555556, \"#d8576b\"], [0.6666666666666666, \"#ed7953\"], [0.7777777777777778, \"#fb9f3a\"], [0.8888888888888888, \"#fdca26\"], [1.0, \"#f0f921\"]], \"type\": \"histogram2dcontour\"}], \"mesh3d\": [{\"colorbar\": {\"outlinewidth\": 0, \"ticks\": \"\"}, \"type\": \"mesh3d\"}], \"parcoords\": [{\"line\": {\"colorbar\": {\"outlinewidth\": 0, \"ticks\": \"\"}}, \"type\": \"parcoords\"}], \"pie\": [{\"automargin\": true, \"type\": \"pie\"}], \"scatter\": [{\"marker\": {\"colorbar\": {\"outlinewidth\": 0, \"ticks\": \"\"}}, \"type\": \"scatter\"}], \"scatter3d\": [{\"line\": {\"colorbar\": {\"outlinewidth\": 0, \"ticks\": \"\"}}, \"marker\": {\"colorbar\": {\"outlinewidth\": 0, \"ticks\": \"\"}}, \"type\": \"scatter3d\"}], \"scattercarpet\": [{\"marker\": {\"colorbar\": {\"outlinewidth\": 0, \"ticks\": \"\"}}, \"type\": \"scattercarpet\"}], \"scattergeo\": [{\"marker\": {\"colorbar\": {\"outlinewidth\": 0, \"ticks\": \"\"}}, \"type\": \"scattergeo\"}], \"scattergl\": [{\"marker\": {\"colorbar\": {\"outlinewidth\": 0, \"ticks\": \"\"}}, \"type\": \"scattergl\"}], \"scattermapbox\": [{\"marker\": {\"colorbar\": {\"outlinewidth\": 0, \"ticks\": \"\"}}, \"type\": \"scattermapbox\"}], \"scatterpolar\": [{\"marker\": {\"colorbar\": {\"outlinewidth\": 0, \"ticks\": \"\"}}, \"type\": \"scatterpolar\"}], \"scatterpolargl\": [{\"marker\": {\"colorbar\": {\"outlinewidth\": 0, \"ticks\": \"\"}}, \"type\": \"scatterpolargl\"}], \"scatterternary\": [{\"marker\": {\"colorbar\": {\"outlinewidth\": 0, \"ticks\": \"\"}}, \"type\": \"scatterternary\"}], \"surface\": [{\"colorbar\": {\"outlinewidth\": 0, \"ticks\": \"\"}, \"colorscale\": [[0.0, \"#0d0887\"], [0.1111111111111111, \"#46039f\"], [0.2222222222222222, \"#7201a8\"], [0.3333333333333333, \"#9c179e\"], [0.4444444444444444, \"#bd3786\"], [0.5555555555555556, \"#d8576b\"], [0.6666666666666666, \"#ed7953\"], [0.7777777777777778, \"#fb9f3a\"], [0.8888888888888888, \"#fdca26\"], [1.0, \"#f0f921\"]], \"type\": \"surface\"}], \"table\": [{\"cells\": {\"fill\": {\"color\": \"#EBF0F8\"}, \"line\": {\"color\": \"white\"}}, \"header\": {\"fill\": {\"color\": \"#C8D4E3\"}, \"line\": {\"color\": \"white\"}}, \"type\": \"table\"}]}, \"layout\": {\"annotationdefaults\": {\"arrowcolor\": \"#2a3f5f\", \"arrowhead\": 0, \"arrowwidth\": 1}, \"autotypenumbers\": \"strict\", \"coloraxis\": {\"colorbar\": {\"outlinewidth\": 0, \"ticks\": \"\"}}, \"colorscale\": {\"diverging\": [[0, \"#8e0152\"], [0.1, \"#c51b7d\"], [0.2, \"#de77ae\"], [0.3, \"#f1b6da\"], [0.4, \"#fde0ef\"], [0.5, \"#f7f7f7\"], [0.6, \"#e6f5d0\"], [0.7, \"#b8e186\"], [0.8, \"#7fbc41\"], [0.9, \"#4d9221\"], [1, \"#276419\"]], \"sequential\": [[0.0, \"#0d0887\"], [0.1111111111111111, \"#46039f\"], [0.2222222222222222, \"#7201a8\"], [0.3333333333333333, \"#9c179e\"], [0.4444444444444444, \"#bd3786\"], [0.5555555555555556, \"#d8576b\"], [0.6666666666666666, \"#ed7953\"], [0.7777777777777778, \"#fb9f3a\"], [0.8888888888888888, \"#fdca26\"], [1.0, \"#f0f921\"]], \"sequentialminus\": [[0.0, \"#0d0887\"], [0.1111111111111111, \"#46039f\"], [0.2222222222222222, \"#7201a8\"], [0.3333333333333333, \"#9c179e\"], [0.4444444444444444, \"#bd3786\"], [0.5555555555555556, \"#d8576b\"], [0.6666666666666666, \"#ed7953\"], [0.7777777777777778, \"#fb9f3a\"], [0.8888888888888888, \"#fdca26\"], [1.0, \"#f0f921\"]]}, \"colorway\": [\"#636efa\", \"#EF553B\", \"#00cc96\", \"#ab63fa\", \"#FFA15A\", \"#19d3f3\", \"#FF6692\", \"#B6E880\", \"#FF97FF\", \"#FECB52\"], \"font\": {\"color\": \"#2a3f5f\"}, \"geo\": {\"bgcolor\": \"white\", \"lakecolor\": \"white\", \"landcolor\": \"#E5ECF6\", \"showlakes\": true, \"showland\": true, \"subunitcolor\": \"white\"}, \"hoverlabel\": {\"align\": \"left\"}, \"hovermode\": \"closest\", \"mapbox\": {\"style\": \"light\"}, \"paper_bgcolor\": \"white\", \"plot_bgcolor\": \"#E5ECF6\", \"polar\": {\"angularaxis\": {\"gridcolor\": \"white\", \"linecolor\": \"white\", \"ticks\": \"\"}, \"bgcolor\": \"#E5ECF6\", \"radialaxis\": {\"gridcolor\": \"white\", \"linecolor\": \"white\", \"ticks\": \"\"}}, \"scene\": {\"xaxis\": {\"backgroundcolor\": \"#E5ECF6\", \"gridcolor\": \"white\", \"gridwidth\": 2, \"linecolor\": \"white\", \"showbackground\": true, \"ticks\": \"\", \"zerolinecolor\": \"white\"}, \"yaxis\": {\"backgroundcolor\": \"#E5ECF6\", \"gridcolor\": \"white\", \"gridwidth\": 2, \"linecolor\": \"white\", \"showbackground\": true, \"ticks\": \"\", \"zerolinecolor\": \"white\"}, \"zaxis\": {\"backgroundcolor\": \"#E5ECF6\", \"gridcolor\": \"white\", \"gridwidth\": 2, \"linecolor\": \"white\", \"showbackground\": true, \"ticks\": \"\", \"zerolinecolor\": \"white\"}}, \"shapedefaults\": {\"line\": {\"color\": \"#2a3f5f\"}}, \"ternary\": {\"aaxis\": {\"gridcolor\": \"white\", \"linecolor\": \"white\", \"ticks\": \"\"}, \"baxis\": {\"gridcolor\": \"white\", \"linecolor\": \"white\", \"ticks\": \"\"}, \"bgcolor\": \"#E5ECF6\", \"caxis\": {\"gridcolor\": \"white\", \"linecolor\": \"white\", \"ticks\": \"\"}}, \"title\": {\"x\": 0.05}, \"xaxis\": {\"automargin\": true, \"gridcolor\": \"white\", \"linecolor\": \"white\", \"ticks\": \"\", \"title\": {\"standoff\": 15}, \"zerolinecolor\": \"white\", \"zerolinewidth\": 2}, \"yaxis\": {\"automargin\": true, \"gridcolor\": \"white\", \"linecolor\": \"white\", \"ticks\": \"\", \"title\": {\"standoff\": 15}, \"zerolinecolor\": \"white\", \"zerolinewidth\": 2}}}},                        {\"responsive\": true}                    ).then(function(){\n",
       "                            \n",
       "var gd = document.getElementById('5fb82d28-1e91-442f-9c51-870fca24635b');\n",
       "var x = new MutationObserver(function (mutations, observer) {{\n",
       "        var display = window.getComputedStyle(gd).display;\n",
       "        if (!display || display === 'none') {{\n",
       "            console.log([gd, 'removed!']);\n",
       "            Plotly.purge(gd);\n",
       "            observer.disconnect();\n",
       "        }}\n",
       "}});\n",
       "\n",
       "// Listen for the removal of the full notebook cells\n",
       "var notebookContainer = gd.closest('#notebook-container');\n",
       "if (notebookContainer) {{\n",
       "    x.observe(notebookContainer, {childList: true});\n",
       "}}\n",
       "\n",
       "// Listen for the clearing of the current output cell\n",
       "var outputEl = gd.closest('.output');\n",
       "if (outputEl) {{\n",
       "    x.observe(outputEl, {childList: true});\n",
       "}}\n",
       "\n",
       "                        })                };                });            </script>        </div>"
      ]
     },
     "metadata": {},
     "output_type": "display_data"
    }
   ],
   "source": [
    "import plotly.express as px\n",
    "fig = px.scatter_geo(data, locations=\"Country Name\", color=\"Country Code\",\n",
    "                     hover_name=\"2014\", size=\"2014\",\n",
    "                     projection=\"natural earth\")\n",
    "fig.show()"
   ]
  },
  {
   "cell_type": "markdown",
   "metadata": {},
   "source": [
    "### Using Altair"
   ]
  },
  {
   "cell_type": "code",
   "execution_count": 6,
   "metadata": {},
   "outputs": [
    {
     "data": {
      "text/html": [
       "\n",
       "<div id=\"altair-viz-9dc98435f5c54684ac8d9eeca1792d3d\"></div>\n",
       "<script type=\"text/javascript\">\n",
       "  (function(spec, embedOpt){\n",
       "    let outputDiv = document.currentScript.previousElementSibling;\n",
       "    if (outputDiv.id !== \"altair-viz-9dc98435f5c54684ac8d9eeca1792d3d\") {\n",
       "      outputDiv = document.getElementById(\"altair-viz-9dc98435f5c54684ac8d9eeca1792d3d\");\n",
       "    }\n",
       "    const paths = {\n",
       "      \"vega\": \"https://cdn.jsdelivr.net/npm//vega@5?noext\",\n",
       "      \"vega-lib\": \"https://cdn.jsdelivr.net/npm//vega-lib?noext\",\n",
       "      \"vega-lite\": \"https://cdn.jsdelivr.net/npm//vega-lite@4.8.1?noext\",\n",
       "      \"vega-embed\": \"https://cdn.jsdelivr.net/npm//vega-embed@6?noext\",\n",
       "    };\n",
       "\n",
       "    function loadScript(lib) {\n",
       "      return new Promise(function(resolve, reject) {\n",
       "        var s = document.createElement('script');\n",
       "        s.src = paths[lib];\n",
       "        s.async = true;\n",
       "        s.onload = () => resolve(paths[lib]);\n",
       "        s.onerror = () => reject(`Error loading script: ${paths[lib]}`);\n",
       "        document.getElementsByTagName(\"head\")[0].appendChild(s);\n",
       "      });\n",
       "    }\n",
       "\n",
       "    function showError(err) {\n",
       "      outputDiv.innerHTML = `<div class=\"error\" style=\"color:red;\">${err}</div>`;\n",
       "      throw err;\n",
       "    }\n",
       "\n",
       "    function displayChart(vegaEmbed) {\n",
       "      vegaEmbed(outputDiv, spec, embedOpt)\n",
       "        .catch(err => showError(`Javascript Error: ${err.message}<br>This usually means there's a typo in your chart specification. See the javascript console for the full traceback.`));\n",
       "    }\n",
       "\n",
       "    if(typeof define === \"function\" && define.amd) {\n",
       "      requirejs.config({paths});\n",
       "      require([\"vega-embed\"], displayChart, err => showError(`Error loading script: ${err.message}`));\n",
       "    } else if (typeof vegaEmbed === \"function\") {\n",
       "      displayChart(vegaEmbed);\n",
       "    } else {\n",
       "      loadScript(\"vega\")\n",
       "        .then(() => loadScript(\"vega-lite\"))\n",
       "        .then(() => loadScript(\"vega-embed\"))\n",
       "        .catch(showError)\n",
       "        .then(() => displayChart(vegaEmbed));\n",
       "    }\n",
       "  })({\"config\": {\"view\": {\"continuousWidth\": 400, \"continuousHeight\": 300}}, \"data\": {\"url\": \"https://vega.github.io/vega-datasets/data/zipcodes.csv\"}, \"mark\": {\"type\": \"circle\", \"size\": 3}, \"encoding\": {\"color\": {\"type\": \"nominal\", \"field\": \"leading digit\"}, \"latitude\": {\"field\": \"latitude\", \"type\": \"quantitative\"}, \"longitude\": {\"field\": \"longitude\", \"type\": \"quantitative\"}, \"tooltip\": {\"type\": \"nominal\", \"field\": \"zip_code\"}}, \"height\": 400, \"projection\": {\"type\": \"albersUsa\"}, \"transform\": [{\"calculate\": \"substring(datum.zip_code,0,1)\", \"as\": \"leading digit\"}], \"width\": 650, \"$schema\": \"https://vega.github.io/schema/vega-lite/v4.8.1.json\"}, {\"mode\": \"vega-lite\"});\n",
       "</script>"
      ],
      "text/plain": [
       "alt.Chart(...)"
      ]
     },
     "execution_count": 6,
     "metadata": {},
     "output_type": "execute_result"
    }
   ],
   "source": [
    "import altair as alt\n",
    "from vega_datasets import data\n",
    "\n",
    "# Since the data is more than 5,000 rows we'll import it from a URL\n",
    "source = data.zipcodes.url\n",
    "\n",
    "alt.Chart(source).transform_calculate(\n",
    "    \"leading digit\", alt.expr.substring(alt.datum.zip_code, 0, 1)\n",
    ").mark_circle(size=3).encode(\n",
    "    longitude='longitude:Q',\n",
    "    latitude='latitude:Q',\n",
    "    color='leading digit:N',\n",
    "    tooltip='zip_code:N'\n",
    ").project(\n",
    "    type='albersUsa'\n",
    ").properties(\n",
    "    width=650,\n",
    "    height=400\n",
    ")"
   ]
  },
  {
   "cell_type": "code",
   "execution_count": null,
   "metadata": {},
   "outputs": [],
   "source": []
  }
 ],
 "metadata": {
  "kernelspec": {
   "display_name": "Python 3",
   "language": "python",
   "name": "python3"
  },
  "language_info": {
   "codemirror_mode": {
    "name": "ipython",
    "version": 3
   },
   "file_extension": ".py",
   "mimetype": "text/x-python",
   "name": "python",
   "nbconvert_exporter": "python",
   "pygments_lexer": "ipython3",
   "version": "3.7.4"
  }
 },
 "nbformat": 4,
 "nbformat_minor": 2
}
