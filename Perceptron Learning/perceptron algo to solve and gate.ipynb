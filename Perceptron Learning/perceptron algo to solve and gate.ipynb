{
 "cells": [
  {
   "cell_type": "code",
   "execution_count": 7,
   "metadata": {},
   "outputs": [],
   "source": [
    "import numpy as np"
   ]
  },
  {
   "cell_type": "code",
   "execution_count": 12,
   "metadata": {},
   "outputs": [],
   "source": [
    "def unitStep(v):\n",
    "    if v >=0:\n",
    "        return 1\n",
    "    else:\n",
    "        return 0"
   ]
  },
  {
   "cell_type": "code",
   "execution_count": 13,
   "metadata": {},
   "outputs": [],
   "source": [
    "# design Perceptron Model\n",
    "def perceptronModel(x, w, b):\n",
    "    v =np.dot(w, x) +b\n",
    "    y =unitStep(v)\n",
    "    return y\n",
    "  # AND Logic Function\n",
    "# w1 = 1, w2 = 1, b = -1.5\n",
    "def AND_logicFunction(x):\n",
    "    w =np.array([1, 1])\n",
    "    b =-1.5\n",
    "    return perceptronModel(x, w, b)"
   ]
  },
  {
   "cell_type": "code",
   "execution_count": 14,
   "metadata": {},
   "outputs": [],
   "source": [
    "# testing the Perceptron Model\n",
    "test1 =np.array([0, 1])\n",
    "test2 =np.array([1, 1])\n",
    "test3 =np.array([0, 0])\n",
    "test4 =np.array([1, 0])"
   ]
  },
  {
   "cell_type": "code",
   "execution_count": 15,
   "metadata": {},
   "outputs": [
    {
     "name": "stdout",
     "output_type": "stream",
     "text": [
      "AND(0, 1) = 0\n",
      "AND(1, 1) = 1\n",
      "AND(0, 0) = 0\n",
      "AND(1, 0) = 0\n"
     ]
    }
   ],
   "source": [
    "print(\"AND({}, {}) = {}\".format(0, 1, AND_logicFunction(test1)))\n",
    "print(\"AND({}, {}) = {}\".format(1, 1, AND_logicFunction(test2)))\n",
    "print(\"AND({}, {}) = {}\".format(0, 0, AND_logicFunction(test3)))\n",
    "print(\"AND({}, {}) = {}\".format(1, 0, AND_logicFunction(test4)))"
   ]
  },
  {
   "cell_type": "code",
   "execution_count": null,
   "metadata": {},
   "outputs": [],
   "source": []
  }
 ],
 "metadata": {
  "kernelspec": {
   "display_name": "Python 3",
   "language": "python",
   "name": "python3"
  },
  "language_info": {
   "codemirror_mode": {
    "name": "ipython",
    "version": 3
   },
   "file_extension": ".py",
   "mimetype": "text/x-python",
   "name": "python",
   "nbconvert_exporter": "python",
   "pygments_lexer": "ipython3",
   "version": "3.7.4"
  }
 },
 "nbformat": 4,
 "nbformat_minor": 2
}
